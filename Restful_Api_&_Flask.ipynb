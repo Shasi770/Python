{
  "nbformat": 4,
  "nbformat_minor": 0,
  "metadata": {
    "colab": {
      "provenance": []
    },
    "kernelspec": {
      "name": "python3",
      "display_name": "Python 3"
    },
    "language_info": {
      "name": "python"
    }
  },
  "cells": [
    {
      "cell_type": "markdown",
      "source": [
        "#1.What is a RESTful API?\n",
        "  - API(Application programming interface) is set of rules that allows two\n",
        "     software communicate to each other.\n",
        "\n",
        "#2.Explain the concept of API specification.\n",
        "  - An API specification is a formal document that defines how an API works,\n",
        "     including its behavior, data structures, and interactions with other systems.\n",
        "\n",
        "#3.What is Flask, and why is it popular for building APIs?\n",
        "  - Flask is a lightweight, minimal web framework in Python. It helps you  build  web applications and APIs easily.\n",
        "  - Python Flask is a popular framework for building web applications and APIs\n",
        "     in Python. It provides developers with a quick and easy way to create RESTful APIs.\n",
        "\n",
        "#4.What is routing in Flask?\n",
        "  - Routing in Flask refers to the process of mapping URLs to functions in your\n",
        "     Python application. Each route defines a specific URL pattern that the application responds to and links it to a view function (a function that returns the response for that route).\n",
        "\n",
        "#5.How do you create a simple Flask application?\n",
        "  1. a. Open your terminal or command prompt\n",
        "     b. (Optional) Create a virtual environment:\n",
        "     python -m venv myenv\n",
        "     c. Activate the virtual environment:\n",
        "     On Windows:\n",
        "     myenv\\Scripts\\activate\n",
        "     d. Install Flask using pip:\n",
        "     pip install flask\n",
        "     e. Verify Flask installation:\n",
        "     python -m flask --version\n",
        "\n",
        "  2.Your First Flask Application (Step-by-Step with Code)\n",
        "   Now let's build a simple Flask app that returns a  message.\n",
        "\n",
        "#6.What are HTTP methods used in RESTful APIs?\n",
        "  - RESTful APIs primarily use the HTTP methods GET, POST, PUT, PATCH, and\n",
        "   DELETE to perform CRUD operations on resources. These methods represent create, read, update, and delete (or CRUD) actions, respectively. While other HTTP methods exist, these are the most common and fundamental in RESTful API design.\n",
        "\n",
        "#7.What is the purpose of the @app.route() decorator in Flask?\n",
        "  - The @app.route() decorator in Flask is used to bind a URL path to a  \n",
        "   specific function. It essentially tells Flask which function should be executed when a user visits a particular URL in the web application.\n",
        "\n",
        "#8.What is the difference between GET and POST HTTP methods?\n",
        "  - The primary difference between GET and POST HTTP methods lies in their\n",
        "   intended use: GET retrieves data, while POST submits data to create or update a resource.\n",
        "\n",
        "#9.How do you handle errors in Flask APIs?\n",
        "  - This can be done by registering error handlers. When Flask catches an\n",
        "   exception while handling a request, it is first looked up by code. If no handler is registered for the code, Flask looks up the error by its class hierarchy.\n",
        "\n",
        "#10.How do you connect Flask to a SQL database?\n",
        "   - To create a database and import SQLAlchemy in app.py, set up SQLite\n",
        "     configuration, and create a database instance then set up Flask, connect it to a SQLite database (site. db), and use db. create_all() to create the database when the app runs.\n",
        "\n",
        "#11.What is the role of Flask-SQLAlchemy?\n",
        "   - Flask-SQLAlchemy is a Flask extension that makes using SQLAlchemy with\n",
        "     Flask easier, providing you tools and methods to interact with your database in your Flask applications through SQLAlchemy.\n",
        "\n",
        "#12.What are Flask blueprints, and how are they useful?\n",
        "   - Each Flask Blueprint is an object that works very similarly to a Flask\n",
        "     application. They both can have resources, such as static files, templates, and views that are associated with routes. However, a Flask Blueprint is not actually an application. It needs to be registered in an application before you can run it.\n",
        "\n",
        "#13.What is the purpose of Flask's request object?\n",
        "   - The Flask request object serves as a carrier for all incoming data sent    from the client (e.g., a web browser) to the server. It encapsulates various\n",
        "   components of the HTTP request, providing a convenient way to access and process this information within Flask applications.\n",
        "\n",
        "#14.How do you create a RESTful API endpoint using Flask?\n",
        "   - Install flask:\n",
        "         a.pip install flask.\n",
        "         b.create a flask app.\n",
        "         c.define the endpoint using routes.\n",
        "         d.run the code.\n",
        "#15.What is the purpose of Flask's jsonify() function?\n",
        "   - Flask's jsonify() function's purpose is to convert Python data (like\n",
        "     dictionaries or lists) into JSON format and return it as a response, automatically setting the correct Content-Type header for JSON. This simplifies creating API endpoints that return JSON data in Flask applications.\n",
        "\n",
        "\n",
        "#16.Explain Flask's url_for() function.\n",
        "   - The url_for() function takes the function name as its first argument, and  any number of keyword arguments, each corresponding to a variable part of the URL rule. Unknown variable parts are appended to the URL as query parameters.\n",
        "\n",
        "#17.How does Flask handle static files (CSS, JavaScript, etc.)?\n",
        "   - Flask handles static files, such as CSS, JavaScript, and images, through a\n",
        "     designated \"static\" folder within your application directory. By default, Flask assumes this folder exists at the root level, alongside your main application file or package.\n",
        "\n",
        "#18.What is an API specification, and how does it help in building a Flask API?\n",
        "   - An API specification is a detailed document or blueprint that defines how\n",
        "     an API should behave. It outlines the available endpoints, request methods (GET, POST, PUT, DELETE, etc.), request/response formats, authentication methods, status codes, and expected behavior.\n",
        "   - It help in bulding a flask API:-\n",
        "     \n",
        "     1. Clear Structure Before Coding\n",
        "     2. Auto-Generated Documentation\n",
        "     3. Validation and Consistency\n",
        "     4. Mocking and Testing\n",
        "     5. Automatic Code Generation\n",
        "\n",
        "#19.What are HTTP status codes, and why are they important in a Flask API\n",
        "   - HTTP status codes are three-digit codes that indicate the outcome of an\n",
        "     HTTP request sent by a client (like a browser) to a server.HTTP status codes play a crucial role in a Flask API by providing standardized communication about the outcome of client requests.\n",
        "\n",
        "#20.How do you handle POST requests in Flask?\n",
        "   - Handling POST requests in Flask involves specifying the allowed methods in\n",
        "     the route decorator and accessing the request data using the request object.\n",
        "\n",
        "#21.How would you secure a Flask API?\n",
        "   - Securing a Flask API is crucial to prevent unauthorized access, data\n",
        "     breaches, and abuse.secure a flask API using several steps and techniques-\n",
        "     use http,authentication,authorization,rate limiting,Securing a Flask API is crucial to prevent unauthorized access, data breaches, and abuse,CORS (Cross-Origin Resource Sharing),Secure Headers, Logging and Monitoring.\n",
        "\n",
        "#22.What is the significance of the Flask-RESTful extension?\n",
        "   - The Flask-RESTful extension significantly simplifies building RESTful APIs\n",
        "     in Python using the Flask framework. It provides tools and abstractions for defining resources, handling HTTP methods, and managing requests and responses, leading to cleaner, more organized, and efficient API development.\n",
        "\n",
        "#23.What is the role of Flask’s session object?\n",
        "   - In Flask, the session object allows you to store user-specific data across multiple requests, effectively maintaining a user's state between interactions with the web application.\n",
        "\n",
        "\n",
        "\n",
        "\n",
        "\n",
        "\n",
        "\n",
        "\n",
        "\n",
        "\n",
        "\n",
        "\n"
      ],
      "metadata": {
        "id": "r2ZpB0rapxQ_"
      }
    },
    {
      "cell_type": "code",
      "execution_count": null,
      "metadata": {
        "colab": {
          "base_uri": "https://localhost:8080/"
        },
        "id": "0-UVANzVU_Az",
        "outputId": "ada4e843-4679-417a-f8b6-27c2f2536c66"
      },
      "outputs": [
        {
          "metadata": {
            "tags": null
          },
          "name": "stdout",
          "output_type": "stream",
          "text": [
            " * Serving Flask app '__main__'\n",
            " * Debug mode: on\n"
          ]
        },
        {
          "metadata": {
            "tags": null
          },
          "name": "stderr",
          "output_type": "stream",
          "text": [
            "INFO:werkzeug:\u001b[31m\u001b[1mWARNING: This is a development server. Do not use it in a production deployment. Use a production WSGI server instead.\u001b[0m\n",
            " * Running on http://127.0.0.1:5000\n",
            "INFO:werkzeug:\u001b[33mPress CTRL+C to quit\u001b[0m\n",
            "INFO:werkzeug: * Restarting with stat\n"
          ]
        }
      ],
      "source": [
        "#1.How do you create a basic Flask application?\n",
        "from flask import Flask\n",
        "\n",
        "app = Flask(__name__)\n",
        "\n",
        "@app.route('/')\n",
        "def hello_world():\n",
        "    return 'Hello World!!'\n",
        "\n",
        "    app.run(debug=True)\n"
      ]
    },
    {
      "cell_type": "code",
      "source": [
        "#2.How do you serve static files like images or CSS in Flask?\n",
        "from flask import current_app\n",
        "\n",
        "@app.route('/logo')\n",
        "def flask_logo():\n",
        "    return current_app.send_static_file('flask-logo.png')"
      ],
      "metadata": {
        "id": "3FBf-_utkT0c"
      },
      "execution_count": null,
      "outputs": []
    },
    {
      "cell_type": "code",
      "source": [
        "#3.How do you define different routes with different HTTP methods in Flask?\n",
        "from flask import Flask, request\n",
        "\n",
        "app = Flask(__name__)\n",
        "\n",
        "@app.route('/hello', methods=['GET', 'POST'])\n",
        "def hello():\n",
        "    if request.method == 'POST':\n",
        "        name = request.form['name']\n",
        "        return f'Hello, {name}!'\n",
        "    else:\n",
        "        return 'Welcome to the website!'\n",
        "\n"
      ],
      "metadata": {
        "id": "PjCU-Qb5lARv"
      },
      "execution_count": null,
      "outputs": []
    },
    {
      "cell_type": "code",
      "source": [
        "#4.How do you render HTML templates in Flask?\n",
        "from flask import Flask, render_template\n",
        "\n",
        "app = Flask(__name__)\n",
        "\n",
        "@app.route('/')\n",
        "def index():\n",
        "    return render_template('index.html')\n"
      ],
      "metadata": {
        "id": "__s91VzemRjs"
      },
      "execution_count": null,
      "outputs": []
    },
    {
      "cell_type": "code",
      "source": [
        "#5.How can you generate URLs for routes in Flask using url_for?\n",
        "from flask import Flask, url_for\n",
        "\n",
        "app = Flask(__name__)\n",
        "\n",
        "@app.route('/')\n",
        "def index():\n",
        "    return 'Welcome to the homepage!'\n",
        "\n",
        "@app.route('/about')\n",
        "def about():\n",
        "    return 'This is the about page.'\n"
      ],
      "metadata": {
        "id": "e9--W7LZmjlq"
      },
      "execution_count": null,
      "outputs": []
    },
    {
      "cell_type": "code",
      "source": [
        "#6.How do you handle forms in Flask?\n",
        "from flask import Flask, render_template, request\n",
        "\n",
        "app = Flask(__name__)\n",
        "\n",
        "@app.route('/')\n",
        "def index():\n",
        "    return render_template('index.html')\n"
      ],
      "metadata": {
        "id": "JEpJH9iKoi8a"
      },
      "execution_count": null,
      "outputs": []
    },
    {
      "cell_type": "code",
      "source": [
        "#7.How can you validate form data in Flask?\n",
        "@app.route('/submit', methods=['POST'])\n",
        "def submit_form():\n",
        "    username = request.form['username']\n",
        "    password = request.form['password']\n",
        "    if validate_user(username, password):\n",
        "        return 'Form submitted successfully!'\n",
        "    else:\n",
        "        return 'Invalid username or password.'\n",
        "\n"
      ],
      "metadata": {
        "id": "ij8zOaBDozRt"
      },
      "execution_count": null,
      "outputs": []
    },
    {
      "cell_type": "code",
      "source": [
        "#8.How do you manage sessions in Flask?\n",
        "from flask import Flask, session\n",
        "app.secret_key = 'your_secret_key'\n",
        "\n",
        "@app.route('/set')\n",
        "def set_session():\n",
        "    session['username'] = 'John Doe'\n",
        "    return 'Session set.'\n",
        "\n",
        "@app.route('/get')\n",
        "def get_session():\n",
        " return f'Hello, {session.get(\"username\", \"Friend\")}'\n",
        "\n"
      ],
      "metadata": {
        "id": "i8ITK4HBxmXC"
      },
      "execution_count": null,
      "outputs": []
    },
    {
      "cell_type": "code",
      "source": [
        "#9.How do you redirect to a different route in Flask?\n",
        "from flask import Flask, redirect, url_for\n",
        "\n",
        "app = Flask(__name__)\n",
        "\n",
        "@app.route('/')\n",
        "def index():\n",
        "    return 'Welcome to the homepage!'\n",
        "\n",
        "@app.route('/about')\n",
        "def about():\n",
        "    return 'This is the about page.'\n"
      ],
      "metadata": {
        "id": "Saey54mOym3R"
      },
      "execution_count": null,
      "outputs": []
    },
    {
      "cell_type": "code",
      "source": [
        "#10.How do you handle errors in Flask (e.g., 404)?\n",
        "from flask import Flask, render_template, abort\n",
        "\n",
        "app = Flask(__name__)\n",
        "\n",
        "@app.errorhandler(404)\n",
        "def page_not_found(error):\n",
        "    return render_template('404.html'), 404\n"
      ],
      "metadata": {
        "id": "c0WQEkygy2A7"
      },
      "execution_count": null,
      "outputs": []
    },
    {
      "cell_type": "code",
      "source": [
        "#11.How do you structure a Flask app using Blueprints\n",
        "from flask import Blueprint, render_template, redirect, url_for\n",
        "from.forms import LoginForm\n",
        "\n",
        "auth = Blueprint('auth', __name__)\n",
        "\n",
        "@auth.route('/login', methods=['GET', 'POST'])\n",
        "def login():\n",
        "    form = LoginForm()\n",
        "    if form.validate_on_submit():\n",
        "\n",
        "        return redirect(url_for('index'))\n",
        "    return render_template('auth/login.html', form=form)\n",
        "\n"
      ],
      "metadata": {
        "id": "KpuZxI193ZgG"
      },
      "execution_count": null,
      "outputs": []
    },
    {
      "cell_type": "code",
      "source": [
        "#12.How do you define a custom Jinja filter in Flask?\n",
        "from flask import Flask\n",
        "\n",
        "app = Flask(__name__)\n",
        "\n",
        "def reverse_filter(s):\n",
        "    return s[::-1]\n",
        "\n",
        "app.jinja_env.filters['reverse'] = reverse_filter\n",
        "\n",
        "if __name__ == '__main__':\n",
        "    app.run(debug=True)\n",
        "\n"
      ],
      "metadata": {
        "colab": {
          "base_uri": "https://localhost:8080/"
        },
        "id": "KPcOoYL7Ef0O",
        "outputId": "af10520b-66dc-46c5-defc-c76937a00401"
      },
      "execution_count": null,
      "outputs": [
        {
          "output_type": "stream",
          "name": "stdout",
          "text": [
            " * Serving Flask app '__main__'\n",
            " * Debug mode: on\n"
          ]
        },
        {
          "output_type": "stream",
          "name": "stderr",
          "text": [
            "INFO:werkzeug:\u001b[31m\u001b[1mWARNING: This is a development server. Do not use it in a production deployment. Use a production WSGI server instead.\u001b[0m\n",
            " * Running on http://127.0.0.1:5000\n",
            "INFO:werkzeug:\u001b[33mPress CTRL+C to quit\u001b[0m\n",
            "INFO:werkzeug: * Restarting with stat\n"
          ]
        }
      ]
    },
    {
      "cell_type": "code",
      "source": [
        "#13.How can you redirect with query parameters in Flask?\n",
        "from flask import Flask, redirect, url_for\n",
        "\n",
        "app = Flask(__name__)\n",
        "\n",
        "@app.route('/target')\n",
        "def target():\n",
        "    return 'Target page'\n",
        "\n",
        "@app.route('/redirect-with-query')\n",
        "def redirect_with_query():\n",
        "    return redirect(url_for('target', param1='value1', param2='value2'))\n",
        "\n",
        "if __name__ == '__main__':\n",
        "    app.run(debug=True)\n"
      ],
      "metadata": {
        "colab": {
          "base_uri": "https://localhost:8080/"
        },
        "id": "wFhlk0vpHUl2",
        "outputId": "f300a955-c00c-4649-a89e-70bfd2346d4f"
      },
      "execution_count": null,
      "outputs": [
        {
          "output_type": "stream",
          "name": "stdout",
          "text": [
            " * Serving Flask app '__main__'\n",
            " * Debug mode: on\n"
          ]
        },
        {
          "output_type": "stream",
          "name": "stderr",
          "text": [
            "INFO:werkzeug:\u001b[31m\u001b[1mWARNING: This is a development server. Do not use it in a production deployment. Use a production WSGI server instead.\u001b[0m\n",
            " * Running on http://127.0.0.1:5000\n",
            "INFO:werkzeug:\u001b[33mPress CTRL+C to quit\u001b[0m\n",
            "INFO:werkzeug: * Restarting with stat\n"
          ]
        }
      ]
    },
    {
      "cell_type": "code",
      "source": [
        "#14. How do you return JSON responses in Flask\n",
        "from flask import Flask, jsonify\n",
        "\n",
        "app = Flask(__name__)\n",
        "\n",
        "@app.route('/data')\n",
        "def data():\n",
        "    data = {'name': 'Alice','age': 25}\n",
        "    return jsonify(data)"
      ],
      "metadata": {
        "id": "zOfWFo7P2Us3"
      },
      "execution_count": null,
      "outputs": []
    },
    {
      "cell_type": "code",
      "source": [
        "#15.How do you capture URL parameters in Flask?\n",
        "from flask import Flask, request\n",
        "\n",
        "app = Flask(__name__)\n",
        "\n",
        "@app.route('/user/')\n",
        "def user_profile(username):\n",
        "    return f'Hello, {username}!'\n"
      ],
      "metadata": {
        "id": "4r_C8eKa3bV2"
      },
      "execution_count": null,
      "outputs": []
    }
  ]
}