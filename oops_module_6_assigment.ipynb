{
  "nbformat": 4,
  "nbformat_minor": 0,
  "metadata": {
    "colab": {
      "provenance": []
    },
    "kernelspec": {
      "name": "python3",
      "display_name": "Python 3"
    },
    "language_info": {
      "name": "python"
    }
  },
  "cells": [
    {
      "cell_type": "markdown",
      "source": [
        "1.  What is Object-Oriented Programming (OOP)?\n",
        "     - Object-Oriented Programming (OOP) is a programming paradigm (style)\n",
        "       based on the concept of \"objects\", which can contain:\n",
        "\n",
        "        -  Data (in the form of attributes or properties)\n",
        "\n",
        "        -  Code (in the form of methods or functions)\n",
        "\n",
        "         OOP allows you to structure your code to model real-world entities, making programs more organized, reusable, and easier to manage.\n",
        "\n",
        "2.  What is a class in OOP?\n",
        "    - A class is like a blueprint or template for creating objects\n",
        "      (instances). It defines what attributes (data) and methods (functions) an\n",
        "      object will have.\n",
        "\n",
        "3.  What is an object in OOP?\n",
        "     - An object is an instance of a class. It's a concrete \"thing\" created\n",
        "       using a class blueprint. Objects have:\n",
        "\n",
        "        - Attributes (data) — e.g., name, age, color\n",
        "\n",
        "        - Methods (behaviors/functions) — e.g., speak, run, sleep\n",
        "\n",
        "4.  What is the difference between abstraction and encapsulation?\n",
        "     -  1. Abstraction:-\n",
        "             Abstraction means hiding the complex internal details and showing only the essential features of an object.\n",
        "\n",
        "             Think of it like using a TV remote — you press buttons without knowing how it works inside.\n",
        "\n",
        "           Purpose:-\n",
        "            - Focuses on what an object does.\n",
        "\n",
        "            - Hides implementation details from the user.\n",
        "      \n",
        "     -  2. Encapsulation\n",
        "             Encapsulation means wrapping the data (attributes) and the code (methods) into a single unit (class) and restricting access to parts of it.\n",
        "\n",
        "           Like putting valuables in a safe — only those with a key (method) can access it.\n",
        "\n",
        "        Purpose:-\n",
        "           - Protects data from unauthorized access.\n",
        "\n",
        "           - Encourages modular, secure code     \n",
        "\n",
        "5.  What are dunder methods in Python?\n",
        "\n",
        "     - Dunder methods (short for “Double UNDerscore”) are special built-in\n",
        "       methods in Python that start and end with double underscores — like __init__, __str__, __len__, etc.\n",
        "\n",
        "     These are also called:-\n",
        "\n",
        "         - Magic methods\n",
        "\n",
        "         - Special methods\n",
        "6.  Explain the concept of inheritance in OOP?\n",
        "     - Inheritance is a feature in OOP that allows a class (child/derived\n",
        "       class) to inherit properties and methods from another class (parent/base class).\n",
        "7.  What is polymorphism in OOP?\n",
        "     - Polymorphism means \"many forms\". In OOP, it refers to the ability of\n",
        "       different objects to respond to the same method or function in different ways.\n",
        "\n",
        "      In simple terms:- the same method name can behave differently depending on the object calling it.\n",
        "\n",
        "8.  How is encapsulation achieved in Python?\n",
        "     - Python uses naming conventions to achieve encapsulation:-\n",
        "\n",
        "             Access Level     \tSyntax\t     Description\n",
        "              Public\t         self.name\t  Accessible from anywhere\n",
        "              Protected\t       self._name \tShould not be accessed outside class (by convention)\n",
        "              Private\t         self.__name\t Name mangled to prevent outside access\n",
        "9.  What is a constructor in Python?\n",
        "     - A constructor in Python is a special method that gets called\n",
        "       automatically when you create a new object from a class. It is used to initialize the attributes of a class.\n",
        "       \n",
        "       Constructor Syntax:- def __init__(self):\n",
        "\n",
        "10.  What are class and static methods in Python?\n",
        "      - In Python, class methods and static methods are two special types of\n",
        "        methods that behave differently than regular instance method.\n",
        "\n",
        "11.  What is method overloading in Python?\n",
        "      - Method overloading is the ability to define multiple methods with the\n",
        "        same name but different arguments. In many programming languages (like Java or C++), this is done through method signatures. But in Python, true method overloading does not exist like in those languages.\n",
        "\n",
        "        However, Python can simulate method overloading by using:\n",
        "\n",
        "         -  Default arguments\n",
        "\n",
        "         -  Variable-length arguments (*args, **kwargs)\n",
        "\n",
        "12.  What is method overriding in OOP?\n",
        "      - Method overriding occurs when a subclass (child class) provides a\n",
        "        specific implementation of a method that is already defined in its superclass (parent class).\n",
        "\n",
        "        It allows a child class to customize or replace the behavior of a method inherited from its parent.\n",
        "\n",
        "13.  What is a property decorator in Python\n",
        "     - The @property decorator in Python is used to define a method as a   \n",
        "       read-only property — it allows you to access a method like an attribute, without calling it with ().\n",
        "\n",
        "14.  Why is polymorphism important in OOP?\n",
        "      - Polymorphism allows objects of different classes to be treated as       objects of a common superclass, especially when they share a common    \n",
        "        interface or method name.\n",
        "\n",
        "     Importance of polymorphism:-\n",
        "        - Code Reusability\n",
        "        - Improved Maintainability\n",
        "        - Scalability and Flexibility\n",
        "        - Supports Dynamic Method Binding\n",
        "\n",
        "15.  What is an abstract class in Python?\n",
        "      - An abstract class in Python is a class that cannot be instantiated\n",
        "        directly. It is meant to serve as a blueprint for other classes. Abstract classes can define abstract methods, which must be implemented by any subclass.\n",
        "\n",
        "        Key Points:-\n",
        "          -  Defined using the abc (Abstract Base Class) module.\n",
        "\n",
        "          -  Contains one or more abstract methods (methods without implementation).\n",
        "\n",
        "          - Helps enforce a common interface across subclasses.\n",
        "\n",
        "16.  What are the advantages of OOP?\n",
        "      - Object-Oriented Programming offers a powerful and organized way to\n",
        "        build software.\n",
        "\n",
        "       Advantages of oops:-\n",
        "        1. Modularity:-\n",
        "            - Code is organized into classes and objects, making it easier to\n",
        "              manage and maintain.\n",
        "\n",
        "           -  Each class acts as a self-contained unit of logic and data.\n",
        "\n",
        "        2. Reusability:-\n",
        "           - Using inheritance, you can create new classes based on existing\n",
        "             ones.\n",
        "\n",
        "          - This allows for code reuse, reducing redundancy.\n",
        "           \n",
        "       3. Scalability & Maintainability:-\n",
        "           - OOP makes it easier to scale applications by adding new features\n",
        "             without breaking existing code.\n",
        "\n",
        "           - Classes are easier to update or fix when bugs are found.\n",
        "       4. Encapsulation\n",
        "       5. Abstraction\n",
        "       6. Polymorphism\n",
        "       7. Real-world Mapping\n",
        "           - OOP models real-world entities more naturally, making it intuitive and easier to understand and design.\n",
        "\n",
        "17.  What is the difference between a class variable and an instance variable?\n",
        "      - Difference between a class variable and an instance variable in Python:-\n",
        "\n",
        "        Class Variable:-\n",
        "         - Shared across all instances of the class.\n",
        "\n",
        "         - Defined inside the class, but outside any instance methods.\n",
        "\n",
        "         - Changing the value of a class variable affects all instances, unless it's overridden by an instance.\n",
        "\n",
        "       Instance Variable:-\n",
        "         - Unique to each instance (object).\n",
        "\n",
        "         - Defined using self.variable_name inside a class method (usually __init__()).\n",
        "\n",
        "         - Changing the value affects only that specific object.\n",
        "\n",
        "18.  What is multiple inheritance in Python?\n",
        "      - Multiple inheritance means that a class can inherit from more than one\n",
        "        parent class. This allows the child class to access the attributes and methods of all parent classes.\n",
        "19.  Explain the purpose of ‘’__str__’ and ‘__repr__’ ‘ methods in Python.\n",
        "      -  the purpose of __str__ and __repr__ in Python — both are dunder\n",
        "         methods (i.e., \"double underscore\" methods) used for representing objects as strings.\n",
        "\n",
        "       __str__: User-friendly representation\n",
        "            - Called by the str() function and print() function.\n",
        "\n",
        "            - Its goal is to return a readable and informative string for end\n",
        "              users.\n",
        "\n",
        "       __repr__: Developer-friendly (unambiguous) representation\n",
        "            - Called by the repr() function or just typing the object in an\n",
        "              interactive session.\n",
        "\n",
        "            - It should return a string that can be used to recreate the object\n",
        "              (or is at least unambiguous).\n",
        "\n",
        "            - Meant more for debugging and development.\n",
        "      \n",
        "20.  What is the significance of the ‘super()’ function in Python?\n",
        "      - The super() function in Python is used to give access to methods and\n",
        "        properties of a parent (or sibling) class. It’s most commonly used in inheritance, especially in constructor and method overriding scenarios.\n",
        "\n",
        "        Key Purposes of super():-\n",
        "         - Call parent class methods inside a child class.\n",
        "\n",
        "         - Avoid hard-coding the parent class name.\n",
        "\n",
        "         - Support multiple inheritance in a clean and manageable way.\n",
        "\n",
        "21.  What is the significance of the __del__ method in Python?\n",
        "      - The __del__ method in Python is a destructor method. It is called\n",
        "        automatically when an object is about to be destroyed, typically when it goes out of scope or is deleted using del.\n",
        "\n",
        "        Purpose of __del__:-\n",
        "         - To clean up resources (like files, network connections, or memory)\n",
        "           used by an object.\n",
        "\n",
        "         - It's the opposite of __init__, which is the constructor.\n",
        "\n",
        "22.  What is the difference between @staticmethod and @classmethod in Python?\n",
        "      -  In Python, both @staticmethod and @classmethod are decorators used to  define methods inside a class that are not quite the same as regular    \n",
        "      instance methods.\n",
        "\n",
        "      @staticmethod:-\n",
        "        - Belongs to the class, but does not take self or cls as the first\n",
        "          argument.\n",
        "\n",
        "        - Cannot access or modify class state or instance state.\n",
        "\n",
        "        - Used when you want to perform a function that’s related to the class,\n",
        "          but does not need access to any class or instance data.\n",
        "\n",
        "      @classmethod:-\n",
        "         - Belongs to the class, and takes cls (class itself) as the first\n",
        "           argument.\n",
        "\n",
        "         - Can access and modify class variables.\n",
        "\n",
        "        - Often used as factory methods (to create instances in different ways).\n",
        "\n",
        "23.  How does polymorphism work in Python with inheritance?\n",
        "      - Polymorphism in Python, particularly when combined with inheritance,\n",
        "        allows objects of different classes to be treated as objects of a common superclass. This is achieved by overriding methods in subclasses, enabling them to provide specific implementations while sharing a common interface.​\n",
        "\n",
        "       Key Concepts:-\n",
        "\n",
        "      1. Method Overriding:\n",
        "\n",
        "        - Subclasses can provide their own version of methods defined in the\n",
        "          parent class.​\n",
        "\n",
        "        - This allows subclass instances to invoke their specific\n",
        "          implementations when the method is called.​\n",
        "     2. Common Interface:\n",
        "\n",
        "         - By adhering to a common method structure, different classes can be\n",
        "           used interchangeably, promoting flexibility and scalability in code design.\n",
        "24.  What is method chaining in Python OOP?\n",
        "      - ​In Python's object-oriented programming (OOP), method chaining is a\n",
        "        technique that allows multiple methods to be called sequentially on the same object in a single statement. Each method performs an operation and returns the object itself, enabling the next method to be invoked directly. This approach enhances code readability and conciseness by eliminating the need for intermediate variables.​\n",
        "\n",
        "25.  What is the purpose of the __call__ method in Python?\n",
        "      - ​In Python, the __call__ method is a special dunder (double underscore)\n",
        "        method that allows an instance of a class to be invoked as if it were a regular function. This means that after defining __call__ within a class, you can call its instances using parentheses, just like calling a function. ​\n",
        "\n",
        "        Purpose of the __call__ Method:-\n",
        "\n",
        "        - Creating Callable Instances: By implementing the __call__ method, you\n",
        "          enable objects of a class to be called as functions, providing a flexible way to encapsulate functionality within objects. ​\n"
      ],
      "metadata": {
        "id": "P1ICSflLUigD"
      }
    },
    {
      "cell_type": "code",
      "source": [
        "#1.Create a parent class Animal with a method speak() that prints a generic message. Create a child class Dog\n",
        "#that overrides the speak() method to print \"Bark!\".\n",
        "class Animal:\n",
        "    def speak(self):\n",
        "        print(\"this is Generic animal sound\")\n",
        "\n",
        "class Dog(Animal):\n",
        "    def speak(self):\n",
        "        print(\"Bark!\")\n",
        "# example usage:\n",
        "animal = Animal()\n",
        "animal.speak()\n",
        "\n",
        "dog = Dog()\n",
        "dog.speak()"
      ],
      "metadata": {
        "colab": {
          "base_uri": "https://localhost:8080/"
        },
        "id": "bH1rCvl1k7Gg",
        "outputId": "f9cd01fa-c1cb-4479-fd25-44b8d65199b1"
      },
      "execution_count": null,
      "outputs": [
        {
          "output_type": "stream",
          "name": "stdout",
          "text": [
            "this is Generic animal sound\n",
            "Bark!\n"
          ]
        }
      ]
    },
    {
      "cell_type": "code",
      "source": [
        "# 2. Write a program to create an abstract class Shape with a method area(). Derive classes Circle and Rectangle\n",
        "#from it and implement the area() method in both.\n",
        "from abc import ABC, abstractmethod\n",
        "import math\n",
        "\n",
        "# Abstract base class\n",
        "class Shape(ABC):\n",
        "    @abstractmethod\n",
        "    def area(self):\n",
        "        pass\n",
        "\n",
        "# Derived class for Circle\n",
        "class Circle(Shape):\n",
        "    def __init__(self, radius):\n",
        "        self.radius = radius\n",
        "\n",
        "    def area(self):\n",
        "        return math.pi * self.radius**2\n",
        "\n",
        "# Derived class for Rectangle\n",
        "class Rectangle(Shape):\n",
        "    def __init__(self, width, height):\n",
        "        self.width = width\n",
        "        self.height = height\n",
        "from abc import ABC, abstractmethod\n",
        "import math\n",
        "\n",
        "# Abstract base class\n",
        "class Shape(ABC):\n",
        "    @abstractmethod\n",
        "    def area(self):\n",
        "        pass\n",
        "\n",
        "# Derived class for Circle\n",
        "class Circle(Shape):\n",
        "    def __init__(self, radius):\n",
        "        self.radius = radius\n",
        "\n",
        "    def area(self):\n",
        "        return math.pi * self.radius**2\n",
        "\n",
        "# Derived class for Rectangle\n",
        "class Rectangle(Shape):\n",
        "    def __init__(self, width, height):\n",
        "        self.width = width\n",
        "        self.height = height\n",
        "\n",
        "    def area(self):\n",
        "        return self.width * self.height\n",
        "\n",
        "# Example usage\n",
        "circle = Circle(5)\n",
        "rectangle = Rectangle(4, 6)\n",
        "\n",
        "print(f\"Circle Area: {circle.area():.2f}\")\n",
        "print(f\"Rectangle Area: {rectangle.area()}\")\n",
        "\n"
      ],
      "metadata": {
        "colab": {
          "base_uri": "https://localhost:8080/"
        },
        "id": "rX0Aq8p4nRBE",
        "outputId": "ca84ca59-d765-43cc-fa34-79c790cb86a6"
      },
      "execution_count": null,
      "outputs": [
        {
          "output_type": "stream",
          "name": "stdout",
          "text": [
            "Circle Area: 78.54\n",
            "Rectangle Area: 24\n"
          ]
        }
      ]
    },
    {
      "cell_type": "code",
      "source": [
        "#3. Implement a multi-level inheritance scenario where a class Vehicle has an attribute type. Derive a class Car\n",
        "#and further derive a class ElectricCar that adds a battery attribute.\n",
        "class Vehicle:\n",
        "    def __init__(self, vehicle_type):\n",
        "        self.vehicle_type = vehicle_type\n",
        "\n",
        "    def display_info(self):\n",
        "        print(f\"Vehicle Type: {self.vehicle_type}\")\n",
        "\n",
        "class Car(Vehicle):\n",
        "    def __init__(self, vehicle_type, make):\n",
        "        super().__init__(vehicle_type)\n",
        "        self.make = make\n",
        "\n",
        "    def display_info(self):\n",
        "        super().display_info()\n",
        "        print(f\"Make: {self.make}\")\n",
        "\n",
        "class ElectricCar(Car):\n",
        "    def __init__(self, vehicle_type, make, battery_capacity):\n",
        "        super().__init__(vehicle_type, make)\n",
        "        self.battery_capacity = battery_capacity\n",
        "\n",
        "    def display_info(self):\n",
        "        super().display_info()\n",
        "        print(f\"Battery Capacity: {self.battery_capacity} kWh\")\n",
        "\n",
        "# Example usage:\n",
        "tesla = ElectricCar(\"Car\", \"Tesla\", 100)\n",
        "tesla.display_info()\n",
        "\n",
        "\n"
      ],
      "metadata": {
        "id": "N8je5JnRn3x-",
        "colab": {
          "base_uri": "https://localhost:8080/"
        },
        "outputId": "45834327-3086-49c7-f87f-f9227f8af7b1"
      },
      "execution_count": null,
      "outputs": [
        {
          "output_type": "stream",
          "name": "stdout",
          "text": [
            "Vehicle Type: Car\n",
            "Make: Tesla\n",
            "Battery Capacity: 100 kWh\n"
          ]
        }
      ]
    },
    {
      "cell_type": "code",
      "source": [
        "# 4. Demonstrate polymorphism by creating a base class Bird with a method fly(). Create two derived classes\n",
        "#Sparrow and Penguin that override the fly() method.\n",
        "class Bird:\n",
        "    def fly(self):\n",
        "        print(\"Birds can fly\")\n",
        "\n",
        "class Sparrow(Bird):\n",
        "    def fly(self):\n",
        "        print(\"Sparrows can fly at high speeds\")\n",
        "class Penguin(Bird):\n",
        "    def fly(self):\n",
        "        print(\"Penguins cannot fly\")\n",
        "\n",
        "# Example usage:\n",
        "bird = Bird()\n",
        "bird.fly()\n",
        "\n",
        "sparrow = Sparrow()\n",
        "sparrow.fly()\n",
        "\n",
        "penguin = Penguin()\n",
        "penguin.fly()"
      ],
      "metadata": {
        "id": "MCyuZzqBn4FS",
        "colab": {
          "base_uri": "https://localhost:8080/"
        },
        "outputId": "d344bf93-9418-4110-b814-6d89cb4f74db"
      },
      "execution_count": null,
      "outputs": [
        {
          "output_type": "stream",
          "name": "stdout",
          "text": [
            "Birds can fly\n",
            "Sparrows can fly at high speeds\n",
            "Penguins cannot fly\n"
          ]
        }
      ]
    },
    {
      "cell_type": "code",
      "source": [
        "#5. Write a program to demonstrate encapsulation by creating a class BankAccount with private attributes\n",
        "#balance and methods to deposit, withdraw, and check balance\n",
        "class BankAccount:\n",
        "    def __init__(self, account_number, account_holder, initial_balance=0.0):\n",
        "        self.__account_number = account_number      # Private attribute\n",
        "        self.__account_holder = account_holder      # Private attribute\n",
        "        self.__balance = initial_balance            # Private attribute\n",
        "\n",
        "    def deposit(self, amount):\n",
        "        \"\"\"Adds a specified amount to the account balance.\"\"\"\n",
        "        if amount > 0:\n",
        "            self.__balance += amount\n",
        "            print(f\"Deposited {amount:.2f}. New balance: {self.__balance:.2f}\")\n",
        "        else:\n",
        "            print(\"Deposit amount must be positive.\")\n",
        "\n",
        "    def withdraw(self, amount):\n",
        "        \"\"\"Subtracts a specified amount from the account balance if sufficient funds exist.\"\"\"\n",
        "        if amount > self.__balance:\n",
        "            print(\"Insufficient funds.\")\n",
        "        elif amount <= 0:\n",
        "            print(\"Withdrawal amount must be positive.\")\n",
        "        else:\n",
        "            self.__balance -= amount\n",
        "            print(f\"Withdrew {amount:.2f}. New balance: {self.__balance:.2f}\")\n",
        "\n",
        "    def get_balance(self):\n",
        "        \"\"\"Returns the current account balance.\"\"\"\n",
        "        return self.__balance\n",
        "\n",
        "    def get_account_info(self):\n",
        "        \"\"\"Returns the account number and account holder's name.\"\"\"\n",
        "        return self.__account_number, self.__account_holder\n",
        "\n",
        "# Example usage:\n",
        "account = BankAccount(\"123456789\", \"John Doe\", 1000)\n",
        "account.deposit(500)\n",
        "account.withdraw(100)\n",
        "print(account.get_balance())\n"
      ],
      "metadata": {
        "colab": {
          "base_uri": "https://localhost:8080/"
        },
        "id": "YIAO9VONLHq6",
        "outputId": "da6b9b6b-6a6f-46d3-e5a1-ba3a0c7a6742"
      },
      "execution_count": null,
      "outputs": [
        {
          "output_type": "stream",
          "name": "stdout",
          "text": [
            "Deposited 500.00. New balance: 1500.00\n",
            "Withdrew 100.00. New balance: 1400.00\n",
            "1400\n"
          ]
        }
      ]
    },
    {
      "cell_type": "code",
      "source": [
        "#6. Demonstrate runtime polymorphism using a method play() in a base class Instrument. Derive classes Guitar\n",
        "#and Piano that implement their own version of play()\n",
        "class Instrument:\n",
        "    def play(self):\n",
        "        pass\n",
        "\n",
        "class Guitar(Instrument):\n",
        "    def play(self):\n",
        "        print(\"Guitar is playing a tune.\")\n",
        "\n",
        "class Piano(Instrument):\n",
        "    def play(self):\n",
        "        print(\"Piano is playing a tune.\")\n",
        "\n",
        "ins = Instrument()\n",
        "ins.play()\n",
        "\n",
        "guitar = Guitar()\n",
        "guitar.play()\n",
        "\n",
        "piano = Piano()\n",
        "piano.play()"
      ],
      "metadata": {
        "colab": {
          "base_uri": "https://localhost:8080/"
        },
        "id": "u7loSiJVOWod",
        "outputId": "06310b88-8293-4555-dd2b-d815d424b2c6"
      },
      "execution_count": null,
      "outputs": [
        {
          "output_type": "stream",
          "name": "stdout",
          "text": [
            "Guitar is playing a tune.\n",
            "Piano is playing a tune.\n"
          ]
        }
      ]
    },
    {
      "cell_type": "code",
      "source": [
        "# 7. Create a class MathOperations with a class method add_numbers() to add two numbers and a static\n",
        "#method subtract_numbers() to subtract two numbers.\n",
        "class MathOperations:\n",
        "    @classmethod\n",
        "    def add_numbers(cls, a, b):\n",
        "        return a + b\n",
        "\n",
        "    @staticmethod\n",
        "    def subtract_numbers(a, b):\n",
        "        return a - b\n",
        "\n",
        "# Example usage:\n",
        "result_add = MathOperations.add_numbers(5, 3)\n",
        "result_subtract = MathOperations.subtract_numbers(10, 4)\n",
        "\n",
        "print(f\"Addition Result: {result_add}\")\n",
        "print(f\"Subtraction Result: {result_subtract}\")\n"
      ],
      "metadata": {
        "colab": {
          "base_uri": "https://localhost:8080/"
        },
        "id": "ahEx9TlCQKsP",
        "outputId": "af75226d-b525-4810-c77e-e468b630a0ab"
      },
      "execution_count": null,
      "outputs": [
        {
          "output_type": "stream",
          "name": "stdout",
          "text": [
            "Addition Result: 8\n",
            "Subtraction Result: 6\n"
          ]
        }
      ]
    },
    {
      "cell_type": "code",
      "source": [
        "# 8. Implement a class Person with a class method to count the total number of persons created.\n",
        "class Person:\n",
        "    # Class variable to keep track of the number of instances\n",
        "    _instance_count = 0\n",
        "\n",
        "    def __init__(self, name):\n",
        "        self.name = name\n",
        "        Person._instance_count += 1\n",
        "\n",
        "    @classmethod\n",
        "    def get_instance_count(cls):\n",
        "        \"\"\"Returns the total number of Person instances created.\"\"\"\n",
        "        return cls._instance_count\n",
        "\n",
        "# Example usage:\n",
        "person1 = Person(\"Alice\")\n",
        "person2 = Person(\"Bob\")\n",
        "person3 = Person(\"Charlie\")\n",
        "\n",
        "print(f\"Total number of Person instances: {Person.get_instance_count()}\")\n",
        "\n"
      ],
      "metadata": {
        "colab": {
          "base_uri": "https://localhost:8080/"
        },
        "id": "CYw-ZkudNs0z",
        "outputId": "0fc0ea30-529a-4b16-ae80-d2a5c8e79388"
      },
      "execution_count": null,
      "outputs": [
        {
          "output_type": "stream",
          "name": "stdout",
          "text": [
            "Total number of Person instances: 3\n"
          ]
        }
      ]
    },
    {
      "cell_type": "code",
      "source": [
        "#9. Write a class Fraction with attributes numerator and denominator. Override the str method to display the\n",
        "#fraction as \"numerator/denominator\".\n",
        "import math\n",
        "\n",
        "class Fraction:\n",
        "    def __init__(self, numerator, denominator):\n",
        "        if denominator == 0:\n",
        "            raise ValueError(\"Denominator cannot be zero.\")\n",
        "        common_divisor = math.gcd(numerator, denominator)\n",
        "        self.numerator = numerator // common_divisor\n",
        "        self.denominator = denominator // common_divisor\n",
        "\n",
        "    def __str__(self):\n",
        "        return f\"{self.numerator}/{self.denominator}\"\n",
        "#example usage\n",
        "fract1 = Fraction(4, 8)\n",
        "fract2 = Fraction(3, 12)\n",
        "print(fract1)\n",
        "print(fract2)\n"
      ],
      "metadata": {
        "colab": {
          "base_uri": "https://localhost:8080/"
        },
        "id": "qFVEith_AkjE",
        "outputId": "d5b0601d-983a-489a-8646-859a203ab985"
      },
      "execution_count": null,
      "outputs": [
        {
          "output_type": "stream",
          "name": "stdout",
          "text": [
            "1/2\n",
            "1/4\n"
          ]
        }
      ]
    },
    {
      "cell_type": "code",
      "source": [
        "# 10. Demonstrate operator overloading by creating a class Vector and overriding the add method to add two vectors.\n",
        "class Vector:\n",
        "    def __init__(self, x, y):\n",
        "        self.x = x\n",
        "        self.y = y\n",
        "\n",
        "    def __add__(self, other):\n",
        "        if isinstance(other, Vector):\n",
        "            return Vector(self.x + other.x, self.y + other.y)\n",
        "        return NotImplemented\n",
        "\n",
        "    def __repr__(self):\n",
        "        return f\"Vector({self.x}, {self.y})\"\n",
        "\n",
        "v1 = Vector(1, 2)\n",
        "v2 = Vector(3, 4)\n",
        "result = v1 + v2\n",
        "print(result)\n",
        "\n"
      ],
      "metadata": {
        "colab": {
          "base_uri": "https://localhost:8080/"
        },
        "id": "_Y2fVwlPEV8p",
        "outputId": "dff622e6-3e5e-4549-c2fc-136b5add2e87"
      },
      "execution_count": null,
      "outputs": [
        {
          "output_type": "stream",
          "name": "stdout",
          "text": [
            "Vector(4, 6)\n"
          ]
        }
      ]
    },
    {
      "cell_type": "code",
      "source": [
        "# 11. Create a class Person with attributes name and age. Add a method greet() that prints \"Hello, my name is\n",
        "#{name} and I am {age} years old.\"\n",
        "class Person:\n",
        "    def __init__(self, name, age):\n",
        "        self.name = name\n",
        "        self.age = age\n",
        "\n",
        "    def greet(self):\n",
        "        print(f\"Hello, my name is {self.name} and I am {self.age} years old.\")\n",
        "\n",
        "persion1 = Person(\"Ajay\", 25)\n",
        "persion1.greet()\n"
      ],
      "metadata": {
        "colab": {
          "base_uri": "https://localhost:8080/"
        },
        "id": "_wA2a7T1F_ub",
        "outputId": "8e85a741-42b1-459f-9276-298014bd251c"
      },
      "execution_count": null,
      "outputs": [
        {
          "output_type": "stream",
          "name": "stdout",
          "text": [
            "Hello, my name is Ajay and I am 25 years old.\n"
          ]
        }
      ]
    },
    {
      "cell_type": "code",
      "source": [
        "# 12. Implement a class Student with attributes name and grades. Create a method average_grade() to compute\n",
        "#the average of the grades.\n",
        "class Student:\n",
        "    def __init__(self, name, grades):\n",
        "        self.name = name\n",
        "        self.grades = grades\n",
        "\n",
        "    def average_grade(self):\n",
        "        return sum(self.grades) / len(self.grades)\n",
        "# Creating an instance of Student\n",
        "student1 = Student(\"Ajay\", [85, 90, 78, 92])\n",
        "\n",
        "# Calculating the average grade\n",
        "average = student1.average_grade()\n",
        "print(f\"{student1.name}'s average grade is: {average}\")\n"
      ],
      "metadata": {
        "colab": {
          "base_uri": "https://localhost:8080/"
        },
        "id": "r2jh_kt7HZfZ",
        "outputId": "0509a3f1-5c03-4b69-91ee-1f85aab9a934"
      },
      "execution_count": null,
      "outputs": [
        {
          "output_type": "stream",
          "name": "stdout",
          "text": [
            "Ajay's average grade is: 86.25\n"
          ]
        }
      ]
    },
    {
      "cell_type": "code",
      "source": [
        "# 13. Create a class Rectangle with methods set_dimensions() to set the dimensions and area() to calculate the area.\n",
        "class Rectangle:\n",
        "    def __init__(self, length=0, width=0):\n",
        "        self.length = length\n",
        "        self.width = width\n",
        "\n",
        "    def set_dimensions(self, length, width):\n",
        "        self.length = length\n",
        "        self.width = width\n",
        "\n",
        "    def area(self):\n",
        "        return self.length * self.width\n",
        "\n",
        "rect = Rectangle(5, 3)\n",
        "rect.area()\n",
        "print(f\"Rectangle of area, {rect.area()}\")"
      ],
      "metadata": {
        "colab": {
          "base_uri": "https://localhost:8080/"
        },
        "id": "l3As7dfsIpij",
        "outputId": "a61848ed-259f-44ab-9ebd-df820fe0af44"
      },
      "execution_count": null,
      "outputs": [
        {
          "output_type": "stream",
          "name": "stdout",
          "text": [
            "Rectangle of area, 15\n"
          ]
        }
      ]
    },
    {
      "cell_type": "code",
      "source": [
        "# 14. Create a class Employee with a method calculate_salary() that computes the salary based on hours worked\n",
        "#and hourly rate. Create a derived class Manager that adds a bonus to the salary.\n",
        "class Employee:\n",
        "    def __init__(self, name, hourly_rate):\n",
        "        self.name = name\n",
        "        self.hourly_rate = hourly_rate\n",
        "\n",
        "    def calculate_salary(self, hours_worked):\n",
        "        return self.hourly_rate * hours_worked\n",
        "\n",
        "class Manager(Employee):\n",
        "    def __init__(self, name, hourly_rate, bonus):\n",
        "        super().__init__(name, hourly_rate)\n",
        "        self.bonus = bonus\n",
        "\n",
        "    def calculate_salary(self, hours_worked):\n",
        "        base_salary = super().calculate_salary(hours_worked)\n",
        "        return base_salary + self.bonus\n",
        "# Creating an Employee instance\n",
        "employee = Employee(\"Ajay\", 10)\n",
        "employee_salary = employee.calculate_salary(40)\n",
        "print(f\"{employee.name}'s salary: {employee_salary}\")\n",
        "\n",
        "# Creating a Manager instance\n",
        "manager = Manager(\"Akash\", 60, 500)\n",
        "manager_salary = manager.calculate_salary(40)\n",
        "print(f\"{manager.name}'s salary: {manager_salary}\")\n"
      ],
      "metadata": {
        "colab": {
          "base_uri": "https://localhost:8080/"
        },
        "id": "59CnHKXpJmFU",
        "outputId": "62dcdbfe-1733-4887-9b74-02717a4839ae"
      },
      "execution_count": null,
      "outputs": [
        {
          "output_type": "stream",
          "name": "stdout",
          "text": [
            "Ajay's salary: 400\n",
            "Akash's salary: 2900\n"
          ]
        }
      ]
    },
    {
      "cell_type": "code",
      "source": [
        "#15. Create a class Product with attributes name, price, and quantity. Implement a method total_price() that\n",
        "#calculates the total price of the product.\n",
        "class Product:\n",
        "    def __init__(self, name, price, quantity):\n",
        "        self.name = name\n",
        "        self.price = price\n",
        "        self.quantity = quantity\n",
        "\n",
        "    def total_price(self):\n",
        "        return self.price * self.quantity\n",
        "\n",
        "prod = Product(\"oil\", 100, 5)\n",
        "prod.total_price()\n",
        "print(f\"Total price of {prod.name}: {prod.total_price()}\")"
      ],
      "metadata": {
        "colab": {
          "base_uri": "https://localhost:8080/"
        },
        "id": "Dbw4ykxRMNPK",
        "outputId": "92983202-f038-4f96-d679-b475218721ff"
      },
      "execution_count": null,
      "outputs": [
        {
          "output_type": "stream",
          "name": "stdout",
          "text": [
            "Total price of oil: 500\n"
          ]
        }
      ]
    },
    {
      "cell_type": "code",
      "source": [
        " #16. Create a class Animal with an abstract method sound(). Create two derived classes Cow and Sheep that\n",
        "#implement the sound() method.\n",
        "from abc import ABC, abstractmethod\n",
        "class Animal(ABC):\n",
        "      @abstractmethod\n",
        "      def sound(self):\n",
        "        pass\n",
        "\n",
        "class Cow(Animal):\n",
        "    def sound(self):\n",
        "        return \"Moo!\"\n",
        "\n",
        "class Sheep(Animal):\n",
        "    def sound(self):\n",
        "        return \"Baa!\"\n",
        "\n",
        "cow = Cow()\n",
        "print(f\"cow of sound, {cow.sound()}\")\n",
        "\n",
        "sheep = Sheep()\n",
        "print(f\"sheep of sound, {sheep.sound()}\")"
      ],
      "metadata": {
        "colab": {
          "base_uri": "https://localhost:8080/"
        },
        "id": "OSMfOcLFNlPD",
        "outputId": "24b8f3e8-0c55-441e-b3f1-a827f2266a16"
      },
      "execution_count": null,
      "outputs": [
        {
          "output_type": "stream",
          "name": "stdout",
          "text": [
            "cow of sound, Moo!\n",
            "sheep of sound, Baa!\n"
          ]
        }
      ]
    },
    {
      "cell_type": "code",
      "source": [
        "# 17. Create a class Book with attributes title, author, and year_published. Add a method get_book_info() that\n",
        "#returns a formatted string with the book's details.\n",
        "class Book:\n",
        "    def __init__(self, title, author, year_published):\n",
        "        self.title = title\n",
        "        self.author = author\n",
        "        self.year_published = year_published\n",
        "\n",
        "    def get_book_info(self):\n",
        "        return f\" '{self.title}' by {self.author}, Published in {self.year_published}.\"\n",
        "book = Book(\"Harry Potter and the Philosopher's Stone\", \" J.K. Rowling\", 1997)\n",
        "book_info = book.get_book_info()\n",
        "print(book_info)"
      ],
      "metadata": {
        "colab": {
          "base_uri": "https://localhost:8080/"
        },
        "id": "H3IRWxJ7LnoB",
        "outputId": "b7b19da0-4c93-482a-f729-523518b090c5"
      },
      "execution_count": null,
      "outputs": [
        {
          "output_type": "stream",
          "name": "stdout",
          "text": [
            " 'Harry Potter and the Philosopher's Stone' by  J.K. Rowling, Published in 1997.\n"
          ]
        }
      ]
    },
    {
      "cell_type": "code",
      "source": [
        "# 18. Create a class House with attributes address and price. Create a derived class Mansion that adds an\n",
        "#attribute number_of_rooms.\n",
        "class House:\n",
        "    def __init__(self, address, price):\n",
        "        self.address = address\n",
        "        self.price = price\n",
        "\n",
        "class Mansion(House):\n",
        "    def __init__(self, address, price, number_of_rooms):\n",
        "        super().__init__(address, price)\n",
        "        self.number_of_rooms = number_of_rooms\n",
        "\n",
        "house = House(\"Gangaram vari\", 250000)\n",
        "print(f\"Address: {house.address}, Price: {house.price}\")\n",
        "\n",
        "mansion = Mansion(\"kohihoor cmplex\", 350000, 8)\n",
        "print(f\"Address: {mansion.address}, Price: {mansion.price}, Number of Rooms: {mansion.number_of_rooms}\")\n"
      ],
      "metadata": {
        "colab": {
          "base_uri": "https://localhost:8080/"
        },
        "id": "BeRXmkVXReNR",
        "outputId": "dea0c20c-fabd-4321-f18f-6422e63c3b6b"
      },
      "execution_count": null,
      "outputs": [
        {
          "output_type": "stream",
          "name": "stdout",
          "text": [
            "Address: Gangaram vari, Price: 250000\n",
            "Address: kohihoor cmplex, Price: 350000, Number of Rooms: 8\n"
          ]
        }
      ]
    }
  ]
}