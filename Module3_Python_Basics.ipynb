{
  "nbformat": 4,
  "nbformat_minor": 0,
  "metadata": {
    "colab": {
      "private_outputs": true,
      "provenance": [],
      "cell_execution_strategy": "setup"
    },
    "kernelspec": {
      "name": "python3",
      "display_name": "Python 3"
    },
    "language_info": {
      "name": "python"
    }
  },
  "cells": [
    {
      "cell_type": "markdown",
      "source": [
        "1.What is Python, and why is it popular?\n",
        "\n",
        " - Python is a high-level interpreted programmig language that is widely\n",
        "  used for various purposes such as web development,data analysis,artificial intelligence,and more.Created by Guido Van Rossum in 1991,Python is known for its simplicity,readability,and ease of use. Python popular for several types:-\n",
        "\n",
        "   Easy to learn\n",
        "\n",
        "   Versatile\n",
        "\n",
        "   Large Community\n",
        "\n",
        "   Extensive Libraries\n",
        "\n",
        "   Fast Development\n",
        "\n",
        "   Used in Industry\n",
        "\n",
        "2.What is an interpreter in Python?\n",
        "\n",
        " - In Python, an interpreter is a program that reads and executes Python code line by line.\n",
        "\n",
        "3.What are pre-defined keywords in Python?\n",
        "\n",
        "  - ​In Python, keywords are reserved words that have predefined meanings and serve specific purposes within the language's syntax. They are integral to the language's structure and cannot be used as identifiers for variables, functions, classes, or other objects.\n",
        "\n",
        "Pre-defined keyword are given below:-\n",
        "  True, False,import,and retrun,while, or,else,none,break,from etc.\n",
        "\n",
        "4. Can keywords be used as variable names?\n",
        "\n",
        "  - keywords cannot be used as variable names, function names, class names, or any other identifiers.\n",
        "\n",
        "5.  What is mutability in Python?\n",
        "\n",
        "   - Mutability in python the objects and content have ability to changed or modify after once created.\n",
        "   E.g- list, dictionary,sets\n",
        "\n",
        "6.  Why are lists mutable, but tuples are immutable?\n",
        "  - In Python list are mutable because its flexible in nature and it is implemented with a dynamic arrya.\n",
        "  -In Python tuple are  immutable because its fixed in nature and you cannot be change once created. tuples are immutable b'coz it offer many benefits - hashability, performance, & safety.\n",
        "\n",
        "7.  What is the difference between “==” and “is” operators in Python?\n",
        "\n",
        "  - The == operator compares the values of two objects. It checks if the\n",
        "   objects have equivalent content, regardless of whether they are stored at the same memory location.\n",
        "\n",
        "  The is operator checks whether two references point to the same object\n",
        "   in memory. This means it evaluates to True only if both operands refer to the exact same instance.\n",
        "\n",
        " e.g-\n",
        "     a = [5,7,8]\n",
        "\n",
        "     b = [5,7,8]\n",
        "\n",
        "     c = a\n",
        "\n",
        "print(a == b)  # Output: True because their values are equal.\n",
        "\n",
        "print(a is b)  # Output: False because they are different objects in memory.\n",
        "\n",
        "print(a is c)  # Output: True because c references the same object as a.\n",
        "\n",
        "8. What are logical operators in Python?\n",
        "   - the logical operator in python are AND,OR,NOT used.\n",
        "\n",
        "   e.g- AND logical operator-             \n",
        "          a = 5\n",
        "          b = 7\n",
        "          (a>3) and (b<10) # True\n",
        "\n",
        "          OR operator-\n",
        "          a = 3\n",
        "          6 = 4\n",
        "          (a>2) or (b<5) # false\n",
        "        \n",
        "          NOT operator\n",
        "           a = true\n",
        "          not a #false\n",
        "\n",
        "9.  What is type casting in Python?\n",
        "    - Type casting in python is the process of converting the variables from one data type to another data type.\n",
        "\n",
        "10. What is the difference between implicit and explicit type casting?\n",
        "\n",
        "    - Implicit type casting:-In implicit type casting one data type convert to another data type automatically without user intervention.\n",
        "\n",
        "    - Explicit type casting:-In explicit type casting one data type convert to another data type manually with user intervention using some built function like int(), flaot() etc.\n",
        "\n",
        "11. What is the purpose of conditional statements in Python?\n",
        "    - Conditional statements in Python are fundamental constructs that enable decision-making within a program and below are purpose\n",
        "\n",
        "    Purpose of Conditional Statements:\n",
        "\n",
        "    Decision Making: They enable the program to choose different execution paths based on evaluated conditions. For instance, using an if statement, the program can execute a block of code only if a particular condition is true.​\n",
        "\n",
        "    Flow Control: By determining which code blocks to execute under specific conditions, conditional statements control the program's flow, making it responsive to varying inputs and situations.\n",
        "\n",
        "12.How does the elif statement work?\n",
        "\n",
        "- \"else if,\" allows for multiple conditional checks within an if...elif...else structure. This construct enables the program to evaluate various conditions in sequence and execute the corresponding block of code for the first condition that evaluates to True.\n",
        "\n",
        "e.g- if condition1:\n",
        "    # Code block 1\n",
        "elif condition2:\n",
        "    # Code block 2\n",
        "elif condition3:\n",
        "    # Code block 3\n",
        "else:\n",
        "    # Code block 4\n",
        "\n",
        "\n",
        "13. What is the difference between for and while loops?\n",
        "\n",
        "   - In Python, both for and while loops are used to execute a block of code multiple times, but they differ in their usage and behavior.​\n",
        "\n",
        "   for Loop:\n",
        "      Purpose: Iterates over a sequence (e.g., list, tuple, string) or other iterable objects, executing the loop body for each item.\n",
        "\n",
        "       e.g\n",
        "\n",
        "      fruits = ['apple', 'banana', 'cherry']\n",
        "\n",
        "for fruit in fruits:\n",
        "\n",
        "         print(fruits)\n",
        "\n",
        "while Loop: Purpose: Repeats a block of code as long as a specified condition remains True.\n",
        "\n",
        "e.g     \n",
        "         count = 1\n",
        "\n",
        "         while count <= 3:\n",
        "\n",
        "         print(count)\n",
        "\n",
        "         count += 1\n",
        "\n",
        "14.  Describe a scenario where a while loop is more suitable than a for loop.\n",
        "    - A while loop is particularly suitable in scenarios where the number of iterations is not predetermined and depends on dynamic conditions during program execution because, it allows the program to continue reading and processing data until the desired condition is satisfied.\n",
        "\n",
        "    ​  On the other hand, for loop is more appropriate when the number of iterations is known ahead of time or when iterating over a fixed collection of items, such as elements in a list or a range of numbers.\n",
        "    \n",
        "\n",
        "\n",
        "\n",
        "\n",
        "\n",
        "\n",
        "\n",
        "\n",
        "\n",
        "    \n",
        "\n",
        "\n",
        "\n"
      ],
      "metadata": {
        "id": "EezWD9q9sOhV"
      }
    },
    {
      "cell_type": "markdown",
      "source": [
        "# **Pratical Python Questions**"
      ],
      "metadata": {
        "id": "F6pMcZmr6ja5"
      }
    },
    {
      "cell_type": "markdown",
      "source": [],
      "metadata": {
        "id": "Z_xtIhuNseLX"
      }
    },
    {
      "cell_type": "code",
      "execution_count": null,
      "metadata": {
        "id": "rBAbmSHhU4FC"
      },
      "outputs": [],
      "source": [
        "#1. Write a Program to print \"Hello,world!\"\n",
        "print(\"Hello,world\")"
      ]
    },
    {
      "cell_type": "code",
      "source": [
        "#2. Write a program that displys your name and age.\n",
        "name = \"Shashi\"\n",
        "age = 28\n",
        "print(\"My name is\",name,\"and my age is\",age)"
      ],
      "metadata": {
        "id": "UyRunXkchsyf"
      },
      "execution_count": null,
      "outputs": []
    },
    {
      "cell_type": "markdown",
      "source": [],
      "metadata": {
        "id": "xD5P4es4mLjW"
      }
    },
    {
      "cell_type": "code",
      "source": [
        "#3. Write code to print all the pre-defined keywords in Python using the keyword library.\n",
        "import keyword\n",
        "# Get all the keywords\n",
        "print(keyword.kwlist)\n"
      ],
      "metadata": {
        "id": "DnztKXVc8h6A"
      },
      "execution_count": null,
      "outputs": []
    },
    {
      "cell_type": "markdown",
      "source": [],
      "metadata": {
        "id": "DqtwEc7RmOsw"
      }
    },
    {
      "cell_type": "code",
      "source": [
        " #4. Write a program that checks if a given word is a Python keyword.\n",
        "\n",
        "import keyword\n",
        "word =input(\"Enter any keyword\")\n",
        "if keyword.iskeyword(word):\n",
        "   print(\"Your entered word is a python keyword\")\n",
        "else:\n",
        "   print(\"Your entered word is not a python keyword\")"
      ],
      "metadata": {
        "id": "0dx4qxjX8irv"
      },
      "execution_count": null,
      "outputs": []
    },
    {
      "cell_type": "code",
      "source": [
        "#5. Create a list and tuple in python,and demonstrate how attempting to change an element works defriently for each.\n",
        "# Create a list\n",
        "my_list = [1,2,3,4,5]\n",
        "# Create a tuple\n",
        "my_tuple = (1,2,3,4,5)\n",
        "# Attempt to change an element in a list\n",
        "print(\"original list:\", my_list)\n",
        "my_list[1] = 10 #change the second element (index 1)\n",
        "print(\"modified list:\", my_list)\n",
        "\n",
        "# Attempt to change an element in the tuple\n",
        "print(\"orignal tuple:\",my_tuple)\n",
        "my_tuple[1] = 10 # This will raise a TypeError\n",
        "print(\"Tuple after attempt to modify:\",my_tuple)\n",
        "\n"
      ],
      "metadata": {
        "id": "YP-LGfA15uV9"
      },
      "execution_count": null,
      "outputs": []
    },
    {
      "cell_type": "code",
      "source": [
        "#6. Write a function to demonstrate the behavior of mutable and immutable arguments\n",
        "\n",
        "my_list = [1,2, 'jaipur','kanpur','mumbai']\n",
        "my_tuple = (1,2.2, 'true' ,'amit', '3+5j')\n",
        "my_list[1] = 20 # list is mutable\n",
        "print(my_list)\n",
        "my_tuple[1] = 20 # tuple is immtable\n",
        "print(my_tuple)\n",
        "\n"
      ],
      "metadata": {
        "id": "cKeqSjWRAKuP"
      },
      "execution_count": null,
      "outputs": []
    },
    {
      "cell_type": "markdown",
      "source": [
        "Question 6 & 7 are same so we skipped question 7."
      ],
      "metadata": {
        "id": "KUe6c2OJidPF"
      }
    },
    {
      "cell_type": "code",
      "source": [
        "#8. write a program to demonstarte the use of logical operators.\n",
        "student_read = \"true\"\n",
        "student_write = \"false\"\n",
        "print(student_read and student_write)\n",
        "print(student_read or student_write)\n",
        "print(not student_read)"
      ],
      "metadata": {
        "id": "2pss6xwHD_kv"
      },
      "execution_count": null,
      "outputs": []
    },
    {
      "cell_type": "code",
      "source": [
        "#9. Write a python program to convert user input from string to integer,float,and boolean types.\n",
        "user_input = \"100\"\n",
        "integer_value = int(user_input)\n",
        "float_value = float(user_input)\n",
        "boolean_value = bool(user_input)\n",
        "print(integer_value)\n",
        "print(float_value)\n",
        "print(boolean_value)"
      ],
      "metadata": {
        "id": "_jWiMgOvgGpf"
      },
      "execution_count": null,
      "outputs": []
    },
    {
      "cell_type": "code",
      "source": [
        "#10. Write code to demonstrate type casting with list elements.\n",
        "str_list = ['10','20','30','40','50']\n",
        "str_list = [int(item) for item in str_list] #convert in string\n",
        "print(str_list)\n",
        "print(type(str_list))\n",
        "\n",
        "str_list = ['1.2','2.3','3.4','5.6']\n",
        "float_list = [float(item) for item in str_list] #convert in float\n",
        "print(float_list)\n",
        "print(type(float_list))\n"
      ],
      "metadata": {
        "id": "42f9ebRUiLWp"
      },
      "execution_count": null,
      "outputs": []
    },
    {
      "cell_type": "code",
      "source": [
        "#11.Write a program that checks if a number is positive, negative, or zero\n",
        "a = int(input(\"Enter the number\"))\n",
        "if a>0:\n",
        "  print(\"Given number is positive\")\n",
        "elif a<0:\n",
        "  print(\"Given number is negative\")\n",
        "else:\n",
        "  print(\"Number is zero\")\n",
        "\n"
      ],
      "metadata": {
        "id": "8k57tDSxiGYz"
      },
      "execution_count": null,
      "outputs": []
    },
    {
      "cell_type": "code",
      "source": [
        "#12. Write a for loop to print numbers from 1 to 10.\n",
        "i = 1\n",
        "while i <= 10:\n",
        "  print(i , end=\" \")\n",
        "  i += 1"
      ],
      "metadata": {
        "id": "Pc1NCSLmg8G2"
      },
      "execution_count": null,
      "outputs": []
    },
    {
      "cell_type": "code",
      "source": [
        "#13. Write a Python program to find the sum of all even numbers between 1 and 50.\n",
        "for sum in range(1,50):\n",
        "  if sum%2==0:\n",
        "     print(sum, end=\" \")\n"
      ],
      "metadata": {
        "id": "hc7i5ByTiSfH"
      },
      "execution_count": null,
      "outputs": []
    },
    {
      "cell_type": "code",
      "source": [
        "#14. Write a program to reverse a string using a while loop.\n",
        "str = \"Hello world\"\n",
        "reverse_str = \"\"\n",
        "count = len(str)\n",
        "while count > 0:\n",
        "  reverse_str += str[count - 1]\n",
        "  count -= 1\n",
        "print(reverse_str)\n",
        "\n"
      ],
      "metadata": {
        "id": "dU3NVwtcSnm7"
      },
      "execution_count": null,
      "outputs": []
    },
    {
      "cell_type": "code",
      "source": [
        "#15. Write a Python program to calculate the factorial of a number provided by the user using a while loop.\n",
        "num = int(input(\"Enter the number\"))\n",
        "factorial = 1\n",
        "i = 1\n",
        "while i <= num:\n",
        "  factorial *= i\n",
        "  i += 1\n",
        "print(\"Factorial of\",num,\"is\",factorial)\n"
      ],
      "metadata": {
        "id": "NKae67CcgbfA"
      },
      "execution_count": null,
      "outputs": []
    }
  ]
}