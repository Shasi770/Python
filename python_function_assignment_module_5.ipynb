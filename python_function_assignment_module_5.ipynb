{
  "nbformat": 4,
  "nbformat_minor": 0,
  "metadata": {
    "colab": {
      "provenance": []
    },
    "kernelspec": {
      "name": "python3",
      "display_name": "Python 3"
    },
    "language_info": {
      "name": "python"
    }
  },
  "cells": [
    {
      "cell_type": "markdown",
      "source": [],
      "metadata": {
        "id": "IMNpClSHbPuY"
      }
    },
    {
      "cell_type": "markdown",
      "source": [
        "\n",
        "\n",
        " 1. What is the difference between a function and a method in Python?\n",
        "\n",
        "   - ​In Python, both functions and methods are blocks of reusable code  \n",
        "     designed to perform specific tasks, but they differ in their associations and usage:​\n",
        "     Reddit\n",
        "\n",
        "     Definition and Association:-\n",
        "\n",
        "     Function: A function is an independent block of code defined using the def keyword, not tied to any class or object. It can be invoked directly by its name.​\n",
        "\n",
        "     Method: A method is a function that is associated with an object; it is defined within a class and is called on instances (objects) of that class\n",
        "\n",
        " 2. Explain the concept of function arguments and parameters in Python.\n",
        "\n",
        "    - ​In Python, parameters and arguments are fundamental concepts related to\n",
        "      functions, enabling code reusability and flexibility.​\n",
        "\n",
        "       parameters:-Parameters are variables listed in a function's definition, acting as placeholders for the values the function expects when called.\n",
        "\n",
        "       For example:- def greeting(name):\n",
        "               \n",
        "               print(f\"hello, {name}\") #name is the parameter.\n",
        "\n",
        "     Arguments:-Arguments are the actual values passed to a function's\n",
        "      parameters during a function call.\n",
        "\n",
        "     Continuing with the previous example:- greeting(Vedanshi) # vedanshi is argument\n",
        "\n",
        " 3. What are the different ways to define and call a function in Python?\n",
        "\n",
        "    - ​In Python, functions are essential constructs that encapsulate reusable blocks of code, enhancing modularity and readability\n",
        "\n",
        "     there are many types to define call function-\n",
        "\n",
        "      a. Regular Functions:- Use the def keyword, followed by the function name and parentheses enclosing any parameters.​\n",
        "\n",
        "     e.g:-  def greet(name):\n",
        "\n",
        "      \"\"\"Greets the person with the provided name.\"\"\"\n",
        "  \n",
        "      print(f\"Hello, {name}!\")\n",
        "\n",
        "     => here's Call the function by its name and pass the required arguments.​\n",
        "\n",
        "      b. Functions with Default Parameters:- Assign default values to parameters, making them optional during function calls.​\n",
        "\n",
        "      e.g:- def greet(name='Guest'):\n",
        "\n",
        "            print(f\"Hello, {name}!\")\n",
        "\n",
        "     c. Anonymous Functions (Lambda Functions):- Use the lambda keyword to create  small, unnamed functions, typically for short-term use.​\n",
        "\n",
        "       e.g:- multiplication = lambda a: a * a\n",
        "\n",
        "     d. Methods within Classes:- Define functions inside a class to operate on instances of that class.​\n",
        "   \n",
        "       e.g:-  class Greeter:\n",
        "\n",
        "       def __init__(self, name):\n",
        "\n",
        "       self.name = name\n",
        "\n",
        "       def greet(self):\n",
        "\n",
        "       print(f\"Hello, {self.name}!\")\n",
        "\n",
        "     e. Recursive Functions:-A function that calls itself to solve a problem    by breaking it down into smaller sub-problems.​\n",
        "\n",
        "      e.g:- def factorial(n):\n",
        "\n",
        "      if n == 1:\n",
        "          return 1\n",
        "      else:\n",
        "          return n * factorial(n - 1)\n",
        "\n",
        "     f. Nested Functions: Define a function inside another function, allowing for encapsulation and organization of code.​\n",
        "\n",
        "      e.g:-  def outer_function(text):\n",
        "\n",
        "      def inner_function():\n",
        "\n",
        "          print(text)\n",
        "\n",
        "      inner_function()\n",
        "\n",
        " 4. What is the purpose of the `return` statement in a Python function?\n",
        "\n",
        "    - ​In Python, the return statement is used within a function to exit the\n",
        "     function and send a value back to the caller\n",
        "\n",
        "     Example:-def add(a, b):\n",
        "\n",
        "             return a * b\n",
        "\n",
        "             result = add(5, 3)\n",
        "\n",
        "             print(result)  \n",
        "\n",
        " 5. What are iterators in Python and how do they differ from iterables?\n",
        "\n",
        "      a.Iterable:-  An iterable is any Python object that can return an\n",
        "       iterator. These objects contain a collection of elements that can be looped over using a for loop.\n",
        "\n",
        "        e.g:- Lists ([1, 2, 3])\n",
        "\n",
        "           Tuples ((1, 2, 3))\n",
        "\n",
        "           Strings (\"hello\")\n",
        "\n",
        "           Sets and dictionaries\n",
        "\n",
        "           numbers = [3, 4, 5, 6]\n",
        "\n",
        "         for num in numbers:\n",
        "             \n",
        "             print(num)  # Here, numbers is an iterable because we can\n",
        "                           iterate over it.\n",
        "\n",
        "     b. Iterator:- An iterator is an object that remembers its current\n",
        "        position while iterating. It implements the methods __iter__() and __next__(). Once exhausted, it does not reset unless manually recreated.\n",
        "\n",
        "        To get an iterator, we use the iter() function.\n",
        "\n",
        "        e.g:- numbers = [1, 2, 3]\n",
        "            iterator = iter(numbers)  # Create an iterator from the list\n",
        "\n",
        "            print(next(iterator)) # output 1\n",
        "\n",
        "            print(next(iterator)) # output 2\n",
        "\n",
        "            print(next(iterator)) # output 3     \n",
        "                 \n",
        "        Here, iterator is an iterator because it remembers where it left off.\n",
        "\n",
        "   6. Explain the concept of generators in Python and how they are defined.\n",
        "\n",
        "     - Generators in Python are a special type of iterable that allow lazy\n",
        "       evaluation, meaning they generate values on the fly instead of storing them in memory. They are defined using functions and the yield keyword.\n",
        "\n",
        "     - Instead of returning a value and terminating like normal functions,\n",
        "       generators pause execution at the yield statement and can resume from there when called again.\n",
        "\n",
        "     - This allows them to save memory and improve performance, especially when\n",
        "       dealing with large data.\n",
        "\n",
        "     - Defining a Generator\n",
        "       A generator function is simply a function that contains the yield keyword.\n",
        "\n",
        "\n",
        "      def count_up_to(n):\n",
        "      count = 1\n",
        "      while count <= n:\n",
        "        yield count  # Instead of return, it yields values one at a time\n",
        "        count += 1\n",
        "\n",
        "          # Using the generator\n",
        "           gen = count_up_to(5)\n",
        "\n",
        "          for num in gen:\n",
        "           print(num)\n",
        "\n",
        " 7. What are the advantages of using generators over regular functions?\n",
        "    \n",
        "    - Advantages of Using Generators Over Regular Functions\n",
        "      Generators offer several advantages over regular functions, particularly in terms of memory efficiency, performance, and code simplicity. Here’s why you should use generators:\n",
        "\n",
        "       a. Memory Efficiency (Lazy Evaluation):-\n",
        "          Generators produce values on demand instead of storing them all at once in memory.\n",
        "      \n",
        "          This is useful when dealing with large datasets or infinite sequences.\n",
        "       \n",
        "        Example:\n",
        "      \n",
        "        def generate_numbers():\n",
        "      \n",
        "          num = 0\n",
        "          while True:\n",
        "              yield num\n",
        "              num += 1\n",
        "      \n",
        "       gen = generate_numbers()\n",
        "\n",
        "       print(next(gen))\n",
        "\n",
        "       print(next(gen))  \n",
        "    \n",
        "     b.Faster Execution:-\n",
        "       Since values are generated one at a time, generators start returning results immediately instead of waiting for the entire computation to complete.\n",
        "       \n",
        "       Ideal for streaming data or real-time processing.\n",
        "    \n",
        "     c.Simplifies Code for Iterators:-\n",
        "       Generators provide a simpler way to create iterators without having to implement the __iter__() and __next__() methods.\n",
        "       \n",
        "       Example:\n",
        "      \n",
        "       def count_up_to(n):\n",
        "           count = 1\n",
        "           while count <= n:\n",
        "               yield count\n",
        "               count += 1\n",
        "\n",
        "     d. Can Represent Infinite Sequences:-\n",
        "        Regular lists require pre-allocating memory, while generators can produce infinite sequences dynamically without consuming excessive memory.\n",
        "    \n",
        "        Example:\n",
        "    \n",
        "        def fibonacci():\n",
        "           a, b = 0, 1\n",
        "         while True:\n",
        "            yield a\n",
        "            a, b = b, a + b\n",
        "\n",
        "     e. Improved Performance in Large Data Processing:-\n",
        "        Generators work well with file handling and large datasets, avoiding the need to load everything into memory.\n",
        "    \n",
        "       Example: Reading a file line by line:\n",
        "    \n",
        "       def read_large_file(filename):\n",
        "        with open(filename, \"r\") as file:\n",
        "            for line in file:\n",
        "                yield line.strip()  # Yield one line at a time\n",
        "     f. On-Demand Computation:-\n",
        "       Generators compute values only when needed, reducing the cost of computation.\n",
        "    \n",
        "       Example:-\n",
        "\n",
        "        squares = (x**2 for x in range(1000000))  # Uses generator expression\n",
        "\n",
        "       print(next(squares))  # 0\n",
        "\n",
        "       print(next(squares))  # 1\n",
        "\n",
        "  8. What is a lambda function in Python and when is it typically used?\n",
        "\n",
        "    - A lambda function in Python is an anonymous (nameless) function that is\n",
        "      defined using the lambda keyword. It can have any number of arguments but only one expression.\n",
        "\n",
        "    - The expression is evaluated and returned.\n",
        "\n",
        "    - No need to use return explicitly.\n",
        "\n",
        "    - Typically used for short, simple operations.\n",
        "     e.g:-\n",
        "     square = lambda x: x * x\n",
        "     print(square(5))  # Output: 25\n",
        "\n",
        "      When to Use Lambda Functions?\n",
        "\n",
        "       Short, Simple Functions – When you need a function for a small operation without defining it using def.\n",
        "\n",
        "       Inline Function Calls – Useful in situations where a function is used only once.\n",
        "\n",
        "       Higher-Order Functions – Often used with functions like map(), filter(),  and sorted().\n",
        "    \n",
        "   9. Explain the purpose and usage of the `map()` function in Python.\n",
        "\n",
        "       - map() Function in Python:-\n",
        "      The map() function is used to apply a given function to each item in an iterable (such as a list, tuple, or set) without using explicit loops.\n",
        "\n",
        "        function → The function to apply to each element.\n",
        "\n",
        "        iterable → The sequence (list, tuple, etc.) to be processed.\n",
        "\n",
        "        Returns → A map object (an iterator) which can be converted to a list, tuple, or set.\n",
        "\n",
        "        e.g:-\n",
        "             def square(num):\n",
        "             return num * num\n",
        "\n",
        "             numbers = [1, 2, 3, 4, 5]\n",
        "             squared_numbers = list(map(square, numbers))\n",
        "             print(squared_numbers)\n",
        "\n",
        "        use of map() function:-\n",
        "\n",
        "     -  When applying a single operation to all elements in an iterable.\n",
        "\n",
        "     - When working with large datasets (since map() is memory-efficient).\n",
        "\n",
        "     -  When working with functional programming concepts.\n",
        "\n",
        "   10. What is the difference between `map()`, `reduce()`, and `filter()`\n",
        "     functions in Python?\n",
        "\n",
        "      - Difference Between map(), reduce(), and filter() in Python\n",
        "      - These are built-in functional programming functions that operate on\n",
        "      iterables. Each serves a different purpose:\n",
        "\n",
        "      a. map() – Transforming Elements:-\n",
        "      map() applies a function to each element in an iterable.\n",
        "\n",
        "      e.g-  numbers = [1, 2, 3, 4, 5]\n",
        "           squared = list(map(lambda x: x**2, numbers))\n",
        "           print(squared) # output- [1, 4, 9, 16, 25]\n",
        "\n",
        "      b. filter() – Selecting Elements:-\n",
        "         filter() keeps elements that satisfy a condition (i.e., return True from the function).\n",
        "\n",
        "         e.g-  numbers = [1, 2, 3, 4, 5, 6]\n",
        "           even_numbers = list(filter(lambda x: x % 2 == 0, numbers))\n",
        "           print(even_numbers)  # output-[2, 4, 6]\n",
        "   \n",
        "      c. reduce() – Aggregating Elements:-\n",
        "         reduce() reduces an iterable to a single value using a function.\n",
        "     \n",
        "         e.g- from functools import reduce\n",
        "          numbers = [1, 2, 3, 4]\n",
        "          product = reduce(lambda x, y: x * y, numbers)\n",
        "          print(product)  # Output- 24\n",
        "          \n",
        "          Difference:-\n",
        "\n",
        "          Function   \tPurpose\t                       Returns\n",
        "          map()       \tApplies a function to each     A map object (iterator).\n",
        "                  element of an itrable.\n",
        "  \n",
        "         filter()\t   Filters elements based on      A filter objec(iterator).  \n",
        "                 a condition.\n",
        "\n",
        "         reduce()\t   Reduces the iterable to a single    A single value.      \n",
        "                 single value using an accumulation  \n",
        "                 function.\n",
        "  \n",
        "\n",
        "\n"
      ],
      "metadata": {
        "id": "DqLqvder9N3x"
      }
    },
    {
      "cell_type": "markdown",
      "source": [],
      "metadata": {
        "id": "MOZovifCrWE-"
      }
    },
    {
      "cell_type": "code",
      "source": [
        "# 1. Write a Python function that takes a list of numbers as input and returns the sum of all even numbers in the list.\n",
        "def sum_of_evens(numbers):\n",
        "    return sum(num for num in numbers if num % 2 == 0)\n",
        "nums = [1, 2, 3, 4, 5, 6, 7, 8, 9, 10]\n",
        "result = sum_of_evens(nums)\n",
        "print(\"Sum of even numbers:\", result)\n"
      ],
      "metadata": {
        "id": "MqBxtwm2mBG1",
        "colab": {
          "base_uri": "https://localhost:8080/"
        },
        "outputId": "03568417-7188-4768-e92c-993df656f1f5"
      },
      "execution_count": null,
      "outputs": [
        {
          "output_type": "stream",
          "name": "stdout",
          "text": [
            "Sum of even numbers: 30\n"
          ]
        }
      ]
    },
    {
      "cell_type": "code",
      "source": [
        " #2. Create a Python function that accepts a string and returns the reverse of that string.\n",
        "def reverse_string(s):\n",
        "     return s[::-1] #use the slicing to reverse the string\n",
        "text = \"welcome to the office\"\n",
        "reversed_text = reverse_string(text)\n",
        "print(\"reversed string:\", reversed_text)"
      ],
      "metadata": {
        "colab": {
          "base_uri": "https://localhost:8080/"
        },
        "id": "AAjvTvlgq4Uc",
        "outputId": "4d847ca9-31ee-449e-8949-d5d763d1b5ee"
      },
      "execution_count": null,
      "outputs": [
        {
          "output_type": "stream",
          "name": "stdout",
          "text": [
            "reversed string: eciffo eht ot emoclew\n"
          ]
        }
      ]
    },
    {
      "cell_type": "code",
      "source": [
        " #3. Implement a Python function that takes a list of integers and returns a new list containing the squares of each number\n",
        "def square_numbers(numbers):\n",
        "    return [num ** 2 for num in numbers]\n",
        "nums = [1, 2, 3, 4, 5]\n",
        "squared_nums = square_numbers(nums)\n",
        "print(\"Squared Numbers:\", squared_nums)\n",
        "\n"
      ],
      "metadata": {
        "id": "Jm8g2sTTwDIZ",
        "colab": {
          "base_uri": "https://localhost:8080/"
        },
        "outputId": "a2e5cdc5-d6c9-4d63-ab85-ad99ff755c2c"
      },
      "execution_count": null,
      "outputs": [
        {
          "output_type": "stream",
          "name": "stdout",
          "text": [
            "Squared Numbers: [1, 4, 9, 16, 25]\n"
          ]
        }
      ]
    },
    {
      "cell_type": "code",
      "source": [
        " #4. Write a Python function that checks if a given number is prime or not from 1 to 200.\n",
        "def is_prime(number):\n",
        "    if number <= 1:\n",
        "        return False\n",
        "    if number <= 3:\n",
        "        return True\n",
        "    if number % 2 == 0 or number % 3 == 0:\n",
        "        return False\n",
        "    i = 5\n",
        "    while i * i <= number:\n",
        "        if number % i == 0 or number % (i + 2) == 0:\n",
        "            return False\n",
        "        i += 6\n",
        "    return True\n",
        "for num in range(1, 201):\n",
        "    if is_prime(num):\n",
        "        print(num,end=' ')"
      ],
      "metadata": {
        "colab": {
          "base_uri": "https://localhost:8080/"
        },
        "id": "iUk6OH7MvKuP",
        "outputId": "93ccdfd9-c320-4ffd-d830-f2b4d103e678"
      },
      "execution_count": null,
      "outputs": [
        {
          "output_type": "stream",
          "name": "stdout",
          "text": [
            "2 3 5 7 11 13 17 19 23 29 31 37 41 43 47 53 59 61 67 71 73 79 83 89 97 101 103 107 109 113 127 131 137 139 149 151 157 163 167 173 179 181 191 193 197 199 "
          ]
        }
      ]
    },
    {
      "cell_type": "code",
      "source": [
        " #5. Create an iterator class in Python that generates the Fibonacci sequence up to a specified number of terms\n",
        "class FibonacciIterator:\n",
        "    def __init__(self, limit):\n",
        "        self.limit = limit\n",
        "        self.a, self.b = 0, 1\n",
        "        self.count = 0\n",
        "\n",
        "    def __iter__(self):\n",
        "        return self\n",
        "\n",
        "    def __next__(self):\n",
        "        if self.count >= self.limit:\n",
        "            raise StopIteration\n",
        "        result = self.a\n",
        "        self.a, self.b = self.b, self.a + self.b\n",
        "        self.count += 1\n",
        "        return result\n",
        "fib_iterator = FibonacciIterator(10)\n",
        "for num in fib_iterator:\n",
        "    print(num,end=' ')\n"
      ],
      "metadata": {
        "id": "fy0KPmOiMU_J",
        "colab": {
          "base_uri": "https://localhost:8080/"
        },
        "outputId": "65bd52fd-9eca-41c0-9d1e-d8526a744fef"
      },
      "execution_count": null,
      "outputs": [
        {
          "output_type": "stream",
          "name": "stdout",
          "text": [
            "0 1 1 2 3 5 8 13 21 34 "
          ]
        }
      ]
    },
    {
      "cell_type": "code",
      "source": [
        "# 6. Write a generator function in Python that yields the powers of 2 up to a given exponent.\n",
        "def powers_of_two(max_exponent):\n",
        "    \"\"\"Generator function that yields powers of 2 from 2^0 up to 2^max_exponent.\"\"\"\n",
        "    for exponent in range(max_exponent + 1):\n",
        "        yield 2 ** exponent\n",
        "for power in powers_of_two(15):\n",
        "    print(power,end=' ')\n",
        "\n"
      ],
      "metadata": {
        "id": "sw0Mf7EIOT2h",
        "colab": {
          "base_uri": "https://localhost:8080/"
        },
        "outputId": "e6061ac5-76d6-4c35-bb4c-682186b88467"
      },
      "execution_count": null,
      "outputs": [
        {
          "output_type": "stream",
          "name": "stdout",
          "text": [
            "1 2 4 8 16 32 64 128 256 512 1024 2048 4096 8192 16384 32768 "
          ]
        }
      ]
    },
    {
      "cell_type": "code",
      "source": [
        "# 7. Implement a generator function that reads a file line by line and yields each line as a string.\n",
        "#from docx import Document\n",
        "\n",
        "def read_file_line_by_line(newstory):\n",
        "    \"\"\"Generator function to read a file line by line.\"\"\"\n",
        "    with open('newstory.txt', 'r', encoding='utf-8') as file:\n",
        "        for line in file:\n",
        "            yield line.strip()  # Yield each line without extra spaces\n",
        "\n",
        "file_path = (\"/content/newstory.txt\")  # Replace with your actual file path\n",
        "\n",
        "for line in read_file_line_by_line(\"newstory.txt\"):\n",
        "    print(line)\n",
        "\n"
      ],
      "metadata": {
        "colab": {
          "base_uri": "https://localhost:8080/"
        },
        "id": "vWA5mTvhJ__I",
        "outputId": "a55407fe-6629-4702-bf97-06b6c901463c"
      },
      "execution_count": null,
      "outputs": [
        {
          "output_type": "stream",
          "name": "stdout",
          "text": [
            "A curious fox wandered deep into the forest, chasing the glow of a falling star.\n",
            "He stumbled upon a tiny, glowing door hidden beneath an old oak tree.\n",
            "Inside, a secret world of talking mushrooms and floating lanterns awaited him.\n",
            "The fox promised to keep their world safe in exchange for one magical wish.\n",
            "With a sparkle in his eyes, he vanished, leaving behind only pawprints and stardust.\n"
          ]
        }
      ]
    },
    {
      "cell_type": "code",
      "source": [
        "# 8. Use a lambda function in Python to sort a list of tuples based on the second element of each tuple.\n",
        "# List of tuples\n",
        "data = [(1, 5), (3, 2), (4, 8), (2, 1)]\n",
        "\n",
        "# Sorting based on the second element of each tuple\n",
        "sorted_data = sorted(data, key=lambda x: x[1])\n",
        "\n",
        "# Printing the sorted list\n",
        "print(sorted_data)\n"
      ],
      "metadata": {
        "colab": {
          "base_uri": "https://localhost:8080/"
        },
        "id": "SaYcOU9-L_I-",
        "outputId": "211c05bc-bbf4-41c1-d1bb-1c2188b7bf9e"
      },
      "execution_count": null,
      "outputs": [
        {
          "output_type": "stream",
          "name": "stdout",
          "text": [
            "[(2, 1), (3, 2), (1, 5), (4, 8)]\n"
          ]
        }
      ]
    },
    {
      "cell_type": "code",
      "source": [
        " #9. Write a Python program that uses `map()` to convert a list of temperatures from Celsius to Fahrenheit.\n",
        "# F = (9/5)*C + 32\n",
        "def celsius_to_fahrenheit(celsius):\n",
        "    return (9/5) * celsius + 32\n",
        "celsius_temperatures = [0, 10, 20, 30, 40]\n",
        "fahrenheit_temperatures = list(map(celsius_to_fahrenheit, celsius_temperatures))\n",
        "print(\"Celsius Temperatures:\", celsius_temperatures)\n",
        "print(\"Fahrenheit Temperatures:\", fahrenheit_temperatures)\n"
      ],
      "metadata": {
        "colab": {
          "base_uri": "https://localhost:8080/"
        },
        "id": "nlgoIImKpjWL",
        "outputId": "7635fd8b-0020-4fe7-e990-fe3f6721a42f"
      },
      "execution_count": null,
      "outputs": [
        {
          "output_type": "stream",
          "name": "stdout",
          "text": [
            "Celsius Temperatures: [0, 10, 20, 30, 40]\n",
            "Fahrenheit Temperatures: [32.0, 50.0, 68.0, 86.0, 104.0]\n"
          ]
        }
      ]
    },
    {
      "cell_type": "code",
      "source": [
        " #10. Create a Python program that uses `filter()` to remove all the vowels from a given string.\n",
        "def remove_vowels(string):\n",
        "    vowels = 'aeiouAEIOU'\n",
        "    return ''.join(filter(lambda x: x not in vowels, string))\n",
        "input_string = \"Hello, World!\"\n",
        "result = remove_vowels(input_string)\n",
        "print(\"Original String:\", input_string)\n",
        "print(\"String without Vowels:\", result)\n"
      ],
      "metadata": {
        "colab": {
          "base_uri": "https://localhost:8080/"
        },
        "id": "7R0RfpP_z9ZS",
        "outputId": "25195b11-c271-4213-fd2d-2fcf17a9c0cb"
      },
      "execution_count": null,
      "outputs": [
        {
          "output_type": "stream",
          "name": "stdout",
          "text": [
            "Original String: Hello, World!\n",
            "String without Vowels: Hll, Wrld!\n"
          ]
        }
      ]
    },
    {
      "cell_type": "code",
      "source": [
        "#11 Imagine an accounting routine used in a book shop. It works on a list with sublists, which look like this:\n",
        "# Write a Python program, which returns a list with 2-tuples. Each tuple consists of the order number and the\n",
        "#product of the price per item and the quantity. The product should be increased by 10,- € if the value of the\n",
        "#order is smaller than 100,00 €r\n",
        "def calculate_order_totals(orders):\n",
        "    result = []\n",
        "\n",
        "    for order_number, quantity, price_per_item in orders:\n",
        "        total_price = quantity * price_per_item\n",
        "\n",
        "        # Add €10 surcharge if total price is less than €100\n",
        "        if total_price < 100:\n",
        "            total_price += 10\n",
        "\n",
        "        result.append((order_number, total_price))\n",
        "\n",
        "    return result\n",
        "\n",
        "# Sample order list: (Order Number, Quantity, Price per Item)\n",
        "orders = [\n",
        "    (34587, 4, 40.95), # 4 * 40.95 = 163.8\n",
        "    (98762, 5, 56.80), # 5 * 56.80 = 284.0\n",
        "]\n",
        "\n",
        "# Process orders and print result\n",
        "processed_orders = calculate_order_totals(orders)\n",
        "print(processed_orders)\n"
      ],
      "metadata": {
        "colab": {
          "base_uri": "https://localhost:8080/"
        },
        "id": "_wmZM3m0hx8a",
        "outputId": "77b27a0a-ae7f-4835-e4c1-369a08d7f379"
      },
      "execution_count": null,
      "outputs": [
        {
          "output_type": "stream",
          "name": "stdout",
          "text": [
            "[(34587, 163.8), (98762, 284.0)]\n"
          ]
        }
      ]
    },
    {
      "cell_type": "code",
      "source": [
        "#12.Write a Python program using lambda and map.\n",
        "numbers = [1, 2, 3, 4, 5]\n",
        "\n",
        "# Using map() with lambda to square each number\n",
        "squared_numbers = list(map(lambda x: x ** 2, numbers))\n",
        "\n",
        "print(squared_numbers)"
      ],
      "metadata": {
        "colab": {
          "base_uri": "https://localhost:8080/"
        },
        "id": "m-wt1eiIiDux",
        "outputId": "d8614d47-4db6-4029-887c-ebe20ddf37d7"
      },
      "execution_count": null,
      "outputs": [
        {
          "output_type": "stream",
          "name": "stdout",
          "text": [
            "[1, 4, 9, 16, 25]\n"
          ]
        }
      ]
    }
  ]
}