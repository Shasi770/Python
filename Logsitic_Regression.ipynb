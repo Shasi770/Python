{
  "nbformat": 4,
  "nbformat_minor": 0,
  "metadata": {
    "colab": {
      "provenance": []
    },
    "kernelspec": {
      "name": "python3",
      "display_name": "Python 3"
    },
    "language_info": {
      "name": "python"
    }
  },
  "cells": [
    {
      "cell_type": "markdown",
      "source": [
        "#1.What is Logistic Regression, and how does it differ from Linear Regression?\n",
        "   - Logistic Regression is a statistical method used for binary    classification problems. It predicts the probability that a given input belongs to a particular category (e.g., Yes/No, 0/1, Pass/Fail).\n",
        "\n",
        "   - Linear Regression is Predicts continuous numeric values (e.g., price, temperature) and logistic Regression predicts probability of class membership (classification).\n",
        "\n",
        "#2.What is the mathematical equation of Logistic Regression?\n",
        "  - Mathematical equation of logistic regression-\n",
        "\n",
        "        P = 1 / 1+e-(β0+β1x1+β2x2+…+βnxn)\n",
        "\n",
        " where:\n",
        "   p = probability of the outcome being class 1 (e.g. success, yes, positive class)\n",
        "\n",
        "   𝛽0 = intercept (bias term)\n",
        "\n",
        "   𝛽1,𝛽2,...,𝛽𝑛 =  coefficients for each predictor variable\n",
        "\n",
        "   x1,x2,...,xn = predictor variables\n",
        "\n",
        "   e = Euler's number (~2.71828)\n",
        "\n",
        "#3.Why do we use the Sigmoid function in Logistic Regression?\n",
        "  - The sigmoid function enables logistic regression to model   probabilities and convert linear combinations of features into outputs interpretable as class probabilities, forming the foundation of binary classification.\n",
        "\n",
        "#4.What is the cost function of Logistic Regression?\n",
        "  - The cost function in logistic regression, also known as the logistic loss or cross-entropy loss, is used to measure the error between the predicted probabilities and the true labels. The goal of logistic regression is to minimize this cost function during the model training process.\n",
        "\n",
        "#5.What is Regularization in Logistic Regression? Why is it needed?\n",
        "  - Regularization is a technique used to prevent overfitting by adding a penalty term to the cost function in logistic regression.\n",
        "\n",
        "  - Regularization in logistic regression is needed to prevent overfitting,Controls model complexity, Improves generalisation performance.\n",
        "\n",
        "#6.Explain the difference between Lasso, Ridge, and Elastic Net regression.\n",
        "  - The difference between lasso, ridge, and elastic net regression:\n",
        "  - Lasso Regression (L1): It selects only important features and removes unnecessary ones.\n",
        "  - Ridge Regression (L2): Keeps all features, just reduces their impact to avoid overfitting.\n",
        "  -  Elastic Net Regression: Combines both Lasso and Ridge penalties, It shrinks coefficients and can remove some features, useful when many features are correlated.\n",
        "\n",
        "#7.When should we use Elastic Net instead of Lasso or Ridge?\n",
        "   - Your dataset has many features, some of which are important, and others are noise.Elastic Net will remove unnecessary features (via L1) and shrink others (via L2) to prevent overfitting.\n",
        "\n",
        "\n",
        " - Use Elastic Net when you have many correlated features and want the benefits of both Lasso (feature selection) and Ridge (stability).\n",
        "\n",
        "#8.What is the impact of the regularization parameter (λ) in Logistic Regression?\n",
        "  - λ is the regularization parameter that controls the strength of the penalty applied to the model coefficients.\n",
        "  \n",
        "  If λ is very large: The penalty is very high and coefficients are heavily shrunk towards zero, Model becomes very simple, possibly underfitting the data because it cannot capture patterns well.\n",
        "\n",
        "  If λ is very small (close to zero): The penalty is almost negligible and\n",
        "  model behaves like ordinary logistic regression without regularization,\n",
        "  May lead to overfitting, especially if the model is complex or data is noisy.\n",
        "\n",
        "#9.What are the key assumptions of Logistic Regression?\n",
        "  - Binary outcome\n",
        "  - Independent observations\n",
        "  - No high multicollinearity\n",
        "  - Linearity between predictors and log-odds\n",
        "  - Large sample size\n",
        "\n",
        "#10.What are some alternatives to Logistic Regression for classification tasks?\n",
        "   - Here some alternatives to logistic regression for classification tasks:\n",
        "     \n",
        "   - Decision Trees : Creates a tree-like model of decisions and handles both numerical and categorical data so that easy to interpret but prone to overfitting.\n",
        "\n",
        "   - Random Forest : An ensemble of multiple decision trees and reduces overfitting by averaging results so that Works well for most tabular classification tasks.\n",
        "\n",
        "#11.What are Classification Evaluation Metrics?\n",
        "   - Classification evaluation metrics are quantitative measures used to assess how well a classification model is performing. They help in understanding model accuracy, error types, and prediction quality.\n",
        "\n",
        "#12.How does class imbalance affect Logistic Regression?\n",
        "   - Class imbalance occurs when the number of instances in one class is much higher than in the other class(es).\n",
        "\n",
        "   Example: Fraud detection where fraudulent transactions (minority class) are far fewer than normal transactions (majority class).\n",
        "   \n",
        "   - Impact logistic regression due to  Bias towards Majority Class,  Poor Recall for Minority Class, Misleading Accuracy, Poor Decision Boundary.\n",
        "\n",
        "#13.What is Hyperparameter Tuning in Logistic Regression?\n",
        "   - Hyperparameter tuning in Logistic Regression is the process of finding the best values for parameters like regularization strength (C) and penalty type to improve model performance.\n",
        "\n",
        "#14. What are different solvers in Logistic Regression? Which one should be used?\n",
        "   - In scikit-learn's Logistic Regression, solvers are optimization algorithms used to find the best model parameters.There are liblinear, lbfgs (Limited-memory BFGS), newton-cg, sag (Stochastic Average Gradient), saga.we should be used lbfgs as the general default solver.\n",
        "   Use saga if you need L1 regularization or Elastic Net on large datasets.Use liblinear for small datasets with L1 regularization.\n",
        "\n",
        "#15.How is Logistic Regression extended for multiclass classification?\n",
        "   - ogistic Regression is originally for binary classification. To handle multiclass classification (more than two classes), it is extended using :\n",
        "\n",
        "   One-vs-Rest: Multiple binary models (one per class).\n",
        "\n",
        "   Multinomial/Softmax: Single model predicting all classes together.\n",
        "\n",
        "#16.What are the advantages and disadvantages of Logistic Regression?\n",
        "   - Advantages:\n",
        "   \n",
        "    - Simple and easy to implement\n",
        "    - Computationally Efficient\n",
        "    - Provides Probabilistic Outputs\n",
        "    - Works Well with Linearly Separable Data\n",
        "    - Less Prone to Overfitting (with Regularization)\n",
        "  \n",
        "- Disadvantages:\n",
        "    \n",
        "    - Assumes Linear Relationship\n",
        "    - Not Suitable for Complex Relationships\n",
        "    - Sensitive to Outliers\n",
        "    - Requires Large Sample Size\n",
        "    - Limited Flexibility\n",
        "\n",
        "#17.What are some use cases of Logistic Regression?\n",
        "   - Logistic Regression is widely used for classification problems where the output is categorical (binary or multiclass). Some common use cases include: Medical Diagnosis, Spam Detection, Marketing, Fraud Detection etc.\n",
        "\n",
        "#18.What is the difference between Softmax Regression and Logistic Regression?\n",
        "   - Logistic Regression is for binary classification using sigmoid activation.\n",
        "\n",
        "   use case example-Predicting spam or not spam.\n",
        "\n",
        "   - Softmax Regression (also called Multinomial Logistic Regression) is for multiclass classification, using softmax activation to output probabilities for each class.\n",
        "\n",
        "   Use case example-Predicting digit classes (0-9) in MNIST dataset.\n",
        "\n",
        "#19. How do we choose between One-vs-Rest (OvR) and Softmax for multiclass classification?\n",
        "   - Choose Softmax (Multinomial) when:\n",
        "\n",
        "      - You want true multiclass probability outputs.\n",
        "\n",
        "      - Classes are mutually exclusive and inter-related.\n",
        "\n",
        "      - Your solver supports it efficiently.\n",
        "\n",
        "- Choose OvR when:\n",
        "\n",
        "     - You prefer simpler conceptual binary models.\n",
        "\n",
        "     - You have very high number of classes, and Softmax becomes  computationally intensive.\n",
        "\n",
        "     - You suspect some classes may share features making OvR separation easier.\n",
        "\n",
        "#20.How do we interpret coefficients in Logistic Regression?\n",
        "   - In Logistic Regression: The model predicts the log-odds of the outcome.Each coefficient represents the change in log-odds of the outcome for a one-unit increase in that predictor, holding all other variables constant.\n",
        "\n",
        "\n",
        "\n",
        "\n",
        "\n",
        "\n",
        "\n",
        "\n"
      ],
      "metadata": {
        "id": "MFXBbbC_Aknc"
      }
    },
    {
      "cell_type": "code",
      "source": [
        "#1.Write a Python program that loads a dataset, splits it into training and testing sets, applies Logistic Regression, and prints the model accuracy.\n",
        "from sklearn.datasets import load_iris\n",
        "from sklearn.model_selection import train_test_split\n",
        "from sklearn.linear_model import LogisticRegression\n",
        "from sklearn.metrics import accuracy_score\n",
        "\n",
        "# Load dataset (using Iris dataset for example)\n",
        "iris = load_iris()\n",
        "X = iris.data\n",
        "y = iris.target\n",
        "\n",
        "# Split into training and testing sets (80% train, 20% test)\n",
        "X_train, X_test, y_train, y_test = train_test_split(X, y, test_size=0.2, random_state=42)\n",
        "\n",
        "# Create Logistic Regression model\n",
        "model = LogisticRegression(max_iter=200)\n",
        "\n",
        "# Fit model on training data\n",
        "model.fit(X_train, y_train)\n",
        "\n",
        "# Make predictions on testing data\n",
        "y_pred = model.predict(X_test)\n",
        "\n",
        "# Calculate and print model accuracy\n",
        "accuracy = accuracy_score(y_test, y_pred)\n",
        "print(\"Logistic Regression Model Accuracy:\", accuracy)\n",
        "\n"
      ],
      "metadata": {
        "colab": {
          "base_uri": "https://localhost:8080/"
        },
        "id": "wzphyrhEyGla",
        "outputId": "dd39177f-818b-426a-a501-d30596052e27"
      },
      "execution_count": null,
      "outputs": [
        {
          "output_type": "stream",
          "name": "stdout",
          "text": [
            "Logistic Regression Model Accuracy: 1.0\n"
          ]
        }
      ]
    },
    {
      "cell_type": "code",
      "source": [
        "#2. Write a Python program to apply L1 regularization (Lasso) on a dataset using LogisticRegression(penalty='l1') and print the model accuracy.\n",
        "\n",
        "from sklearn.datasets import load_iris\n",
        "from sklearn.model_selection import train_test_split\n",
        "from sklearn.linear_model import LogisticRegression\n",
        "from sklearn.metrics import accuracy_score\n",
        "\n",
        "# Load dataset (using Iris dataset as example)\n",
        "iris = load_iris()\n",
        "X = iris.data\n",
        "y = iris.target\n",
        "# Split into training and testing sets (80% train, 20% test)\n",
        "X_train, X_test, y_train, y_test = train_test_split(X, y, test_size=0.2, random_state=42)\n",
        "\n",
        "# Create Logistic Regression model with L1 regularization\n",
        "model = LogisticRegression(penalty='l1', solver='liblinear', max_iter=200)\n",
        "\n",
        "# Fit model on training data\n",
        "model.fit(X_train, y_train)\n",
        "\n",
        "# Make predictions on testing data\n",
        "y_pred = model.predict(X_test)\n",
        "\n",
        "# Calculate and print model accuracy\n",
        "accuracy = accuracy_score(y_test, y_pred)\n",
        "print(\"Logistic Regression Model Accuracy with L1 Regularization:\", accuracy)\n"
      ],
      "metadata": {
        "colab": {
          "base_uri": "https://localhost:8080/"
        },
        "id": "5Ns8PNxY0dkD",
        "outputId": "470f01e1-83ce-432f-8628-cfc640790f73"
      },
      "execution_count": null,
      "outputs": [
        {
          "output_type": "stream",
          "name": "stdout",
          "text": [
            "Logistic Regression Model Accuracy with L1 Regularization: 1.0\n"
          ]
        }
      ]
    },
    {
      "cell_type": "code",
      "source": [
        "#3.Write a Python program to train Logistic Regression with L2 regularization (Ridge) using LogisticRegression(penalty='l2'). Print model accuracy and coefficients.\n",
        "from sklearn.datasets import load_iris\n",
        "from sklearn.model_selection import train_test_split\n",
        "from sklearn.linear_model import LogisticRegression\n",
        "from sklearn.metrics import accuracy_score\n",
        "\n",
        "# Load dataset (using Iris dataset as example)\n",
        "iris = load_iris()\n",
        "X = iris.data\n",
        "y = iris.target\n",
        "\n",
        "# Split into training and testing sets (80% train, 20% test)\n",
        "X_train, X_test, y_train, y_test = train_test_split(X, y, test_size=0.2, random_state=42)\n",
        "\n",
        "# Create Logistic Regression model with L2 regularization (Ridge)\n",
        "model = LogisticRegression(penalty='l2', solver='lbfgs', max_iter=200)\n",
        "\n",
        "# Fit model on training data\n",
        "model.fit(X_train, y_train)\n",
        "\n",
        "# Make predictions on testing data\n",
        "y_pred = model.predict(X_test)\n",
        "\n",
        "# Calculate model accuracy\n",
        "accuracy = accuracy_score(y_test, y_pred)\n",
        "print(\"Logistic Regression Model Accuracy with L2 Regularization:\", accuracy)\n",
        "\n",
        "# Print model coefficients\n",
        "print(\"Model Coefficients (weights for each feature):\")\n",
        "print(model.coef_)\n"
      ],
      "metadata": {
        "colab": {
          "base_uri": "https://localhost:8080/"
        },
        "id": "HlhqVMA70-Rx",
        "outputId": "9433567f-d3b8-48b1-acd5-38bfa4410722"
      },
      "execution_count": null,
      "outputs": [
        {
          "output_type": "stream",
          "name": "stdout",
          "text": [
            "Logistic Regression Model Accuracy with L2 Regularization: 1.0\n",
            "Model Coefficients (weights for each feature):\n",
            "[[-0.39345607  0.96251768 -2.37512436 -0.99874594]\n",
            " [ 0.50843279 -0.25482714 -0.21301129 -0.77574766]\n",
            " [-0.11497673 -0.70769055  2.58813565  1.7744936 ]]\n"
          ]
        }
      ]
    },
    {
      "cell_type": "code",
      "source": [
        "#4.Write a Python program to train Logistic Regression with Elastic Net Regularization (penalty='elasticnet').\n",
        "from sklearn.datasets import load_iris\n",
        "from sklearn.model_selection import train_test_split\n",
        "from sklearn.linear_model import LogisticRegression\n",
        "from sklearn.metrics import accuracy_score\n",
        "\n",
        "# Load dataset (using Iris dataset as example)\n",
        "iris = load_iris()\n",
        "X = iris.data\n",
        "y = iris.target\n",
        "\n",
        "# Split into training and testing sets (80% train, 20% test)\n",
        "X_train, X_test, y_train, y_test = train_test_split(X, y, test_size=0.2, random_state=42)\n",
        "\n",
        "# Create Logistic Regression model with Elastic Net regularization\n",
        "model = LogisticRegression(\n",
        "    penalty='elasticnet',\n",
        "    solver='saga',\n",
        "    l1_ratio=0.5,\n",
        "    max_iter=200\n",
        ")\n",
        "\n",
        "# Fit model on training data\n",
        "model.fit(X_train, y_train)\n",
        "\n",
        "# Make predictions on testing data\n",
        "y_pred = model.predict(X_test)\n",
        "\n",
        "# Calculate and print model accuracy\n",
        "accuracy = accuracy_score(y_test, y_pred)\n",
        "print(\"Logistic Regression Model Accuracy with Elastic Net Regularization:\", accuracy)\n",
        "\n"
      ],
      "metadata": {
        "colab": {
          "base_uri": "https://localhost:8080/"
        },
        "id": "58BjtKRI1ol2",
        "outputId": "266e030f-43ee-4533-b6e0-f4098a9339c8"
      },
      "execution_count": null,
      "outputs": [
        {
          "output_type": "stream",
          "name": "stdout",
          "text": [
            "Logistic Regression Model Accuracy with Elastic Net Regularization: 1.0\n"
          ]
        },
        {
          "output_type": "stream",
          "name": "stderr",
          "text": [
            "/usr/local/lib/python3.11/dist-packages/sklearn/linear_model/_sag.py:348: ConvergenceWarning: The max_iter was reached which means the coef_ did not converge\n",
            "  warnings.warn(\n"
          ]
        }
      ]
    },
    {
      "cell_type": "code",
      "source": [
        "#5.Write a Python program to train a Logistic Regression model for multiclass classification using multi_class='ovr.\n",
        "from sklearn.datasets import load_iris\n",
        "from sklearn.model_selection import train_test_split\n",
        "from sklearn.linear_model import LogisticRegression\n",
        "from sklearn.metrics import accuracy_score\n",
        "\n",
        "# Load dataset (using Iris dataset as example)\n",
        "iris = load_iris()\n",
        "X = iris.data\n",
        "y = iris.target\n",
        "\n",
        "# Split into training and testing sets (80% train, 20% test)\n",
        "X_train, X_test, y_train, y_test = train_test_split(X, y, test_size=0.2, random_state=42)\n",
        "\n",
        "# Create Logistic Regression model for multiclass classification with One-vs-Rest (OvR)\n",
        "model = LogisticRegression(multi_class='ovr', solver='liblinear', max_iter=200)\n",
        "\n",
        "# Fit model on training data\n",
        "model.fit(X_train, y_train)\n",
        "\n",
        "# Make predictions on testing data\n",
        "y_pred = model.predict(X_test)\n",
        "\n",
        "# Calculate and print model accuracy\n",
        "accuracy = accuracy_score(y_test, y_pred)\n",
        "print(\"Logistic Regression Model Accuracy (One-vs-Rest multiclass):\", accuracy)\n"
      ],
      "metadata": {
        "colab": {
          "base_uri": "https://localhost:8080/"
        },
        "id": "R_JoF9kc2Bin",
        "outputId": "4b0a556a-234b-4147-a58d-c25f1b43ea93"
      },
      "execution_count": null,
      "outputs": [
        {
          "output_type": "stream",
          "name": "stdout",
          "text": [
            "Logistic Regression Model Accuracy (One-vs-Rest multiclass): 1.0\n"
          ]
        },
        {
          "output_type": "stream",
          "name": "stderr",
          "text": [
            "/usr/local/lib/python3.11/dist-packages/sklearn/linear_model/_logistic.py:1256: FutureWarning: 'multi_class' was deprecated in version 1.5 and will be removed in 1.7. Use OneVsRestClassifier(LogisticRegression(..)) instead. Leave it to its default value to avoid this warning.\n",
            "  warnings.warn(\n"
          ]
        }
      ]
    },
    {
      "cell_type": "code",
      "source": [
        "#6.Write a Python program to apply GridSearchCV to tune the hyperparameters (C and penalty) of Logistic Regression. Print the best parameters and accuracy.\n",
        "from sklearn.datasets import load_iris\n",
        "from sklearn.model_selection import train_test_split, GridSearchCV\n",
        "from sklearn.linear_model import LogisticRegression\n",
        "from sklearn.metrics import accuracy_score\n",
        "\n",
        "# Load dataset (using Iris dataset as example)\n",
        "iris = load_iris()\n",
        "X = iris.data\n",
        "y = iris.target\n",
        "\n",
        "# Split into training and testing sets (80% train, 20% test)\n",
        "X_train, X_test, y_train, y_test = train_test_split(X, y, test_size=0.2, random_state=42)\n",
        "\n",
        "# Define the parameter grid for GridSearchCV\n",
        "param_grid = {\n",
        "    'C': [0.01, 0.1, 1, 10, 100],\n",
        "    'penalty': ['l1', 'l2'],\n",
        "    'solver': ['liblinear']\n",
        "}\n",
        "\n",
        "# Create Logistic Regression model\n",
        "logreg = LogisticRegression(max_iter=200)\n",
        "\n",
        "# Apply GridSearchCV\n",
        "grid_search = GridSearchCV(logreg, param_grid, cv=5)\n",
        "\n",
        "# Fit GridSearchCV on training data\n",
        "grid_search.fit(X_train, y_train)\n",
        "\n",
        "# Get best parameters\n",
        "best_params = grid_search.best_params_\n",
        "print(\"Best Hyperparameters:\", best_params)\n",
        "\n",
        "# Evaluate best model on test data\n",
        "best_model = grid_search.best_estimator_\n",
        "y_pred = best_model.predict(X_test)\n",
        "accuracy = accuracy_score(y_test, y_pred)\n",
        "print(\"Accuracy with Best Hyperparameters:\", accuracy)\n",
        "\n"
      ],
      "metadata": {
        "id": "9_bnqzSy2iE0",
        "colab": {
          "base_uri": "https://localhost:8080/"
        },
        "outputId": "c3422f7c-2461-4236-cf7f-9fb4bd3f0f39"
      },
      "execution_count": null,
      "outputs": [
        {
          "output_type": "stream",
          "name": "stdout",
          "text": [
            "Best Hyperparameters: {'C': 10, 'penalty': 'l1', 'solver': 'liblinear'}\n",
            "Accuracy with Best Hyperparameters: 1.0\n"
          ]
        }
      ]
    },
    {
      "cell_type": "code",
      "source": [
        "#7.Write a Python program to evaluate Logistic Regression using Stratified K-Fold Cross-Validation. Print the average accuracy.\n",
        "from sklearn.datasets import load_iris\n",
        "from sklearn.linear_model import LogisticRegression\n",
        "from sklearn.model_selection import StratifiedKFold, cross_val_score\n",
        "import numpy as np\n",
        "\n",
        "# Load dataset (using Iris dataset as example)\n",
        "iris = load_iris()\n",
        "X = iris.data\n",
        "y = iris.target\n",
        "\n",
        "# Create Logistic Regression model\n",
        "model = LogisticRegression(max_iter=200, solver='lbfgs')\n",
        "\n",
        "# Define Stratified K-Fold Cross-Validation (using 5 folds here)\n",
        "skf = StratifiedKFold(n_splits=5, shuffle=True, random_state=42)\n",
        "\n",
        "# Evaluate model using cross_val_score with Stratified K-Fold\n",
        "scores = cross_val_score(model, X, y, cv=skf)\n",
        "\n",
        "# Print accuracy for each fold\n",
        "print(\"Accuracies for each fold:\", scores)\n",
        "\n",
        "# Calculate and print average accuracy\n",
        "average_accuracy = np.mean(scores)\n",
        "print(\"Average Accuracy using Stratified K-Fold Cross-Validation:\", average_accuracy)\n",
        "\n"
      ],
      "metadata": {
        "colab": {
          "base_uri": "https://localhost:8080/"
        },
        "id": "-PHtKJi6xxaJ",
        "outputId": "3539de53-ab15-453f-8029-bd0be93623df"
      },
      "execution_count": null,
      "outputs": [
        {
          "output_type": "stream",
          "name": "stdout",
          "text": [
            "Accuracies for each fold: [1.         0.96666667 0.93333333 1.         0.93333333]\n",
            "Average Accuracy using Stratified K-Fold Cross-Validation: 0.9666666666666668\n"
          ]
        }
      ]
    },
    {
      "cell_type": "code",
      "source": [
        "#8.Write a Python program to load a dataset from a CSV file, apply Logistic Regression, and evaluate its accuracy.\n",
        "import pandas as pd\n",
        "from sklearn.model_selection import train_test_split\n",
        "from sklearn.linear_model import LogisticRegression\n",
        "from sklearn.metrics import accuracy_score\n",
        "\n",
        "data = pd.read_csv('your_dataset.csv')\n",
        "\n",
        "print(data.head())\n",
        "\n",
        "X = data.drop('target_column', axis=1)\n",
        "y = data['target_column']\n",
        "\n",
        "# Split the data into training and testing sets (80% train, 20% test)\n",
        "X_train, X_test, y_train, y_test = train_test_split(X, y, test_size=0.2, random_state=42)\n",
        "\n",
        "# Create and train Logistic Regression model\n",
        "model = LogisticRegression(max_iter=1000)  # increased max_iter to ensure convergence\n",
        "model.fit(X_train, y_train)\n",
        "\n",
        "# Make predictions on the test set\n",
        "y_pred = model.predict(X_test)\n",
        "\n",
        "# Calculate and print accuracy\n",
        "accuracy = accuracy_score(y_test, y_pred)\n",
        "print(f\"Accuracy: {accuracy:.4f}\")\n"
      ],
      "metadata": {
        "id": "kIU-Fl0ByeUt"
      },
      "execution_count": null,
      "outputs": []
    },
    {
      "cell_type": "code",
      "source": [
        "#9.Write a Python program to apply RandomizedSearchCV for tuning hyperparameters (C, penalty, solver) in Logistic Regression. Print the best parameters and accuracy.\n",
        "import numpy as np\n",
        "from sklearn.datasets import load_iris\n",
        "from sklearn.model_selection import train_test_split, RandomizedSearchCV\n",
        "from sklearn.linear_model import LogisticRegression\n",
        "from sklearn.metrics import accuracy_score\n",
        "\n",
        "# Load a sample dataset (Iris for multiclass demonstration)\n",
        "X, y = load_iris(return_X_y=True)\n",
        "\n",
        "# Split into training and testing sets\n",
        "X_train, X_test, y_train, y_test = train_test_split(X, y, test_size=0.2, random_state=42)\n",
        "\n",
        "# Define the Logistic Regression model\n",
        "logreg = LogisticRegression(max_iter=1000)\n",
        "\n",
        "# Define the hyperparameter grid\n",
        "param_distributions = {\n",
        "    'C': np.logspace(-4, 4, 20),\n",
        "    'penalty': ['l1', 'l2', 'elasticnet', 'none'],\n",
        "    'solver': ['newton-cg', 'lbfgs', 'liblinear', 'saga']\n",
        "}\n",
        "\n",
        "# Create RandomizedSearchCV\n",
        "random_search = RandomizedSearchCV(\n",
        "    logreg,\n",
        "    param_distributions=param_distributions,\n",
        "    n_iter=20, # number of random combinations to try\n",
        "    scoring='accuracy',\n",
        "    cv=5,\n",
        "    random_state=42,\n",
        "    verbose=1\n",
        ")\n",
        "\n",
        "# Fit RandomizedSearchCV\n",
        "random_search.fit(X_train, y_train)\n",
        "\n",
        "# Get best parameters and score\n",
        "print(\"Best Parameters:\", random_search.best_params_)\n",
        "\n",
        "# Evaluate on test set\n",
        "y_pred = random_search.predict(X_test)\n",
        "accuracy = accuracy_score(y_test, y_pred)\n",
        "print(\"Test Set Accuracy: {:.2f}%\".format(accuracy * 100))\n"
      ],
      "metadata": {
        "id": "9Sr0JCt-u961"
      },
      "execution_count": 1,
      "outputs": []
    },
    {
      "cell_type": "code",
      "source": [
        "#10.Write a Python program to implement One-vs-One (OvO) Multiclass Logistic Regression and print accuracy.\n",
        "from sklearn.datasets import load_iris\n",
        "from sklearn.linear_model import LogisticRegression\n",
        "from sklearn.multiclass import OneVsOneClassifier\n",
        "from sklearn.model_selection import train_test_split\n",
        "from sklearn.metrics import accuracy_score\n",
        "\n",
        "# Load the Iris dataset\n",
        "X, y = load_iris(return_X_y=True)\n",
        "\n",
        "# Split into training and testing sets\n",
        "X_train, X_test, y_train, y_test = train_test_split(X, y, test_size=0.2, random_state=42)\n",
        "\n",
        "# Create Logistic Regression model\n",
        "logreg = LogisticRegression(max_iter=1000)\n",
        "\n",
        "# Wrap it in One-vs-One (OvO) strategy\n",
        "ovo_clf = OneVsOneClassifier(logreg)\n",
        "\n",
        "# Fit the model\n",
        "ovo_clf.fit(X_train, y_train)\n",
        "\n",
        "# Make predictions on test set\n",
        "y_pred = ovo_clf.predict(X_test)\n",
        "\n",
        "# Calculate and print accuracy\n",
        "accuracy = accuracy_score(y_test, y_pred)\n",
        "print(\"One-vs-One Logistic Regression Accuracy: {:.2f}%\".format(accuracy * 100))\n"
      ],
      "metadata": {
        "colab": {
          "base_uri": "https://localhost:8080/"
        },
        "id": "AK-ETKLgxeRO",
        "outputId": "ef26b4b1-51bc-4fa1-a9a3-89ffc0cc3f2c"
      },
      "execution_count": null,
      "outputs": [
        {
          "output_type": "stream",
          "name": "stdout",
          "text": [
            "One-vs-One Logistic Regression Accuracy: 100.00%\n"
          ]
        }
      ]
    },
    {
      "cell_type": "code",
      "source": [
        "#11.Write a Python program to train a Logistic Regression model and visualize the confusion matrix for binary classification.\n",
        "import numpy as np\n",
        "import matplotlib.pyplot as plt\n",
        "from sklearn.datasets import make_classification\n",
        "from sklearn.model_selection import train_test_split\n",
        "from sklearn.linear_model import LogisticRegression\n",
        "from sklearn.metrics import confusion_matrix, ConfusionMatrixDisplay, accuracy_score\n",
        "\n",
        "# Generate a sample binary classification dataset\n",
        "X, y = make_classification(n_samples=500, n_features=4, n_classes=2, random_state=42)\n",
        "\n",
        "# Split into training and testing sets\n",
        "X_train, X_test, y_train, y_test = train_test_split(X, y, test_size=0.2, random_state=42)\n",
        "\n",
        "# Create and train the Logistic Regression model\n",
        "logreg = LogisticRegression()\n",
        "logreg.fit(X_train, y_train)\n",
        "\n",
        "# Make predictions on the test set\n",
        "y_pred = logreg.predict(X_test)\n",
        "\n",
        "# Calculate accuracy\n",
        "accuracy = accuracy_score(y_test, y_pred)\n",
        "print(\"Test Set Accuracy: {:.2f}%\".format(accuracy * 100))\n",
        "\n",
        "# Compute confusion matrix\n",
        "cm = confusion_matrix(y_test, y_pred)\n",
        "\n",
        "# Visualize confusion matrix\n",
        "disp = ConfusionMatrixDisplay(confusion_matrix=cm)\n",
        "disp.plot(cmap=plt.cm.Blues)\n",
        "plt.title(\"Confusion Matrix - Logistic Regression\")\n",
        "plt.show()\n",
        "\n"
      ],
      "metadata": {
        "colab": {
          "base_uri": "https://localhost:8080/",
          "height": 489
        },
        "id": "lZ4yZnWXx4ud",
        "outputId": "d4594717-064f-4424-dce8-bd3c610544d6"
      },
      "execution_count": null,
      "outputs": [
        {
          "output_type": "stream",
          "name": "stdout",
          "text": [
            "Test Set Accuracy: 88.00%\n"
          ]
        },
        {
          "output_type": "display_data",
          "data": {
            "text/plain": [
              "<Figure size 640x480 with 2 Axes>"
            ],
            "image/png": "[encoded data removed]"
          },
          "metadata": {}
        }
      ]
    },
    {
      "cell_type": "code",
      "source": [
        "#12. Write a Python program to train a Logistic Regression model and evaluate its performance using Precision, Recall, and F1-Score.\n",
        "# Import necessary libraries\n",
        "from sklearn.datasets import make_classification\n",
        "from sklearn.model_selection import train_test_split\n",
        "from sklearn.linear_model import LogisticRegression\n",
        "from sklearn.metrics import precision_score, recall_score, f1_score, accuracy_score\n",
        "\n",
        "# Generate a sample binary classification dataset\n",
        "X, y = make_classification(n_samples=500, n_features=4, n_classes=2, random_state=42)\n",
        "\n",
        "# Split into training and testing sets\n",
        "X_train, X_test, y_train, y_test = train_test_split(X, y, test_size=0.2, random_state=42)\n",
        "\n",
        "# Create and train the Logistic Regression model\n",
        "logreg = LogisticRegression()\n",
        "logreg.fit(X_train, y_train)\n",
        "\n",
        "# Make predictions on the test set\n",
        "y_pred = logreg.predict(X_test)\n",
        "\n",
        "# Calculate evaluation metrics\n",
        "accuracy = accuracy_score(y_test, y_pred)\n",
        "precision = precision_score(y_test, y_pred)\n",
        "recall = recall_score(y_test, y_pred)\n",
        "f1 = f1_score(y_test, y_pred)\n",
        "\n",
        "# Print evaluation metrics\n",
        "print(\"Logistic Regression Performance:\")\n",
        "print(\"Accuracy: {:.2f}%\".format(accuracy * 100))\n",
        "print(\"Precision: {:.2f}\".format(precision))\n",
        "print(\"Recall: {:.2f}\".format(recall))\n",
        "print(\"F1-Score: {:.2f}\".format(f1))\n"
      ],
      "metadata": {
        "colab": {
          "base_uri": "https://localhost:8080/"
        },
        "id": "TVvLZfVayRHr",
        "outputId": "e4d5cc04-a6a2-42cd-99c1-67e2e53b8bcd"
      },
      "execution_count": null,
      "outputs": [
        {
          "output_type": "stream",
          "name": "stdout",
          "text": [
            "Logistic Regression Performance:\n",
            "Accuracy: 88.00%\n",
            "Precision: 0.88\n",
            "Recall: 0.91\n",
            "F1-Score: 0.89\n"
          ]
        }
      ]
    },
    {
      "cell_type": "code",
      "source": [
        "#13.Write a Python program to train a Logistic Regression model on imbalanced data and apply class weights to improve model performance.\n",
        "# Import necessary libraries\n",
        "from sklearn.datasets import make_classification\n",
        "from sklearn.model_selection import train_test_split\n",
        "from sklearn.linear_model import LogisticRegression\n",
        "from sklearn.metrics import classification_report, ConfusionMatrixDisplay\n",
        "import matplotlib.pyplot as plt\n",
        "import numpy as np\n",
        "\n",
        "# Generate an imbalanced binary classification dataset\n",
        "X, y = make_classification(n_samples=1000, n_features=4, n_classes=2,\n",
        "                           weights=[0.9, 0.1],\n",
        "                           random_state=42)\n",
        "\n",
        "# Check class distribution\n",
        "unique, counts = np.unique(y, return_counts=True)\n",
        "print(\"Class distribution:\", dict(zip(unique, counts)))\n",
        "\n",
        "# Split into training and testing sets\n",
        "X_train, X_test, y_train, y_test = train_test_split(X, y, test_size=0.2, random_state=42)\n",
        "\n",
        "# Train Logistic Regression without class weights\n",
        "logreg_default = LogisticRegression()\n",
        "logreg_default.fit(X_train, y_train)\n",
        "y_pred_default = logreg_default.predict(X_test)\n",
        "\n",
        "print(\"\\nPerformance WITHOUT class weights:\")\n",
        "print(classification_report(y_test, y_pred_default))\n",
        "\n",
        "# Train Logistic Regression with class weights = 'balanced'\n",
        "logreg_balanced = LogisticRegression(class_weight='balanced')\n",
        "logreg_balanced.fit(X_train, y_train)\n",
        "y_pred_balanced = logreg_balanced.predict(X_test)\n",
        "\n",
        "print(\"\\nPerformance WITH class weights (balanced):\")\n",
        "print(classification_report(y_test, y_pred_balanced))\n",
        "\n",
        "# Visualize confusion matrices\n",
        "fig, axs = plt.subplots(1, 2, figsize=(12, 5))\n",
        "ConfusionMatrixDisplay.from_predictions(y_test, y_pred_default, ax=axs[0], cmap=plt.cm.Blues)\n",
        "axs[0].set_title(\"Without Class Weights\")\n",
        "\n",
        "ConfusionMatrixDisplay.from_predictions(y_test, y_pred_balanced, ax=axs[1], cmap=plt.cm.Blues)\n",
        "axs[1].set_title(\"With Class Weights (balanced)\")\n",
        "\n",
        "plt.tight_layout()\n",
        "plt.show()\n"
      ],
      "metadata": {
        "colab": {
          "base_uri": "https://localhost:8080/",
          "height": 936
        },
        "id": "qmJN-bpJylSh",
        "outputId": "1cfebb04-ce61-41b6-beb1-173d6c274301"
      },
      "execution_count": null,
      "outputs": [
        {
          "output_type": "stream",
          "name": "stdout",
          "text": [
            "Class distribution: {np.int64(0): np.int64(895), np.int64(1): np.int64(105)}\n",
            "\n",
            "Performance WITHOUT class weights:\n",
            "              precision    recall  f1-score   support\n",
            "\n",
            "           0       0.91      1.00      0.95       174\n",
            "           1       1.00      0.35      0.51        26\n",
            "\n",
            "    accuracy                           0.92       200\n",
            "   macro avg       0.96      0.67      0.73       200\n",
            "weighted avg       0.92      0.92      0.90       200\n",
            "\n",
            "\n",
            "Performance WITH class weights (balanced):\n",
            "              precision    recall  f1-score   support\n",
            "\n",
            "           0       0.97      0.93      0.95       174\n",
            "           1       0.62      0.81      0.70        26\n",
            "\n",
            "    accuracy                           0.91       200\n",
            "   macro avg       0.79      0.87      0.82       200\n",
            "weighted avg       0.92      0.91      0.91       200\n",
            "\n"
          ]
        },
        {
          "output_type": "display_data",
          "data": {
            "text/plain": [
              "<Figure size 1200x500 with 4 Axes>"
            ],
            "image/png": "[encoded data removed]"
          },
          "metadata": {}
        }
      ]
    },
    {
      "cell_type": "code",
      "source": [
        "#14. Write a Python program to train Logistic Regression on the Titanic dataset, handle missing values, and evaluate performance.\n",
        "# Import necessary libraries\n",
        "import pandas as pd\n",
        "from sklearn.model_selection import train_test_split\n",
        "from sklearn.linear_model import LogisticRegression\n",
        "from sklearn.metrics import classification_report, accuracy_score\n",
        "from sklearn.preprocessing import LabelEncoder\n",
        "\n",
        "# Load Titanic dataset from seaborn for demonstration (if seaborn installed)\n",
        "import seaborn as sns\n",
        "titanic = sns.load_dataset('titanic')\n",
        "\n",
        "# Display first few rows to understand\n",
        "print(titanic.head())\n",
        "\n",
        "# Select relevant features and target\n",
        "features = ['pclass', 'sex', 'age', 'sibsp', 'parch', 'fare', 'embarked']\n",
        "titanic = titanic[features + ['survived']]\n",
        "\n",
        "# For numerical columns, fill with median\n",
        "titanic['age'].fillna(titanic['age'].median(), inplace=True)\n",
        "titanic['fare'].fillna(titanic['fare'].median(), inplace=True)\n",
        "\n",
        "# For categorical columns, fill with mode\n",
        "titanic['embarked'].fillna(titanic['embarked'].mode()[0], inplace=True)\n",
        "\n",
        "# Encode categorical variables\n",
        "le_sex = LabelEncoder()\n",
        "titanic['sex'] = le_sex.fit_transform(titanic['sex'])\n",
        "\n",
        "le_embarked = LabelEncoder()\n",
        "titanic['embarked'] = le_embarked.fit_transform(titanic['embarked'])\n",
        "\n",
        "# Define features (X) and target (y)\n",
        "X = titanic[features]\n",
        "y = titanic['survived']\n",
        "\n",
        "# Split into train and test sets\n",
        "X_train, X_test, y_train, y_test = train_test_split(X, y, test_size=0.2, random_state=42)\n",
        "\n",
        "# Create and train Logistic Regression model\n",
        "logreg = LogisticRegression(max_iter=1000)\n",
        "logreg.fit(X_train, y_train)\n",
        "\n",
        "# Make predictions\n",
        "y_pred = logreg.predict(X_test)\n",
        "\n",
        "# Evaluate performance\n",
        "accuracy = accuracy_score(y_test, y_pred)\n",
        "print(\"\\nTest Set Accuracy: {:.2f}%\".format(accuracy * 100))\n",
        "print(\"\\nClassification Report:\")\n",
        "print(classification_report(y_test, y_pred))\n"
      ],
      "metadata": {
        "colab": {
          "base_uri": "https://localhost:8080/"
        },
        "id": "_WFqXbVMzJiT",
        "outputId": "5a0de431-a391-4f6e-c352-70fe889ead1a"
      },
      "execution_count": null,
      "outputs": [
        {
          "output_type": "stream",
          "name": "stdout",
          "text": [
            "   survived  pclass     sex   age  sibsp  parch     fare embarked  class  \\\n",
            "0         0       3    male  22.0      1      0   7.2500        S  Third   \n",
            "1         1       1  female  38.0      1      0  71.2833        C  First   \n",
            "2         1       3  female  26.0      0      0   7.9250        S  Third   \n",
            "3         1       1  female  35.0      1      0  53.1000        S  First   \n",
            "4         0       3    male  35.0      0      0   8.0500        S  Third   \n",
            "\n",
            "     who  adult_male deck  embark_town alive  alone  \n",
            "0    man        True  NaN  Southampton    no  False  \n",
            "1  woman       False    C    Cherbourg   yes  False  \n",
            "2  woman       False  NaN  Southampton   yes   True  \n",
            "3  woman       False    C  Southampton   yes  False  \n",
            "4    man        True  NaN  Southampton    no   True  \n"
          ]
        },
        {
          "output_type": "stream",
          "name": "stderr",
          "text": [
            "/tmp/ipython-input-9-1463281833.py:25: FutureWarning: A value is trying to be set on a copy of a DataFrame or Series through chained assignment using an inplace method.\n",
            "The behavior will change in pandas 3.0. This inplace method will never work because the intermediate object on which we are setting values always behaves as a copy.\n",
            "\n",
            "For example, when doing 'df[col].method(value, inplace=True)', try using 'df.method({col: value}, inplace=True)' or df[col] = df[col].method(value) instead, to perform the operation inplace on the original object.\n",
            "\n",
            "\n",
            "  titanic['age'].fillna(titanic['age'].median(), inplace=True)\n",
            "/tmp/ipython-input-9-1463281833.py:26: FutureWarning: A value is trying to be set on a copy of a DataFrame or Series through chained assignment using an inplace method.\n",
            "The behavior will change in pandas 3.0. This inplace method will never work because the intermediate object on which we are setting values always behaves as a copy.\n",
            "\n",
            "For example, when doing 'df[col].method(value, inplace=True)', try using 'df.method({col: value}, inplace=True)' or df[col] = df[col].method(value) instead, to perform the operation inplace on the original object.\n",
            "\n",
            "\n",
            "  titanic['fare'].fillna(titanic['fare'].median(), inplace=True)\n",
            "/tmp/ipython-input-9-1463281833.py:29: FutureWarning: A value is trying to be set on a copy of a DataFrame or Series through chained assignment using an inplace method.\n",
            "The behavior will change in pandas 3.0. This inplace method will never work because the intermediate object on which we are setting values always behaves as a copy.\n",
            "\n",
            "For example, when doing 'df[col].method(value, inplace=True)', try using 'df.method({col: value}, inplace=True)' or df[col] = df[col].method(value) instead, to perform the operation inplace on the original object.\n",
            "\n",
            "\n",
            "  titanic['embarked'].fillna(titanic['embarked'].mode()[0], inplace=True)\n"
          ]
        },
        {
          "output_type": "stream",
          "name": "stdout",
          "text": [
            "\n",
            "Test Set Accuracy: 81.01%\n",
            "\n",
            "Classification Report:\n",
            "              precision    recall  f1-score   support\n",
            "\n",
            "           0       0.83      0.86      0.84       105\n",
            "           1       0.79      0.74      0.76        74\n",
            "\n",
            "    accuracy                           0.81       179\n",
            "   macro avg       0.81      0.80      0.80       179\n",
            "weighted avg       0.81      0.81      0.81       179\n",
            "\n"
          ]
        }
      ]
    },
    {
      "cell_type": "code",
      "source": [
        "#15. Write a Python program to apply feature scaling (Standardization) before training a Logistic Regression model. Evaluate its accuracy and compare results with and without scaling.\n",
        "\n",
        "from sklearn.datasets import make_classification\n",
        "from sklearn.model_selection import train_test_split\n",
        "from sklearn.linear_model import LogisticRegression\n",
        "from sklearn.preprocessing import StandardScaler\n",
        "from sklearn.metrics import accuracy_score\n",
        "\n",
        "# Generate a sample dataset\n",
        "X, y = make_classification(n_samples=500, n_features=4, n_classes=2, random_state=42)\n",
        "\n",
        "# Split into training and testing sets\n",
        "X_train, X_test, y_train, y_test = train_test_split(X, y, test_size=0.2, random_state=42)\n",
        "\n",
        "# ========== Logistic Regression WITHOUT Scaling ==========\n",
        "# Create and train the model\n",
        "logreg_no_scaling = LogisticRegression()\n",
        "logreg_no_scaling.fit(X_train, y_train)\n",
        "\n",
        "# Make predictions\n",
        "y_pred_no_scaling = logreg_no_scaling.predict(X_test)\n",
        "\n",
        "# Calculate accuracy\n",
        "accuracy_no_scaling = accuracy_score(y_test, y_pred_no_scaling)\n",
        "print(\"Accuracy WITHOUT Scaling: {:.2f}%\".format(accuracy_no_scaling * 100))\n",
        "\n",
        "# ========== Logistic Regression WITH Standardization ==========\n",
        "# Apply StandardScaler\n",
        "scaler = StandardScaler()\n",
        "X_train_scaled = scaler.fit_transform(X_train)\n",
        "X_test_scaled = scaler.transform(X_test)\n",
        "\n",
        "# Create and train the model\n",
        "logreg_scaling = LogisticRegression()\n",
        "logreg_scaling.fit(X_train_scaled, y_train)\n",
        "\n",
        "# Make predictions\n",
        "y_pred_scaling = logreg_scaling.predict(X_test_scaled)\n",
        "\n",
        "# Calculate accuracy\n",
        "accuracy_scaling = accuracy_score(y_test, y_pred_scaling)\n",
        "print(\"Accuracy WITH Standardization: {:.2f}%\".format(accuracy_scaling * 100))\n",
        "\n",
        "# ========== Comparison ==========\n",
        "improvement = accuracy_scaling - accuracy_no_scaling\n",
        "print(\"\\nAccuracy Improvement with Standardization: {:.2f}%\".format(improvement * 100))\n"
      ],
      "metadata": {
        "colab": {
          "base_uri": "https://localhost:8080/"
        },
        "id": "nrVvqZOK03kB",
        "outputId": "215d2437-4b3d-4565-9413-71367d264afa"
      },
      "execution_count": null,
      "outputs": [
        {
          "output_type": "stream",
          "name": "stdout",
          "text": [
            "Accuracy WITHOUT Scaling: 88.00%\n",
            "Accuracy WITH Standardization: 88.00%\n",
            "\n",
            "Accuracy Improvement with Standardization: 0.00%\n"
          ]
        }
      ]
    },
    {
      "cell_type": "code",
      "source": [
        "#16.Write a Python program to train Logistic Regression and evaluate its performance using ROC-AUC score.\n",
        "# Import necessary libraries\n",
        "from sklearn.datasets import make_classification\n",
        "from sklearn.model_selection import train_test_split\n",
        "from sklearn.linear_model import LogisticRegression\n",
        "from sklearn.metrics import roc_auc_score, roc_curve\n",
        "import matplotlib.pyplot as plt\n",
        "\n",
        "# Generate a sample binary classification dataset\n",
        "X, y = make_classification(n_samples=500, n_features=4, n_classes=2, random_state=42)\n",
        "\n",
        "# Split into training and testing sets\n",
        "X_train, X_test, y_train, y_test = train_test_split(X, y, test_size=0.2, random_state=42)\n",
        "\n",
        "# Create and train the Logistic Regression model\n",
        "logreg = LogisticRegression()\n",
        "logreg.fit(X_train, y_train)\n",
        "\n",
        "# Get predicted probabilities for the positive class\n",
        "y_prob = logreg.predict_proba(X_test)[:, 1]\n",
        "\n",
        "# Calculate ROC-AUC score\n",
        "roc_auc = roc_auc_score(y_test, y_prob)\n",
        "print(\"ROC-AUC Score: {:.2f}\".format(roc_auc))\n",
        "\n",
        "# Compute ROC curve points\n",
        "fpr, tpr, thresholds = roc_curve(y_test, y_prob)\n",
        "\n",
        "# Plot ROC curve\n",
        "plt.figure(figsize=(8, 6))\n",
        "plt.plot(fpr, tpr, label='Logistic Regression (AUC = {:.2f})'.format(roc_auc))\n",
        "plt.plot([0, 1], [0, 1], 'k--', label='Random Classifier')\n",
        "plt.xlabel('False Positive Rate')\n",
        "plt.ylabel('True Positive Rate')\n",
        "plt.title('ROC Curve - Logistic Regression')\n",
        "plt.legend(loc='lower right')\n",
        "plt.grid(True)\n",
        "plt.show()\n"
      ],
      "metadata": {
        "colab": {
          "base_uri": "https://localhost:8080/",
          "height": 581
        },
        "id": "NVAN_rVm1sjW",
        "outputId": "3135186c-63cc-497e-8414-e51be155098d"
      },
      "execution_count": null,
      "outputs": [
        {
          "output_type": "stream",
          "name": "stdout",
          "text": [
            "ROC-AUC Score: 0.94\n"
          ]
        },
        {
          "output_type": "display_data",
          "data": {
            "text/plain": [
              "<Figure size 800x600 with 1 Axes>"
            ],
            "image/png": "[encoded data removed]"
          },
          "metadata": {}
        }
      ]
    },
    {
      "cell_type": "code",
      "source": [
        "#17.Write a Python program to train Logistic Regression using a custom learning rate (C=0.5) and evaluate accuracy.\n",
        "from sklearn.datasets import make_classification\n",
        "from sklearn.model_selection import train_test_split\n",
        "from sklearn.linear_model import LogisticRegression\n",
        "from sklearn.metrics import accuracy_score\n",
        "\n",
        "# Generate a sample binary classification dataset\n",
        "X, y = make_classification(n_samples=500, n_features=4, n_classes=2, random_state=42)\n",
        "\n",
        "# Split into training and testing sets\n",
        "X_train, X_test, y_train, y_test = train_test_split(X, y, test_size=0.2, random_state=42)\n",
        "\n",
        "# Create Logistic Regression model with custom learning rate (C=0.5)\n",
        "# Note: In scikit-learn, 'C' is the inverse of regularization strength (smaller C = stronger regularization)\n",
        "logreg = LogisticRegression(C=0.5, max_iter=1000)\n",
        "\n",
        "# Train the model\n",
        "logreg.fit(X_train, y_train)\n",
        "\n",
        "# Make predictions\n",
        "y_pred = logreg.predict(X_test)\n",
        "\n",
        "# Calculate accuracy\n",
        "accuracy = accuracy_score(y_test, y_pred)\n",
        "print(\"Accuracy with C=0.5: {:.2f}%\".format(accuracy * 100))\n"
      ],
      "metadata": {
        "colab": {
          "base_uri": "https://localhost:8080/"
        },
        "id": "AnQ-3x8F2UA0",
        "outputId": "52778752-e6db-4bbd-9c64-3ce468551d35"
      },
      "execution_count": null,
      "outputs": [
        {
          "output_type": "stream",
          "name": "stdout",
          "text": [
            "Accuracy with C=0.5: 88.00%\n"
          ]
        }
      ]
    },
    {
      "cell_type": "code",
      "source": [
        "#18.Write a Python program to train Logistic Regression and identify important features based on model coefficients.\n",
        "import pandas as pd\n",
        "from sklearn.datasets import make_classification\n",
        "from sklearn.model_selection import train_test_split\n",
        "from sklearn.linear_model import LogisticRegression\n",
        "\n",
        "# Generate a sample binary classification dataset with feature names\n",
        "X, y = make_classification(n_samples=500, n_features=5, n_classes=2, random_state=42)\n",
        "feature_names = ['feature1', 'feature2', 'feature3', 'feature4', 'feature5']\n",
        "X_df = pd.DataFrame(X, columns=feature_names)\n",
        "\n",
        "# Split into training and testing sets\n",
        "X_train, X_test, y_train, y_test = train_test_split(X_df, y, test_size=0.2, random_state=42)\n",
        "\n",
        "# Create and train Logistic Regression model\n",
        "logreg = LogisticRegression()\n",
        "logreg.fit(X_train, y_train)\n",
        "\n",
        "# Get model coefficients\n",
        "coefficients = logreg.coef_[0]\n",
        "\n",
        "# Create a dataframe for feature importance\n",
        "feature_importance = pd.DataFrame({\n",
        "    'Feature': feature_names,\n",
        "    'Coefficient': coefficients,\n",
        "    'Absolute_Coefficient': abs(coefficients)\n",
        "})\n",
        "\n",
        "# Sort by absolute coefficient value to identify important features\n",
        "feature_importance.sort_values(by='Absolute_Coefficient', ascending=False, inplace=True)\n",
        "\n",
        "# Display feature importance\n",
        "print(\"Feature Importance based on Logistic Regression Coefficients:\\n\")\n",
        "print(feature_importance[['Feature', 'Coefficient']])\n"
      ],
      "metadata": {
        "colab": {
          "base_uri": "https://localhost:8080/"
        },
        "id": "JpCr1Z4e2kua",
        "outputId": "782db7c4-7ee8-45ea-d9b8-4340a4a38f74"
      },
      "execution_count": null,
      "outputs": [
        {
          "output_type": "stream",
          "name": "stdout",
          "text": [
            "Feature Importance based on Logistic Regression Coefficients:\n",
            "\n",
            "    Feature  Coefficient\n",
            "0  feature1     2.217639\n",
            "3  feature4     0.593411\n",
            "2  feature3    -0.217991\n",
            "1  feature2     0.117032\n",
            "4  feature5    -0.068383\n"
          ]
        }
      ]
    },
    {
      "cell_type": "code",
      "source": [
        "#19.Write a Python program to train Logistic Regression and evaluate its performance using Cohen’s Kappa Score.\n",
        "from sklearn.datasets import make_classification\n",
        "from sklearn.model_selection import train_test_split\n",
        "from sklearn.linear_model import LogisticRegression\n",
        "from sklearn.metrics import cohen_kappa_score\n",
        "\n",
        "# Generate a sample binary classification dataset\n",
        "X, y = make_classification(n_samples=500, n_features=4, n_classes=2, random_state=42)\n",
        "\n",
        "# Split into training and testing sets\n",
        "X_train, X_test, y_train, y_test = train_test_split(X, y, test_size=0.2, random_state=42)\n",
        "\n",
        "# Create and train the Logistic Regression model\n",
        "logreg = LogisticRegression()\n",
        "logreg.fit(X_train, y_train)\n",
        "\n",
        "# Make predictions\n",
        "y_pred = logreg.predict(X_test)\n",
        "\n",
        "# Calculate Cohen's Kappa Score\n",
        "kappa = cohen_kappa_score(y_test, y_pred)\n",
        "print(\"Cohen's Kappa Score: {:.2f}\".format(kappa))\n"
      ],
      "metadata": {
        "colab": {
          "base_uri": "https://localhost:8080/"
        },
        "id": "6n_fFazB21yX",
        "outputId": "cec69872-65af-4856-c7b6-1244570a8d3f"
      },
      "execution_count": null,
      "outputs": [
        {
          "output_type": "stream",
          "name": "stdout",
          "text": [
            "Cohen's Kappa Score: 0.76\n"
          ]
        }
      ]
    },
    {
      "cell_type": "code",
      "source": [
        "#20.Write a Python program to train Logistic Regression and visualize the Precision-Recall Curve for binary classification.\n",
        "from sklearn.datasets import make_classification\n",
        "from sklearn.model_selection import train_test_split\n",
        "from sklearn.linear_model import LogisticRegression\n",
        "from sklearn.metrics import precision_recall_curve, average_precision_score\n",
        "import matplotlib.pyplot as plt\n",
        "\n",
        "# Generate a sample binary classification dataset\n",
        "X, y = make_classification(n_samples=500, n_features=4, n_classes=2, random_state=42)\n",
        "\n",
        "# Split into training and testing sets\n",
        "X_train, X_test, y_train, y_test = train_test_split(X, y, test_size=0.2, random_state=42)\n",
        "\n",
        "# Create and train the Logistic Regression model\n",
        "logreg = LogisticRegression()\n",
        "logreg.fit(X_train, y_train)\n",
        "\n",
        "# Get predicted probabilities for the positive class\n",
        "y_prob = logreg.predict_proba(X_test)[:, 1]\n",
        "\n",
        "# Compute Precision-Recall curve points\n",
        "precision, recall, thresholds = precision_recall_curve(y_test, y_prob)\n",
        "\n",
        "# Calculate Average Precision Score (area under PR curve)\n",
        "avg_precision = average_precision_score(y_test, y_prob)\n",
        "\n",
        "# Plot Precision-Recall curve\n",
        "plt.figure(figsize=(8, 6))\n",
        "plt.plot(recall, precision, label='Logistic Regression (AP = {:.2f})'.format(avg_precision))\n",
        "plt.xlabel('Recall')\n",
        "plt.ylabel('Precision')\n",
        "plt.title('Precision-Recall Curve - Logistic Regression')\n",
        "plt.legend(loc='upper right')\n",
        "plt.grid(True)\n",
        "plt.show()\n"
      ],
      "metadata": {
        "colab": {
          "base_uri": "https://localhost:8080/",
          "height": 564
        },
        "id": "DurhNwJJ3MBp",
        "outputId": "256bc211-a9fa-41ed-b0ae-4b75001f37ee"
      },
      "execution_count": null,
      "outputs": [
        {
          "output_type": "display_data",
          "data": {
            "text/plain": [
              "<Figure size 800x600 with 1 Axes>"
            ],
            "image/png": "[encoded data removed]"
          },
          "metadata": {}
        }
      ]
    },
    {
      "cell_type": "code",
      "source": [
        "#21.Write a Python program to train Logistic Regression with different solvers (liblinear, saga, lbfgs) and compare their accuracy.\n",
        "from sklearn.datasets import make_classification\n",
        "from sklearn.model_selection import train_test_split\n",
        "from sklearn.linear_model import LogisticRegression\n",
        "from sklearn.metrics import accuracy_score\n",
        "\n",
        "# Generate a sample binary classification dataset\n",
        "X, y = make_classification(n_samples=500, n_features=4, n_classes=2, random_state=42)\n",
        "\n",
        "# Split into training and testing sets\n",
        "X_train, X_test, y_train, y_test = train_test_split(X, y, test_size=0.2, random_state=42)\n",
        "\n",
        "# Define solvers to compare\n",
        "solvers = ['liblinear', 'saga', 'lbfgs']\n",
        "\n",
        "# Dictionary to store accuracies\n",
        "accuracy_results = {}\n",
        "\n",
        "# Train and evaluate Logistic Regression with different solvers\n",
        "for solver in solvers:\n",
        "    # Create Logistic Regression model with specified solver\n",
        "    logreg = LogisticRegression(solver=solver, max_iter=1000)\n",
        "\n",
        "    # Fit the model\n",
        "    logreg.fit(X_train, y_train)\n",
        "\n",
        "    # Make predictions\n",
        "    y_pred = logreg.predict(X_test)\n",
        "\n",
        "    # Calculate accuracy\n",
        "    accuracy = accuracy_score(y_test, y_pred)\n",
        "\n",
        "    # Store result\n",
        "    accuracy_results[solver] = accuracy\n",
        "    print(\"Solver: {:10s} | Accuracy: {:.2f}%\".format(solver, accuracy * 100))\n",
        "\n",
        "# Print summary\n",
        "print(\"\\n=== Solver Accuracy Comparison ===\")\n",
        "for solver, acc in accuracy_results.items():\n",
        "    print(\"{:10s}: {:.2f}%\".format(solver, acc * 100))\n",
        "\n"
      ],
      "metadata": {
        "colab": {
          "base_uri": "https://localhost:8080/"
        },
        "id": "aChqsvvT3mJR",
        "outputId": "7cd04772-0a3c-42c8-87f0-c25f2b154316"
      },
      "execution_count": null,
      "outputs": [
        {
          "output_type": "stream",
          "name": "stdout",
          "text": [
            "Solver: liblinear  | Accuracy: 88.00%\n",
            "Solver: saga       | Accuracy: 88.00%\n",
            "Solver: lbfgs      | Accuracy: 88.00%\n",
            "\n",
            "=== Solver Accuracy Comparison ===\n",
            "liblinear : 88.00%\n",
            "saga      : 88.00%\n",
            "lbfgs     : 88.00%\n"
          ]
        }
      ]
    },
    {
      "cell_type": "code",
      "source": [
        "#22.Write a Python program to train Logistic Regression and evaluate its performance using Matthews Correlation Coefficient (MCC).\n",
        "from sklearn.datasets import make_classification\n",
        "from sklearn.model_selection import train_test_split\n",
        "from sklearn.linear_model import LogisticRegression\n",
        "from sklearn.metrics import matthews_corrcoef\n",
        "\n",
        "# Generate a sample binary classification dataset\n",
        "X, y = make_classification(n_samples=500, n_features=4, n_classes=2, random_state=42)\n",
        "\n",
        "# Split into training and testing sets\n",
        "X_train, X_test, y_train, y_test = train_test_split(X, y, test_size=0.2, random_state=42)\n",
        "\n",
        "# Create and train the Logistic Regression model\n",
        "logreg = LogisticRegression()\n",
        "logreg.fit(X_train, y_train)\n",
        "\n",
        "# Make predictions\n",
        "y_pred = logreg.predict(X_test)\n",
        "\n",
        "# Calculate Matthews Correlation Coefficient (MCC)\n",
        "mcc = matthews_corrcoef(y_test, y_pred)\n",
        "print(\"Matthews Correlation Coefficient (MCC): {:.2f}\".format(mcc))\n"
      ],
      "metadata": {
        "colab": {
          "base_uri": "https://localhost:8080/"
        },
        "id": "r2beuEtT3_Sb",
        "outputId": "db581531-0e22-42fc-916e-ae51a0063238"
      },
      "execution_count": null,
      "outputs": [
        {
          "output_type": "stream",
          "name": "stdout",
          "text": [
            "Matthews Correlation Coefficient (MCC): 0.76\n"
          ]
        }
      ]
    },
    {
      "cell_type": "code",
      "source": [
        "#23.Write a Python program to train Logistic Regression on both raw and standardized data. Compare their accuracy to see the impact of feature scaling.\n",
        "from sklearn.datasets import make_classification\n",
        "from sklearn.model_selection import train_test_split\n",
        "from sklearn.linear_model import LogisticRegression\n",
        "from sklearn.preprocessing import StandardScaler\n",
        "from sklearn.metrics import accuracy_score\n",
        "\n",
        "# Generate a sample binary classification dataset\n",
        "X, y = make_classification(n_samples=500, n_features=4, n_classes=2, random_state=42)\n",
        "\n",
        "# Split into training and testing sets\n",
        "X_train, X_test, y_train, y_test = train_test_split(X, y, test_size=0.2, random_state=42)\n",
        "\n",
        "# ========== Logistic Regression on RAW data ==========\n",
        "# Create and train the model\n",
        "logreg_raw = LogisticRegression(max_iter=1000)\n",
        "logreg_raw.fit(X_train, y_train)\n",
        "\n",
        "# Make predictions\n",
        "y_pred_raw = logreg_raw.predict(X_test)\n",
        "\n",
        "# Calculate accuracy\n",
        "accuracy_raw = accuracy_score(y_test, y_pred_raw)\n",
        "print(\"Accuracy on RAW data: {:.2f}%\".format(accuracy_raw * 100))\n",
        "\n",
        "# ========== Logistic Regression on STANDARDIZED data ==========\n",
        "# Apply StandardScaler\n",
        "scaler = StandardScaler()\n",
        "X_train_scaled = scaler.fit_transform(X_train)\n",
        "X_test_scaled = scaler.transform(X_test)\n",
        "\n",
        "# Create and train the model\n",
        "logreg_scaled = LogisticRegression(max_iter=1000)\n",
        "logreg_scaled.fit(X_train_scaled, y_train)\n",
        "\n",
        "# Make predictions\n",
        "y_pred_scaled = logreg_scaled.predict(X_test_scaled)\n",
        "\n",
        "# Calculate accuracy\n",
        "accuracy_scaled = accuracy_score(y_test, y_pred_scaled)\n",
        "print(\"Accuracy on STANDARDIZED data: {:.2f}%\".format(accuracy_scaled * 100))\n",
        "\n",
        "# ========== Comparison ==========\n",
        "improvement = accuracy_scaled - accuracy_raw\n",
        "print(\"\\nAccuracy Improvement with Standardization: {:.2f}%\".format(improvement * 100))\n"
      ],
      "metadata": {
        "colab": {
          "base_uri": "https://localhost:8080/"
        },
        "id": "NGkF2Cj34SxM",
        "outputId": "5b8b4290-a6cc-4e0a-fb2b-e9a0af5be499"
      },
      "execution_count": null,
      "outputs": [
        {
          "output_type": "stream",
          "name": "stdout",
          "text": [
            "Accuracy on RAW data: 88.00%\n",
            "Accuracy on STANDARDIZED data: 88.00%\n",
            "\n",
            "Accuracy Improvement with Standardization: 0.00%\n"
          ]
        }
      ]
    },
    {
      "cell_type": "code",
      "source": [
        "#24.Write a Python program to train Logistic Regression and find the optimal C (regularization strength) using cross-validation.\n",
        "import numpy as np\n",
        "from sklearn.datasets import make_classification\n",
        "from sklearn.model_selection import train_test_split, GridSearchCV\n",
        "from sklearn.linear_model import LogisticRegression\n",
        "from sklearn.metrics import accuracy_score\n",
        "\n",
        "# Generate a sample binary classification dataset\n",
        "X, y = make_classification(n_samples=500, n_features=4, n_classes=2, random_state=42)\n",
        "\n",
        "# Split into training and testing sets\n",
        "X_train, X_test, y_train, y_test = train_test_split(X, y, test_size=0.2, random_state=42)\n",
        "\n",
        "# Define the Logistic Regression model\n",
        "logreg = LogisticRegression(max_iter=1000)\n",
        "\n",
        "# Define parameter grid for C (regularization strength)\n",
        "param_grid = {\n",
        "    'C': np.logspace(-4, 4, 20)\n",
        "}\n",
        "\n",
        "# Create GridSearchCV\n",
        "grid_search = GridSearchCV(\n",
        "    estimator=logreg,\n",
        "    param_grid=param_grid,\n",
        "    scoring='accuracy',\n",
        "    cv=5,\n",
        "    verbose=1\n",
        ")\n",
        "\n",
        "# Fit GridSearchCV\n",
        "grid_search.fit(X_train, y_train)\n",
        "\n",
        "# Get the best C value\n",
        "best_C = grid_search.best_params_['C']\n",
        "print(\"\\nOptimal C value:\", best_C)\n",
        "\n",
        "# Evaluate accuracy on test set using the best model\n",
        "best_model = grid_search.best_estimator_\n",
        "y_pred = best_model.predict(X_test)\n",
        "accuracy = accuracy_score(y_test, y_pred)\n",
        "print(\"Test Set Accuracy with Optimal C: {:.2f}%\".format(accuracy * 100))\n"
      ],
      "metadata": {
        "colab": {
          "base_uri": "https://localhost:8080/"
        },
        "id": "IaDLxfow4ykg",
        "outputId": "f219ee04-d267-44ad-8b7e-ed963f035b5a"
      },
      "execution_count": null,
      "outputs": [
        {
          "output_type": "stream",
          "name": "stdout",
          "text": [
            "Fitting 5 folds for each of 20 candidates, totalling 100 fits\n",
            "\n",
            "Optimal C value: 0.004832930238571752\n",
            "Test Set Accuracy with Optimal C: 88.00%\n"
          ]
        }
      ]
    },
    {
      "cell_type": "code",
      "source": [
        "#25.Write a Python program to train Logistic Regression, save the trained model using joblib, and load it again to make predictions.\n",
        "import numpy as np\n",
        "from sklearn.linear_model import LogisticRegression\n",
        "from sklearn.datasets import load_iris\n",
        "from sklearn.model_selection import train_test_split\n",
        "from sklearn.metrics import accuracy_score\n",
        "import joblib\n",
        "\n",
        "# Load dataset (Iris dataset for demonstration)\n",
        "iris = load_iris()\n",
        "X = iris.data\n",
        "y = iris.target\n",
        "\n",
        "# Split into training and testing sets\n",
        "X_train, X_test, y_train, y_test = train_test_split(X, y, test_size=0.3, random_state=42)\n",
        "\n",
        "# Train Logistic Regression model\n",
        "model = LogisticRegression(max_iter=200)\n",
        "model.fit(X_train, y_train)\n",
        "\n",
        "# Evaluate on test data\n",
        "y_pred = model.predict(X_test)\n",
        "print(\"Test Accuracy:\", accuracy_score(y_test, y_pred))\n",
        "\n",
        "# Save the trained model using joblib\n",
        "joblib.dump(model, 'logistic_regression_model.joblib')\n",
        "print(\"Model saved as 'logistic_regression_model.joblib'\")\n",
        "\n",
        "# Load the model again\n",
        "loaded_model = joblib.load('logistic_regression_model.joblib')\n",
        "\n",
        "# Make predictions using the loaded model\n",
        "sample_data = np.array([[5.1, 3.5, 1.4, 0.2]])\n",
        "loaded_prediction = loaded_model.predict(sample_data)\n",
        "print(\"Prediction for sample data:\", loaded_prediction)\n"
      ],
      "metadata": {
        "colab": {
          "base_uri": "https://localhost:8080/"
        },
        "id": "1wOeU56j5Jk5",
        "outputId": "46e6b50d-2a66-46a0-b2ac-9835d10ae85e"
      },
      "execution_count": null,
      "outputs": [
        {
          "output_type": "stream",
          "name": "stdout",
          "text": [
            "Test Accuracy: 1.0\n",
            "Model saved as 'logistic_regression_model.joblib'\n",
            "Prediction for sample data: [0]\n"
          ]
        }
      ]
    }
  ]
}