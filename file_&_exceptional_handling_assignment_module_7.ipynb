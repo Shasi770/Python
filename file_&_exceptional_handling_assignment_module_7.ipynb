{
  "nbformat": 4,
  "nbformat_minor": 0,
  "metadata": {
    "colab": {
      "provenance": []
    },
    "kernelspec": {
      "name": "python3",
      "display_name": "Python 3"
    },
    "language_info": {
      "name": "python"
    }
  },
  "cells": [
    {
      "cell_type": "markdown",
      "source": [
        "1.  What is the difference between interpreted and compiled languages?\n",
        "     -  Compiled Languages:-\n",
        "      \n",
        "        - The source code is translated (compiled) into machine code by a\n",
        "          compiler before execution.\n",
        "\n",
        "        - Once compiled, the program can be run directly without needing the\n",
        "          source code or compiler again.\n",
        "\n",
        "          Pros:-\n",
        "          - Faster execution after compilation.\n",
        "\n",
        "          - Code is generally more secure and harder to reverse-engineer.\n",
        "\n",
        "          Cons:-\n",
        "\n",
        "          - Needs a separate compilation step before running.\n",
        "\n",
        "          - Platform-dependent unless specially managed.\n",
        "\n",
        "          Examples:\n",
        "          C, C++, Go, Rust\n",
        "\n",
        "     - Interpreted Languages:-\n",
        "\n",
        "       - The source code is executed line-by-line by an interpreter at runtime.\n",
        "\n",
        "       - No separate compilation step needed.\n",
        "\n",
        "       Pros:-\n",
        "\n",
        "         - Easier to test and debug.\n",
        "\n",
        "         - Platform-independent (as long as the interpreter is available).\n",
        "\n",
        "       Cons:-\n",
        "\n",
        "         - Slower execution.\n",
        "\n",
        "         - Source code is exposed (less secure).\n",
        "\n",
        "        Examples:\n",
        "            Python, JavaScript, Ruby, PHP\n",
        "\n",
        "2. What is exception handling in Python\n",
        "    - Python exception handling is a mechanism that allows you to catch and\n",
        "      manage errors that occur during program execution. It's an important part of Python programming that helps ensure your code runs smoothly.\n",
        "\n",
        "3.  What is the purpose of the finally block in exception handling?\n",
        "     - The purpose of the finally block in exception handling is to ensure that\n",
        "       a specific block of code, typically cleanup or resource release tasks, is executed regardless of whether an exception occurred or not within the try block.\n",
        "\n",
        "        Purpose of finally:-\n",
        "\n",
        "        - To ensure certain code always runs, even if an exception occurs.\n",
        "\n",
        "        - Often used to release resources like:\n",
        "\n",
        "        - Closing files\n",
        "\n",
        "        - Closing network connections\n",
        "\n",
        "        - Releasing locks or memory\n",
        "\n",
        "4.  What is logging in Python?\n",
        "     - Logging in Python is the process of tracking events that happen during\n",
        "       the execution of a program. It's used to record messages about the program's operation — useful for debugging, monitoring, and auditing.\n",
        "\n",
        "5.  What is the significance of the __del__ method in Python?\n",
        "     - The __del__ method in Python is known as the destructor method. It is\n",
        "       called automatically when an object is about to be destroyed, typically when there are no more references to the object.\n",
        "     - To clean up resources — like closing files, releasing network\n",
        "       connections, or freeing memory — before an object is deleted.\n",
        "\n",
        "6.  What is the difference between import and from ... import in Python?\n",
        "     -  Both import and from ... import are used in Python to bring in modules\n",
        "        or specific elements from modules, but they do it in slightly different ways:\n",
        "     1. import Statement:-\n",
        "                          import math\n",
        "                          print(math.sqrt(16))\n",
        "\n",
        "          - What it does:- Imports the whole math module.\n",
        "\n",
        "          - Usage:- You need to prefix any function/constant with math.\n",
        "\n",
        "     2. from ... import Statement:-\n",
        "                               from math import sqrt\n",
        "                               print(sqrt(16))\n",
        "\n",
        "           - What it does:- Only imports the sqrt function from math.\n",
        "\n",
        "           - Usage:- You can use sqrt() directly without math. prefix.\n",
        "\n",
        "7.  How can you handle multiple exceptions in Python?\n",
        "     - In Python, you can handle multiple exceptions by using multiple except\n",
        "       blocks within a try...except structure, allowing you to specify different handling mechanisms for various error types.\n",
        "\n",
        "     Here's a breakdown:-\n",
        "\n",
        "       - try Block: Encloses the code that might raise exceptions.\n",
        "\n",
        "       - except Blocks: Each except block catches a specific type of exception.\n",
        "\n",
        "       - Multiple except Blocks: You can have multiple except blocks to handle  different exceptions.\n",
        "\n",
        "       - Exception Handling: When an exception occurs within the try block,\n",
        "         Python checks each except block sequentially, and the first matching  except block is executed.\n",
        "\n",
        "       Example:\n",
        "             try:\n",
        "                x = int(\"abc\")\n",
        "                y = 10 / 0\n",
        "             except ValueError:\n",
        "                   print(\"Caught a ValueError!\")\n",
        "             except ZeroDivisionError:\n",
        "                  print(\"Caught a ZeroDivisionError!\")\n",
        "\n",
        "         - Each except block handles a different error type.\n",
        "\n",
        "         - Python executes only the first matching except block.\n",
        "\n",
        "8.  What is the purpose of the with statement when handling files in Python?\n",
        "     - The with statement in Python is used for resource management, especially\n",
        "       when working with files. Its main purpose is to simplify file handling and ensure that resources like files are properly closed, even if an error occurs.\n",
        "\n",
        "9.  What is the difference between multithreading and multiprocessing?\n",
        "     - The difference between multithreading and multiprocessing in Python (or\n",
        "       in general):-\n",
        "\n",
        "        Multithreading:-\n",
        "         - Definition: Running multiple threads (smaller units of a process) within a single process.\n",
        "\n",
        "         - Purpose: Best for I/O-bound tasks (e.g., reading/writing files, web\n",
        "           scraping, waiting for user input).\n",
        "\n",
        "         - Threads share memory: Since all threads belong to the same process,\n",
        "           they share the same memory space.\n",
        "\n",
        "         - Lightweight: Less memory overhead, faster context switching.\n",
        "\n",
        "        - Python Limitation: Affects CPU-bound tasks due to the Global\n",
        "          interpreter Lock (GIL) — only one thread executes Python bytecode at a time.\n",
        "\n",
        "          Example use cases:\n",
        "\n",
        "          - Downloading multiple files from the internet.\n",
        "\n",
        "          - Reading from multiple files simultaneously.\n",
        "\n",
        "\n",
        "        - Multiprocessing:-\n",
        "           - Definition: Running multiple processes, each with its own Python\n",
        "             interpreter and memory space.\n",
        "\n",
        "          - Purpose: Best for CPU-bound tasks (e.g., heavy computations, data\n",
        "            processing).\n",
        "\n",
        "        -  Processes are independent: They don’t share memory directly.\n",
        "\n",
        "        -  More overhead: Creating processes is heavier than threads, but\n",
        "           bypasses the GIL in Python.\n",
        "\n",
        "         Example use cases:-\n",
        "          - Image or video processing.\n",
        "\n",
        "          - Performing complex calculations or simulations\n",
        "\n",
        "10.  What are the advantages of using logging in a program?\n",
        "      - Logging offers significant advantages in program development and\n",
        "        management, primarily by enabling easier debugging, monitoring system health, and improving security. It also helps with performance optimization and compliance.\n",
        "\n",
        "11.  What is memory management in Python?\n",
        "      - In Python, memory management is handled automatically by the Python\n",
        "        interpreter using a private heap and mechanisms like reference counting and garbage collection, allowing developers to focus on code logic rather than memory allocation and deallocation.\n",
        "\n",
        "12.  What are the basic steps involved in exception handling in Python?\n",
        "      - In Python, exception handling involves using try, except, else, and\n",
        "        finally blocks to gracefully manage errors and prevent program crashes. The try block contains code that might raise an exception, the except block handles specific exceptions, the else block executes if no exception occurs, and the finally block always executes for cleanup.\n",
        "\n",
        "13.  Why is memory management important in Python?\n",
        "      - Memory management is crucial in Python because it directly impacts\n",
        "        program performance, resource usage, and potential issues like memory leaks, ensuring efficient and stable application execution.\n",
        "\n",
        "14.  What is the role of try and except in exception handling?\n",
        "      - In exception handling, the try block contains code that might\n",
        "        potentially raise an error, while the except block handles the error if one occurs within the try block, allowing the program to continue running gracefully instead of crashing.\n",
        "\n",
        "15.  How does Python's garbage collection system work?\n",
        "      - Python's garbage collection system automatically manages memory by\n",
        "        reclaiming unused or unreachable objects.\n",
        "        \n",
        "        How it work:-\n",
        "\n",
        "       a. Reference Counting\n",
        "        - Every object in Python has a reference count, which tracks how many\n",
        "          references point to it.\n",
        "\n",
        "        - When the reference count drops to zero (i.e., no variable is using    the object), Python immediately deallocates the memory.\n",
        "\n",
        "     b. Garbage Collector for Cyclic References\n",
        "        - Some objects may refer to each other, forming a reference cycle (e.\n",
        "          g., A → B → A), and may never reach a reference count of zero.\n",
        "\n",
        "        - Python’s gc module (garbage collector) can detect and collect these\n",
        "          cyclic references.\n",
        "\n",
        "     c. Generational Collection\n",
        "\n",
        "        Python’s GC categorizes objects into three “generations”:\n",
        "\n",
        "        - Generation 0: Newest objects.\n",
        "\n",
        "        - Generation 1: Survived one collection.\n",
        "\n",
        "        - Generation 2: Long-lived objects.\n",
        "\n",
        "        Garbage collection is more frequent in lower generations. This improves performance since most objects are short-lived.\n",
        "\n",
        "     d. Manual Garbage Collection (Optional)\n",
        "\n",
        "       - You can control it using the gc module\n",
        "\n",
        "        Garbage collection is more frequent in lower generations. This improves performance since most objects are short-lived.\n",
        "\n",
        "     e.Disabling GC\n",
        "       - You can disable it if performance is critical and you're sure cycles\n",
        "         won't occur.\n",
        "\n",
        "\n",
        "16.  What is the purpose of the else block in exception handling?\n",
        "      - The else block in Python exception handling is used to define a block of code that executes only if no exceptions were raised in the try block.\n",
        "\n",
        "     Syntax:\n",
        "          try\n",
        "                # Code that might raise an exception\n",
        "          except SomeException:\n",
        "                # Handle the exception\n",
        "          else:\n",
        "              # Executes if no exception was raised in try\n",
        "          finally:\n",
        "              # Executes no matter what\n",
        "\n",
        "17. What are the common logging levels in Python?\n",
        "     - Python provides a built-in logging module with several standard logging\n",
        "      levels that indicate the severity of events. These levels help you categorize log messages based on their importance.\n",
        "\n",
        "      Common Logging Levels (from lowest to highest severity):-\n",
        "\n",
        "            Level\t  Numeric Valu      \tDescription\n",
        "\n",
        "            DEBUG\t      10\t              Detailed information, mainly useful for diagnosing problems.\n",
        "            INFO\t      20\t              General information about program execution.\n",
        "            WARNING \t  30\t              Indicates something unexpected, but the program continues to run.\n",
        "            ERROR\t      40\t              A more serious problem; the program encountered an error.\n",
        "            CRITICAL  \t50\t              A very serious error, indicating the program may not be able to continue.\n",
        "\n",
        "18. What is the difference between os.fork() and multiprocessing in Python?\n",
        "     - Both os.fork() and the multiprocessing module in Python can be used\n",
        "       to create new processes, but they differ significantly in use case, portability, and level of abstraction.\n",
        "\n",
        "       os.fork()\n",
        "        - Creates a child process by duplicating the current process.\n",
        "\n",
        "        - platform: Unix/Linux only (not available on Windows).\n",
        "        - Low-level: You manage process communication, memory, etc.\n",
        "          yourself.\n",
        "\n",
        "        - Risky for beginners: Because it lacks safety mechanisms or\n",
        "          abstractions.\n",
        "\n",
        "       multiprocessing Module\n",
        "        - What it does: High-level interface to create and manage\n",
        "          independent processes.\n",
        "\n",
        "        - Cross-platform: Works on Windows, Linux, and macOS.\n",
        "\n",
        "        - More Pythonic: Provides classes like Process, Pool, Queue, etc.\n",
        "\n",
        "        - Handles IPC (Inter-Process Communication) and synchronization\n",
        "          with ease.\n",
        "\n",
        "19.  What is the importance of closing a file in Python?\n",
        "      - Closing a file in Python is very important -\n",
        "\n",
        "      a. Releases System Resources\n",
        "\n",
        "       - When a file is open, it consumes system resources (like file\n",
        "         descriptors).\n",
        "\n",
        "       - Closing the file frees these resources so they can be used\n",
        "         elsewhere.\n",
        "\n",
        "      b. Ensures Data is Written to Disk\n",
        "       - For files opened in write or append mode, data is often first     stored in a buffer.\n",
        "\n",
        "       - file.close() flushes this buffer, ensuring that all data is saved\n",
        "         to the disk.\n",
        "\n",
        "       - If not closed properly, data loss may occur.\n",
        "\n",
        "      c. Prevents File Corruption\n",
        "       - Open files can become corrupted if a program crashes or exits\n",
        "         unexpectedly without closing the file.\n",
        "\n",
        "      d. Avoids File Locks\n",
        "       - Some systems lock files while they are open.\n",
        "\n",
        "       - Not closing the file may prevent other programs or processes from\n",
        "         accessing it.\n",
        "\n",
        "        Use with Statement:\n",
        "        - The safest and cleanest way to handle files is using the with statement, which automatically closes the file.\n",
        "\n",
        "20.  What is the difference between file.read() and file.readline() in\n",
        "     Python?\n",
        "      - The difference between file.read() and file.readline() in Python:-\n",
        "\n",
        "      => file.read()\n",
        "        - Reads the entire file (or remaining content) as a single string.\n",
        "\n",
        "        - Useful when you want to read the whole file at once.\n",
        "\n",
        "      => file.readline()\n",
        "        - Reads only one line at a time from the file.\n",
        "\n",
        "        - Each call reads the next line, including the newline character\n",
        "          (\\n) at the end.\n",
        "\n",
        "        - Useful for processing files line-by-line.\n",
        "\n",
        "21.  What is the logging module in Python used for?\n",
        "      - The logging module in Python is used to track events that happen\n",
        "        while a program runs.\n",
        "\n",
        "        When to Use It:-\n",
        "         - Replacing print statements for debugging.\n",
        "\n",
        "         - Logging errors to files for post-mortem analysis.\n",
        "\n",
        "         - Tracking system health and runtime behavior in production apps.\n",
        "\n",
        "22. What is the os module in Python used for in file handling?\n",
        "     - The os module in Python is a built-in library used to interact with\n",
        "       the operating system, especially for file and directory handling.\n",
        "\n",
        "      Common Uses of os Module in File Handling:\n",
        "\n",
        "     a. Navigating Directories:-\n",
        "\n",
        "      - os.getcwd() → Get current working directory.\n",
        "\n",
        "      - os.chdir('path') → Change current directory.\n",
        "\n",
        "     b. Working with Files and Folders:-\n",
        "\n",
        "      - os.listdir('path') → List files and directories.\n",
        "\n",
        "      - os.remove('file.txt') → Delete a file.\n",
        "\n",
        "      - os.rename('old.txt', 'new.txt') → Rename a file.\n",
        "\n",
        "     c. Creating and Deleting Directories:-\n",
        "\n",
        "      - os.mkdir('folder') → Create a new folder.\n",
        "\n",
        "      - os.makedirs('parent/child') → Create nested folders.\n",
        "\n",
        "      - os.rmdir('folder') or os.removedirs('path') → Remove folder(s).\n",
        "\n",
        "     d. Checking Path Information (with os.path submodule):-\n",
        "\n",
        "      - os.path.exists('file.txt') → Check if file/folder exists.\n",
        "\n",
        "      - os.path.isfile() or os.path.isdir() → Check file type.\n",
        "\n",
        "      - os.path.getsize('file.txt') → Get file size in bytes.\n",
        "\n",
        "23. What are the challenges associated with memory management in Python?\n",
        "     - Memory management in Python is mostly handled by the Python memory\n",
        "       manager and garbage collector.\n",
        "\n",
        "     a.Reference Cycles:\n",
        "\n",
        "      - Python uses reference counting and a cyclic garbage collector.\n",
        "\n",
        "      - When objects reference each other (like in mutual references), they\n",
        "       can create reference cycles that are hard to detect and collect.\n",
        "\n",
        "     b.Memory Leaks:\n",
        "\n",
        "      - Long-lived objects (like those stored in global variables,  \n",
        "        caches,  or closures) that are no longer needed can accumulate, especially if  not manually cleaned.\n",
        "\n",
        "      - Happens when developers keep references to unused objects.\n",
        "\n",
        "     c.Memory Usage in Multi-threading:\n",
        "\n",
        "      - Python’s Global Interpreter Lock (GIL) limits true        multi-threading.\n",
        "\n",
        "       - Using threads for memory-intensive tasks may not free memory as\n",
        "         efficiently.\n",
        "\n",
        "     d.Inefficient Data Structures:\n",
        "\n",
        "       - Using memory-heavy structures like large lists of objects instead\n",
        "         of more efficient ones like generators, sets, or arrays can lead to unnecessary memory use.\n",
        "\n",
        "      e.Not Releasing Memory Immediately:\n",
        "\n",
        "         - The garbage collector doesn't always release memory right away.\n",
        "\n",
        "         - Memory held by C extensions, or large blocks allocated via the\n",
        "           memory allocator, may not be returned to the OS immediately.\n",
        "\n",
        "     f.Debugging Memory Issues:\n",
        "\n",
        "       - Tracking down memory issues (leaks, fragmentation, bloating) can  be hard without proper profiling tools (tracemalloc, objgraph, etc.).\n",
        "\n",
        "24. How do you raise an exception manually in Python?\n",
        "     - In Python, you can raise an exception manually using the raise\n",
        "       keyword followed by an exception class.\n",
        "\n",
        "     - This keyword allows you to throw an exception with a custom error\n",
        "       message. In our example, we define a function called divide() that takes two numbers as arguments and divides them\n",
        "\n",
        "      syntax:\n",
        "            raise ExceptionType(\"Custom error message\")\n",
        "\n",
        "25. Why is it important to use multithreading in certain applications?\n",
        "     - Multithreading is important in applications where it's crucial to\n",
        "       improve performance, responsiveness, and resource utilization.\n",
        "\n",
        "        Key Reasons to Use Multithreading:\n",
        "\n",
        "        a.Improved Responsiveness (UI applications):\n",
        "\n",
        "        - In GUI apps, multithreading allows long-running tasks (like file\n",
        "          downloads) to run in the background while the UI remains responsive to user actions.\n",
        "\n",
        "        b.Parallelism for I/O-bound tasks:\n",
        "\n",
        "        - For operations like reading files, web scraping, or making API\n",
        "          calls, multithreading helps overlap I/O wait times, making programs run faster.\n",
        "\n",
        "        c.Efficient Resource Utilization:\n",
        "\n",
        "        - Threads share the same memory space, which reduces overhead\n",
        "          compared to creating new processes.\n",
        "\n",
        "        d.Faster Execution (in some cases):\n",
        "\n",
        "        - Though Python has a Global Interpreter Lock (GIL) that restricts\n",
        "          true parallel CPU execution, for I/O-bound tasks, multithreading is highly effective.\n",
        "\n",
        "        e.Better Program Structure:\n",
        "\n",
        "       - Separating concerns (e.g., one thread handles logging, another\n",
        "         handles data processing) makes code cleaner and easier to manage.\n",
        "\n",
        "\n",
        "\n",
        "\n",
        "\n",
        "\n",
        "\n",
        "\n",
        "\n",
        "            \n",
        "\n",
        "\n",
        "\n",
        "\n",
        "\n",
        "\n",
        "\n",
        "\n",
        "\n",
        "\n",
        "\n",
        "\n",
        "\n",
        "\n",
        "\n",
        "\n",
        "\n",
        "\n",
        "\n"
      ],
      "metadata": {
        "id": "KZMIbPSlbVx1"
      }
    },
    {
      "cell_type": "code",
      "source": [
        "#1. How can you open a file for writing in Python and write a string to it?\n",
        "file = open(\"example.txt\", \"w\")\n",
        "file.write(\"Hello, This is my string in file\")\n",
        "file.close()\n",
        "\n"
      ],
      "metadata": {
        "id": "dMWAxxhtTPeM"
      },
      "execution_count": null,
      "outputs": []
    },
    {
      "cell_type": "code",
      "source": [
        "#2. Write a Python program to read the contents of a file and print each line.\n",
        "# Open the file in read mode\n",
        "with open(\"example.txt\", \"r\") as file:\n",
        "  file = open(\"example.txt\", \"r\")\n",
        "  for line in file:\n",
        "     print(line)\n",
        "\n"
      ],
      "metadata": {
        "colab": {
          "base_uri": "https://localhost:8080/"
        },
        "id": "VqYttJ5j42_f",
        "outputId": "c280fa58-4765-46aa-f0fc-732380d58463"
      },
      "execution_count": null,
      "outputs": [
        {
          "output_type": "stream",
          "name": "stdout",
          "text": [
            "Hello, This is my string in file\n",
            "\n",
            "Hello,this is the python program\n",
            "\n",
            "these are the lines\n"
          ]
        }
      ]
    },
    {
      "cell_type": "code",
      "source": [
        "#3. How would you handle a case where the file doesn't exist while trying to open it for reading?\n",
        "try:\n",
        "    with open(\"file.txt\", \"r\") as file:\n",
        "        for line in file:\n",
        "            print(line)\n",
        "except FileNotFoundError as fnfe:\n",
        "    print(\"Error: The file does not exist. \\ndetais are: \", fnfe)\n",
        "except Exception as e:\n",
        "    print(f\"An error occurred: {e}\")\n"
      ],
      "metadata": {
        "colab": {
          "base_uri": "https://localhost:8080/"
        },
        "id": "X8NurlGr7BtE",
        "outputId": "fc76dbef-86f1-418a-c506-44843fefa385"
      },
      "execution_count": null,
      "outputs": [
        {
          "output_type": "stream",
          "name": "stdout",
          "text": [
            "Error: The file does not exist. \n",
            "detais are:  [Errno 2] No such file or directory: 'file.txt'\n"
          ]
        }
      ]
    },
    {
      "cell_type": "code",
      "source": [
        "#4. Write a Python script that reads from one file and writes its content to another file.\n",
        "def copy_file(source_file, destination_file):\n",
        "    try:\n",
        "        with open(source_file, 'r') as src:\n",
        "            content = src.read()\n",
        "\n",
        "        with open(destination_file, 'w') as dest:\n",
        "            dest.write(content)\n",
        "\n",
        "        print(f\"Content copied from {source_file} to {destination_file} successfully.\")\n",
        "    except FileNotFoundError as enfe:\n",
        "        print(\"The file does not exist. \\n details are: \", enfe)\n",
        "    except Exception as e:\n",
        "        print(f\"An error occurred: {e}\")\n",
        "\n",
        "# Example usage\n",
        "copy_file(\"input.txt\", \"output.txt\")\n",
        "\n"
      ],
      "metadata": {
        "colab": {
          "base_uri": "https://localhost:8080/"
        },
        "id": "e-oTMXZE9Ux4",
        "outputId": "c185c0da-97de-417b-f4d9-9185a4a29b2a"
      },
      "execution_count": null,
      "outputs": [
        {
          "output_type": "stream",
          "name": "stdout",
          "text": [
            "The file does not exist. \n",
            " details are:  [Errno 2] No such file or directory: 'input.txt'\n"
          ]
        }
      ]
    },
    {
      "cell_type": "code",
      "source": [
        "#5. How would you catch and handle division by zero error in Python\n",
        "def divide(a, b):\n",
        "    try:\n",
        "        result = a / b\n",
        "        print(f\"The result is: {result}\")\n",
        "    except ZeroDivisionError:\n",
        "        print(\"Error: Cannot divide by zero.\")\n",
        "    except Exception as e:\n",
        "        print(f\"An unexpected error occurred: {e}\")\n",
        "\n",
        "# Example usage\n",
        "divide(10, 2)\n",
        "divide(5, 0)\n"
      ],
      "metadata": {
        "colab": {
          "base_uri": "https://localhost:8080/"
        },
        "id": "8o6Qjh3N-bdq",
        "outputId": "a67f56bc-2418-42a5-fe8e-abdfec5e126b"
      },
      "execution_count": null,
      "outputs": [
        {
          "output_type": "stream",
          "name": "stdout",
          "text": [
            "The result is: 5.0\n",
            "Error: Cannot divide by zero.\n"
          ]
        }
      ]
    },
    {
      "cell_type": "code",
      "source": [
        "#6.Write a Python program that logs an error message to a log file when a division by zero exception occurs.\n",
        "import logging\n",
        "logging.basicConfig(filename = 'error_log.txt', level=logging.ERROR,)\n",
        "def divide_numbers(a, b):\n",
        "    try:\n",
        "        result = a / b\n",
        "        print(\"Result:\", result)\n",
        "    except ZeroDivisionError as e:\n",
        "        logging.error(\"Division by zero error: %s\", e)\n",
        "        print(\"An error occurred: Check the log file for details.\")\n",
        "\n",
        "# Example usage\n",
        "divide_numbers(10, 0)"
      ],
      "metadata": {
        "colab": {
          "base_uri": "https://localhost:8080/"
        },
        "id": "tDT8v2U6NU9q",
        "outputId": "5c6df3ad-0a42-44dc-8aac-97ac2003fa49"
      },
      "execution_count": null,
      "outputs": [
        {
          "output_type": "stream",
          "name": "stderr",
          "text": [
            "ERROR:root:Division by zero error: division by zero\n"
          ]
        },
        {
          "output_type": "stream",
          "name": "stdout",
          "text": [
            "An error occurred: Check the log file for details.\n"
          ]
        }
      ]
    },
    {
      "cell_type": "code",
      "source": [
        "#7.How do you log information at different levels (INFO, ERROR, WARNING) in Python using the logging module?\n",
        "import logging\n",
        "\n",
        "logging.basicConfig(\n",
        "    level=logging.DEBUG,\n",
        "    format='%(asctime)s - %(levelname)s - %(message)s',\n",
        "    filename='example.log',\n",
        "    filemode='w'\n",
        ")\n",
        "logging.debug(\"This is a debug message\")\n",
        "logging.info(\"This is an info message\")\n",
        "logging.warning(\"This is a warning\")\n",
        "logging.error(\"This is an error\")\n",
        "logging.critical(\"This is a critical issue\")\n",
        "\n"
      ],
      "metadata": {
        "colab": {
          "base_uri": "https://localhost:8080/"
        },
        "id": "dM7KVpzgSv7h",
        "outputId": "72cf6b30-4145-4aca-a3c0-292dc091f48b"
      },
      "execution_count": null,
      "outputs": [
        {
          "output_type": "stream",
          "name": "stderr",
          "text": [
            "WARNING:root:This is a warning\n",
            "ERROR:root:This is an error\n",
            "CRITICAL:root:This is a critical issue\n"
          ]
        }
      ]
    },
    {
      "cell_type": "code",
      "source": [
        "#8. Write a program to handle a file opening error using exception handling.\n",
        "def open_file(filename):\n",
        "    try:\n",
        "        with open(filename, 'r') as file:\n",
        "            contents = file.read()\n",
        "            print(\"File contents:\")\n",
        "            print(contents)\n",
        "    except FileNotFoundError as e:\n",
        "        print(f\"Error: The file '{filename}' was not found.\", e)\n",
        "    except Exception as e:\n",
        "        print(f\"An unexpected error occurred: {e}\")\n",
        "\n",
        "# Example usage\n",
        "open_file(\"sample.txt\")\n"
      ],
      "metadata": {
        "colab": {
          "base_uri": "https://localhost:8080/"
        },
        "id": "W6Wsb1wo_rN1",
        "outputId": "612e095d-727f-45f9-f894-cae62dfcf86b"
      },
      "execution_count": null,
      "outputs": [
        {
          "output_type": "stream",
          "name": "stdout",
          "text": [
            "Error: The file 'sample.txt' was not found. [Errno 2] No such file or directory: 'sample.txt'\n"
          ]
        }
      ]
    },
    {
      "cell_type": "code",
      "source": [
        "#9. How can you read a file line by line and store its content in a list in Python?\n",
        "with open(\"example.txt\", \"r\") as file:\n",
        "    lines = file.readlines()\n",
        "with open(\"example.txt\", \"r\") as file:\n",
        "    lines = [line.strip() for line in file.readlines()]\n",
        "lines = []\n",
        "with open(\"example.txt\", \"r\") as file:\n",
        "    for line in file:\n",
        "        lines.append(line.strip())\n",
        "        print(lines)\n"
      ],
      "metadata": {
        "colab": {
          "base_uri": "https://localhost:8080/"
        },
        "id": "Uie8tkWoAzIA",
        "outputId": "23baf9fc-8106-46c8-fa99-239566df5039"
      },
      "execution_count": null,
      "outputs": [
        {
          "output_type": "stream",
          "name": "stdout",
          "text": [
            "['apple']\n",
            "['apple', 'banana']\n",
            "['apple', 'banana', 'cherry']\n",
            "['apple', 'banana', 'cherry', 'orange']\n",
            "['apple', 'banana', 'cherry', 'orange', 'kiwi']\n"
          ]
        }
      ]
    },
    {
      "cell_type": "code",
      "source": [
        "#10. How can you append data to an existing file in Python?\n",
        "with open(\"example.txt\", \"a\") as file:\n",
        "    file.write(\"\\nThis line is appended.\")\n",
        "    print(\"Data appended to the file successfully.\")\n"
      ],
      "metadata": {
        "colab": {
          "base_uri": "https://localhost:8080/"
        },
        "id": "O0rYZmHJEpGA",
        "outputId": "047a4fe5-a7d4-4102-91a2-01b7980d4ba1"
      },
      "execution_count": null,
      "outputs": [
        {
          "output_type": "stream",
          "name": "stdout",
          "text": [
            "Data appended to the file successfully.\n"
          ]
        }
      ]
    },
    {
      "cell_type": "code",
      "source": [
        "#11. Write a Python program that uses a try-except block to handle an error when attempting to access a\n",
        "#dictionary key that doesn't exist\n",
        "def get_value(dictionary, key):\n",
        "    try:\n",
        "        value = dictionary[key]\n",
        "        print(f\"Value for key '{key}': {value}\")\n",
        "    except KeyError:\n",
        "        print(f\"Error: Key '{key}' does not exist in the dictionary.\")\n",
        "    except Exception as e:\n",
        "        print(f\"An unexpected error occurred: {e}\")\n",
        "\n",
        "# Example usage\n",
        "my_dict = {'a': 1, 'b': 2, }\n",
        "get_value(my_dict, 'c')"
      ],
      "metadata": {
        "colab": {
          "base_uri": "https://localhost:8080/"
        },
        "id": "2_1ANw5ya22R",
        "outputId": "87432e35-f0ce-47ca-d713-e2436e0ab4f2"
      },
      "execution_count": null,
      "outputs": [
        {
          "output_type": "stream",
          "name": "stdout",
          "text": [
            "Error: Key 'c' does not exist in the dictionary.\n"
          ]
        }
      ]
    },
    {
      "cell_type": "code",
      "source": [
        "#12. Write a program that demonstrates using multiple except blocks to handle different types of exceptions.\n",
        "try:\n",
        "   result = 10 / 0\n",
        "   print(f\"The result is: {result}\")\n",
        "   dict = {'a': 1, 'b': 2}\n",
        "   value = dict['c']\n",
        "   print(f\"Value for key 'c': {value}\")\n",
        "except ZeroDivisionError:\n",
        "        print(\"Error: Cannot divide by zero.\")\n",
        "except ValueError:\n",
        "        print(\"Error: Invalid input. Please enter valid numbers.\")\n",
        "except KeyError:\n",
        "        print(\"Error: Key not found in the dictionary.\")\n",
        "except Exception as e:\n",
        "        print(f\"An unexpected error occurred: {e}\")\n"
      ],
      "metadata": {
        "colab": {
          "base_uri": "https://localhost:8080/"
        },
        "id": "OH_xYT7UcMbP",
        "outputId": "39964827-75de-4d3d-e5b0-a9d664f5d6a3"
      },
      "execution_count": null,
      "outputs": [
        {
          "output_type": "stream",
          "name": "stdout",
          "text": [
            "Error: Cannot divide by zero.\n"
          ]
        }
      ]
    },
    {
      "cell_type": "code",
      "source": [
        "#13. How would you check if a file exists before attempting to read it in Python?\n",
        "import os\n",
        "\n",
        "file_path = \"example.txt\"\n",
        "\n",
        "if os.path.exists(file_path):\n",
        "    with open(file_path, 'r') as file:\n",
        "\n",
        "        print(\"The file exists\")\n",
        "else:\n",
        "    print(\"File does not exist.\")\n"
      ],
      "metadata": {
        "colab": {
          "base_uri": "https://localhost:8080/"
        },
        "id": "x64bWDl7e0LK",
        "outputId": "1669bc02-c9b9-4be1-c199-e85adf15f732"
      },
      "execution_count": null,
      "outputs": [
        {
          "output_type": "stream",
          "name": "stdout",
          "text": [
            "The file exists\n"
          ]
        }
      ]
    },
    {
      "cell_type": "code",
      "source": [
        "#14. Write a program that uses the logging module to log both informational and error messages.\n",
        "import logging\n",
        "\n",
        "logging.basicConfig(filename='file.log', level=logging.INFO)\n",
        "\n",
        "logging.info(\"This is an informational message.\")\n",
        "logging.error(\"This is an error message.\")\n",
        "\n",
        "\n"
      ],
      "metadata": {
        "id": "AWDUoBXkkY8K",
        "colab": {
          "base_uri": "https://localhost:8080/"
        },
        "outputId": "803d3305-1441-4183-81f5-a012d9d71622"
      },
      "execution_count": null,
      "outputs": [
        {
          "output_type": "stream",
          "name": "stderr",
          "text": [
            "ERROR:root:This is an error message.\n"
          ]
        }
      ]
    },
    {
      "cell_type": "code",
      "source": [
        "#15. Write a Python program that prints the content of a file and handles the case when the file is empty.\n",
        "\n",
        "def print_file_content(filename):\n",
        "\n",
        "    try:\n",
        "        with open(filename, 'r') as file:\n",
        "            content = file.read()\n",
        "\n",
        "            if len(content) == 0:\n",
        "                print(f\"The file '{filename}' is empty.\")\n",
        "            else:\n",
        "                print(content)\n",
        "\n",
        "    except FileNotFoundError:\n",
        "        print(f\"Error: The file '{filename}' was not found.\")\n",
        "    except Exception as e:\n",
        "        print(f\"An error occurred: {e}\")\n",
        "\n",
        "# Example usage:\n",
        "print_file_content(\"example.txt\")\n",
        "\n"
      ],
      "metadata": {
        "colab": {
          "base_uri": "https://localhost:8080/"
        },
        "id": "-_o3Qt3sCmV1",
        "outputId": "88de4cbe-61a2-461b-a458-8e2fb281f878"
      },
      "execution_count": null,
      "outputs": [
        {
          "output_type": "stream",
          "name": "stdout",
          "text": [
            "Error: The file 'example.txt' was not found.\n"
          ]
        }
      ]
    },
    {
      "cell_type": "code",
      "source": [
        "#16.Demonstrate how to use memory profiling to check the memory usage of a small program.\n",
        "import numpy as np\n",
        "# A small program to create an array and perform operations\n",
        "def create_large_array():\n",
        "  arr = np.random.rand(1000000)\n",
        "# Generate an array with 1 million random numbers\n",
        "  arr_squared = arr ** 2\n",
        "# square each element in the array\n",
        "  return arr_squared\n",
        "result = create_large_array()\n",
        "print(result)\n"
      ],
      "metadata": {
        "id": "uvOJvae9EpYd",
        "colab": {
          "base_uri": "https://localhost:8080/"
        },
        "outputId": "b5d38156-c57d-4d4f-bdb1-d890972e854a"
      },
      "execution_count": null,
      "outputs": [
        {
          "output_type": "stream",
          "name": "stdout",
          "text": [
            "[0.52762933 0.90000497 0.48600331 ... 0.14469332 0.14410154 0.60031398]\n"
          ]
        }
      ]
    },
    {
      "cell_type": "code",
      "source": [
        "pip install numpy"
      ],
      "metadata": {
        "colab": {
          "base_uri": "https://localhost:8080/"
        },
        "id": "1RYQpPOZDZtr",
        "outputId": "4fcf062f-809f-4d84-c375-50efd7a9c433"
      },
      "execution_count": null,
      "outputs": [
        {
          "output_type": "stream",
          "name": "stdout",
          "text": [
            "Requirement already satisfied: numpy in /usr/local/lib/python3.11/dist-packages (2.0.2)\n"
          ]
        }
      ]
    },
    {
      "cell_type": "code",
      "source": [
        "#17. Write a Python program to create and write a list of numbers to a file, one number per line.\n",
        "# List of numbers to write\n",
        "numbers = [10, 20, 30, 40, 50]\n",
        "\n",
        "# File path to write to\n",
        "file_path = \"numbers.txt\"\n",
        "\n",
        "# Open the file in write mode and write each number\n",
        "with open(file_path, \"w\") as file:\n",
        "    for number in numbers:\n",
        "        file.write(str(number) + \"\\n\")\n",
        "\n",
        "print(\"Numbers have been written to\", file_path)\n",
        "\n"
      ],
      "metadata": {
        "colab": {
          "base_uri": "https://localhost:8080/"
        },
        "id": "WBui3IoFHjwq",
        "outputId": "5f042d65-7468-44a4-89e2-be0e240bfec9"
      },
      "execution_count": null,
      "outputs": [
        {
          "output_type": "stream",
          "name": "stdout",
          "text": [
            "Numbers have been written to numbers.txt\n"
          ]
        }
      ]
    },
    {
      "cell_type": "code",
      "source": [
        "#18.How would you implement a basic logging setup that logs to a file with rotation after 1MB?\n",
        "import logging\n",
        "from logging.handlers import RotatingFileHandler\n",
        "\n",
        "logger = logging.getLogger('my_logger')\n",
        "logger.setLevel(logging.DEBUG)\n",
        "\n",
        "\n",
        "handler = RotatingFileHandler(\n",
        "    'program.log',\n",
        "    maxBytes=1 * 1024 * 1024,\n",
        "    backupCount=3\n",
        ")\n",
        "\n",
        "formatter = logging.Formatter('%(asctime)s - %(levelname)s - %(message)s')\n",
        "handler.setFormatter(formatter)\n",
        "\n",
        "logger.addHandler(handler)\n",
        "\n",
        "# Example log messages\n",
        "logger.info('Application started')\n",
        "logger.warning('This is a warning')\n",
        "logger.error('This is an error message')\n"
      ],
      "metadata": {
        "colab": {
          "base_uri": "https://localhost:8080/"
        },
        "id": "HVwPKRqUk1Q8",
        "outputId": "b380adfb-d62d-4e07-db70-0828ac364b98"
      },
      "execution_count": null,
      "outputs": [
        {
          "output_type": "stream",
          "name": "stderr",
          "text": [
            "INFO:my_logger:Application started\n",
            "WARNING:my_logger:This is a warning\n",
            "ERROR:my_logger:This is an error message\n"
          ]
        }
      ]
    },
    {
      "cell_type": "code",
      "source": [
        "#19. Write a program that handles both IndexError and KeyError using a try-except block.\n",
        "try:\n",
        "    my_list = [1, 2, 3]\n",
        "    value = my_list[3]\n",
        "    print(f\"Value at index 3: {value}\")\n",
        "    my_dict = {'a': 1, 'b': 2}\n",
        "    value = my_dict['c']\n",
        "    print(f\"Value for key 'c': {value}\")\n",
        "except IndexError:\n",
        "    print(\"Tried to access an index that doesn't exist in the list.\")\n",
        "except KeyError:\n",
        "    print(\"tried to access key that doesn't exist in the dictionary.\")\n",
        "except Exception as e:\n",
        "        print(f\"An unexpected error occurred: {e}\")\n"
      ],
      "metadata": {
        "colab": {
          "base_uri": "https://localhost:8080/"
        },
        "id": "mMJyN1eCIFQ8",
        "outputId": "c1ba1098-d6b9-4483-ae6a-76a61d004524"
      },
      "execution_count": null,
      "outputs": [
        {
          "output_type": "stream",
          "name": "stdout",
          "text": [
            "Tried to access an index that doesn't exist in the list.\n"
          ]
        }
      ]
    },
    {
      "cell_type": "code",
      "source": [
        "#20. How would you open a file and read its contents using a context manager in Python?\n",
        "file_path = 'example.txt'\n",
        "\n",
        "try:\n",
        "    with open(file_path, 'r') as file:\n",
        "        contents = file.read()\n",
        "        print(\"File Contents:\\n\", contents)\n",
        "except FileNotFoundError:\n",
        "    print(\"The file does not exist.\")\n",
        "\n"
      ],
      "metadata": {
        "colab": {
          "base_uri": "https://localhost:8080/"
        },
        "id": "iuLatoYx13aP",
        "outputId": "464830a8-65a4-4cfa-91e4-2ee8b5c24ba6"
      },
      "execution_count": null,
      "outputs": [
        {
          "output_type": "stream",
          "name": "stdout",
          "text": [
            "The file does not exist.\n"
          ]
        }
      ]
    },
    {
      "cell_type": "code",
      "source": [
        "#21. Write a Python program that reads a file and prints the number of occurrences of a specific word.\n",
        "def count_word_occurrences(filename, word_to_find):\n",
        "    try:\n",
        "        with open(filename, 'r') as file:\n",
        "            content = file.read().lower()\n",
        "            words = content.split()\n",
        "            count = words.count(word_to_find.lower())\n",
        "            print(f\"The word '{word_to_find}' appears {count} times in the file.\")\n",
        "    except FileNotFoundError:\n",
        "        print(f\" The file '{filename}' does not exist.\")\n",
        "    except Exception as e:\n",
        "        print(f\"An error occurred: {e}\")\n",
        "\n",
        "# Example usage\n",
        "file_name = \"example.txt\"\n",
        "search_word = \"python\"\n",
        "count_word_occurrences(file_name, search_word)\n",
        "\n"
      ],
      "metadata": {
        "colab": {
          "base_uri": "https://localhost:8080/"
        },
        "id": "KWSO3_6H3BNW",
        "outputId": "33a73770-e8be-4a97-b1d6-ec7cd8e9a7d9"
      },
      "execution_count": null,
      "outputs": [
        {
          "output_type": "stream",
          "name": "stdout",
          "text": [
            " The file 'example.txt' does not exist.\n"
          ]
        }
      ]
    },
    {
      "cell_type": "code",
      "source": [
        "#22. How can you check if a file is empty before attempting to read its contents?\n",
        "import os\n",
        "\n",
        "file_path = 'example.txt'\n",
        "\n",
        "# Check if file exists and is empty\n",
        "if os.path.exists(file_path):\n",
        "    if os.path.getsize(file_path) == 0:\n",
        "        print(\"The file is empty.\")\n",
        "    else:\n",
        "        with open(file_path, 'r') as file:\n",
        "            contents = file.read()\n",
        "            print(\"File contents:\\n\", contents)\n",
        "else:\n",
        "    print(\"The file does not exist.\")\n",
        "\n",
        "\n"
      ],
      "metadata": {
        "colab": {
          "base_uri": "https://localhost:8080/"
        },
        "id": "n2JnH4HS4x65",
        "outputId": "1f9a8dfd-6713-4725-ae53-41410a6a6d62"
      },
      "execution_count": null,
      "outputs": [
        {
          "output_type": "stream",
          "name": "stdout",
          "text": [
            "The file does not exist.\n"
          ]
        }
      ]
    },
    {
      "cell_type": "code",
      "source": [
        "#23. Write a Python program that writes to a log file when an error occurs during file handling.\n",
        "import logging\n",
        "logging.basicConfig(\n",
        "    filename='file_error_log.txt',\n",
        "    level=logging.ERROR,\n",
        "    format='%(asctime)s - %(levelname)s - %(message)s'\n",
        ")\n",
        "\n",
        "try:\n",
        "    with open('test.txt', 'r') as file:\n",
        "        content = file.read()\n",
        "        print(content)\n",
        "\n",
        "except FileNotFoundError as e:\n",
        "    logging.error(\"File not found: %s\", e)\n",
        "    print(\"An error occurred. Check the log file for details.\")\n",
        "\n",
        "except Exception as e:\n",
        "    logging.error(\"An unexpected error occurred: %s\", e)\n",
        "    print(\"An unexpected error occurred. Check the log file.\")\n",
        "\n",
        "\n"
      ],
      "metadata": {
        "id": "6uGVDPW15_J-",
        "colab": {
          "base_uri": "https://localhost:8080/"
        },
        "outputId": "98ab8590-12eb-40f1-a9d7-0226cdfdcaec"
      },
      "execution_count": null,
      "outputs": [
        {
          "output_type": "stream",
          "name": "stderr",
          "text": [
            "ERROR:root:File not found: [Errno 2] No such file or directory: 'test.txt'\n"
          ]
        },
        {
          "output_type": "stream",
          "name": "stdout",
          "text": [
            "An error occurred. Check the log file for details.\n"
          ]
        }
      ]
    }
  ]
}