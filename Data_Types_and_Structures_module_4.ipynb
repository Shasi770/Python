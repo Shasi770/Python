{
  "nbformat": 4,
  "nbformat_minor": 0,
  "metadata": {
    "colab": {
      "provenance": []
    },
    "kernelspec": {
      "name": "python3",
      "display_name": "Python 3"
    },
    "language_info": {
      "name": "python"
    }
  },
  "cells": [
    {
      "cell_type": "markdown",
      "source": [
        " #1. What are data structures, and why are they important?\n",
        "\n",
        "   - A data structure is a way of organizing, managing, and storing data to enable efficient access and modification. It defines the relationship between data elements and the operations that can be performed on them.\n",
        "\n",
        " Importance:-\n",
        "\n",
        "   Efficient Data Management – They allow storing and retrieving data efficiently.\n",
        "\n",
        "   Optimized Performance – Proper data structures help improve program speed and memory usage.\n",
        "   \n",
        "   Easier Problem Solving – Many algorithms rely on specific data structures to work effectively.\n",
        "   \n",
        "   Code Readability & Maintainability – Organized data makes the code easier to understand.\n",
        "   \n",
        "   Scalability – The right data structure ensures smooth handling of large datasets.\n",
        "   \n",
        "#2.Explain the difference between mutable and immutable data types with examples\n",
        "  - Mutable objects, can be modified after creation. You can change their values without changing their memory reference.\n",
        "  \n",
        "   list\n",
        "  \n",
        "   dictionaries\n",
        "  \n",
        "   sets\n",
        "  \n",
        "  - immutable objects,cannot be modified after creation.If you try to change them, a new object is created instead.\n",
        "  \n",
        "   integers\n",
        "  \n",
        "   Tuple\n",
        "  \n",
        "   tring\n",
        "  \n",
        "   loating_point Numbers\n",
        "  \n",
        "  \n",
        "  \n",
        "#3.What are the main differences between lists and tuples in Python?\n",
        "\n",
        "  - The main difference between lists and tuples are-\n",
        "\n",
        "     Lists: Mutable, meaning their elements can be modified after creation. You can add, remove, or change items\n",
        "    \n",
        "     Tuple: Immutable, meaning once they're created, their elements cannot be changed.​\n",
        "    \n",
        "#4.Describe how dictionaries store data.\n",
        "\n",
        "  - In Python, dictionaries are implemented using a data structure known as a\n",
        "     hash table, which allows for efficient storage and retrieval of data through key-value pairs. Here's how dictionaries manage data internally:​\n",
        "\n",
        " Hashing Keys:\n",
        "\n",
        "     When you insert a key-value pair into a dictionary, Python computes a hash value for the key using a built-in hash function. This hash value is an integer that uniquely represents the key's content and determines where the key-value pair will be stored within the hash table.​\n",
        "\n",
        " Structure of the Hash Table:\n",
        "\n",
        "     The hash table consists of an array of slots, commonly referred to as \"buckets.\" Each bucket can hold one key-value pair\n",
        "\n",
        " Handling Collisions:\n",
        "\n",
        "     A collision occurs when two different keys produce the same hash value, causing them to map to the same bucket. Python addresses collisions using a method called open addressing. In this approach, if the initially calculated bucket is occupied, the dictionary probes other buckets in a specific sequence to find an empty slot for the new key-value pair.​\n",
        "\n",
        " Dynamic Resizing:\n",
        "\n",
        "     To maintain performance, Python dictionaries dynamically resize as the number of stored items increases.\n",
        "\n",
        "     Key Order Preservation:Starting from Python 3.7, dictionaries maintain the insertion order of keys as part of their standard behavior.\n",
        "\n",
        "#5. Why might you use a set instead of a list in Python?\n",
        "\n",
        "   - ​In Python, a set and a list depends on the specific requirements of your\n",
        "     program. Here are some scenarios where using a set might be more appropriate than a list:​\n",
        "\n",
        "  1.Ensuring Unique Elements:-\n",
        "\n",
        "     Sets automatically eliminate duplicate values, ensuring that all elements are unique. This is particularly useful when you need to store a collection without repetitions\n",
        "\n",
        "  2. Fast Membership Testing:-\n",
        "\n",
        "     Sets provide faster membership checks compared to lists.\n",
        "\n",
        "  3. Set Operations:-\n",
        "\n",
        "     Sets support mathematical operations like union, intersection, difference, and symmetric difference, which can be highly efficient for comparing collections.\n",
        "  4. Unordered Collections: set are unordered collection of data.\n",
        "\n",
        "     When to Use a List Instead:-\n",
        "\n",
        "     Ordered Data:- When the sequence of elements is important.\n",
        "\n",
        "     Allowing Duplicates:- When duplicate entries are required.\n",
        "\n",
        "     Index-Based Access:- When you need to access elements by their position.\n",
        "\n",
        "     In summary, use a set when you need a collection of unique items, require fast membership testing, or need to perform set-specific operations. Opt for a list when the order, duplicates, or index-based access are essential to your application.​\n",
        "\n",
        "6. What is a string in Python, and how is it different from a list?\n",
        "\n",
        "  - ​In Python, a string is a sequence of characters enclosed within single\n",
        "     ('...') or double (\"...\") quotes. Strings are used to represent text data, such as words or sentences. ​\n",
        "\n",
        "   Differences Between Strings and Lists:\n",
        "\n",
        "  1. Data Type of Elements:-\n",
        "  \n",
        "  Strings: Consist exclusively of characters.​\n",
        "  \n",
        "  Lists: Can contain elements of various data types, including integers, floats, strings, and even other lists.​\n",
        "  Petrushimself\n",
        "\n",
        "  2. Mutability:-\n",
        "\n",
        "   Strings: Immutable; once created, their content cannot be altered. Any modification results in the creation of a new string.​\n",
        "   \n",
        "   Lists: Mutable; their elements can be changed, added, or removed in place.​\n",
        "   GeeksforGeeks\n",
        "\n",
        " 3. Methods and Operations:-\n",
        "\n",
        "   Strings: Offer methods primarily focused on text manipulation, such as .upper(), .lower(), .replace(), and .split().​\n",
        "   \n",
        "   Lists: Provide methods for modifying the collection, including .append(), .remove(), .insert(), and .sort().​\n",
        "   \n",
        " 4. Use Cases:-\n",
        "\n",
        "   Strings: Ideal for representing and manipulating textual data.​\n",
        "   \n",
        "   Lists: Suitable for storing collections of items, especially when the data types are diverse or when modifications to the collection are needed.​\n",
        "   \n",
        "7. How do tuples ensure data integrity in Python?\n",
        "\n",
        "  - Tuples in Python are immutable, which means once they are created, their\n",
        "     contents cannot be changed (no adding, removing, or modifying elements). This immutability is the key to how they ensure data integrity.\n",
        "\n",
        "8.  What is a hash table, and how does it relate to dictionaries in Python?\n",
        "\n",
        "   - A hash table is a data structure that stores key-value pairs. It uses a\n",
        "      hash function to compute an index (called a hash code) into an array where the value is stored.\n",
        "   \n",
        "   - You give it a key (like a name),\n",
        "\n",
        "   - It runs that through a hash function (like a magical code generator),\n",
        "\n",
        "   - And it tells you exactly which locker to find your item in — super fast!\n",
        "     \n",
        "     it relate to dictionaries in Python:-\n",
        "\n",
        "   => In Python, the dictionary (dict) is implemented using a hash table under the hood.\n",
        "     e.g:-   student = {'name:' = 'Ajay', 'age:' = 20}\n",
        "\n",
        "   -  Python hashes the keys \"name\" and \"age\".\n",
        "\n",
        "  -  Then stores the associated values in a hash table at specific locations.\n",
        "\n",
        "9.  Can lists contain different data types in Python?\n",
        "   -  Lists in Python can contain different data types — and that’s one of the\n",
        "     things that makes them super flexible!\n",
        "\n",
        "     e.g:-integer, string, float, boolean, nested list, dictionaryetc.\n",
        "\n",
        "10.  Explain why strings are immutable in Python?\n",
        "    - In Python, strings are immutable, meaning once a string is created, it\n",
        "      cannot be changed. Any operation that seems to modify a string actually creates a new string.\n",
        "\n",
        "   Reasons Why Strings Are Immutable:-\n",
        "     a. Efficiency and Memory Optimization:-\n",
        "    - Strings are stored in interned memory (shared memory) for optimization.\n",
        "\n",
        "    - If strings were mutable, even a small change would require copying the\n",
        "     entire object to avoid affecting others sharing it.\n",
        "\n",
        "     e.g:- a = \"hello\"\n",
        "\n",
        "        b = \"hello\"\n",
        "\n",
        "        print(a is b)  # True — they point to the same object\n",
        "\n",
        "     b.  Hashing Support:-\n",
        "      - Immutable objects can be hashed, meaning they can be used as dictionary keys or in sets.\n",
        "\n",
        "      - If strings were mutable, their hash could change, breaking the hash table system.\n",
        "\n",
        "      e.g:- my_dict = {\"name\": \"Alice\"}  # string \"name\" is used as a key\n",
        "\n",
        "     c. Thread-Safety:-\n",
        "       - Immutability helps avoid unexpected bugs in multi-threaded environments,\n",
        "     because the data can't be modified by another thread once created.\n",
        "\n",
        "     e.g:-\n",
        "         name = \"Alice\"\n",
        "\n",
        "         name[0] = \"M\"  # throw in Error: strings don't support item assignment\n",
        "        \n",
        "        => To \"change\" a string, you have to create a new one:\n",
        "\n",
        "          new_name = \"M\" + name[1:]  # 'Mlice'\n",
        "\n",
        "11.  What advantages do dictionaries offer over lists for certain tasks?\n",
        "      \n",
        "       Advantages of Dictionaries over Lists in Python:-\n",
        "       \n",
        "       Fast Lookups:-\tDictionaries allow O(1) time complexity for key-based access. Lists require O(n) for searching by value.\n",
        "\n",
        "\n",
        "       Descriptive Keys:-\tWith dictionaries, you can use meaningful keys like \"name\" or \"age\" instead of relying on confusing index numbers\n",
        "\n",
        "       Flexible Structure:-\tDictionaries easily handle nested and complex data structures (e.g., JSON-like objects)\n",
        "\n",
        "       Uniqueness:-\tDictionary keys must be unique, which helps prevent duplicate records or confusion.\n",
        "\n",
        "       Better for Data Mapping:-\tIdeal for key-value mapping, like storing settings, user info, or counting occurrences.\n",
        "\n",
        "12.  Describe a scenario where using a tuple would be preferable over a list.\n",
        "    \n",
        "       - Tuples are immutable. Hence, they are primarily used to store data\n",
        "          that doesn't change frequently. Any operation can store data in a tuple when you don't want it to change. Tuples are great to use if you want the data in your collection to be read-only, never to change, and always remain the same and constant\n",
        "\n",
        "\n",
        "13.  How do sets handle duplicate values in Python?\n",
        "       \n",
        "       - Duplicate items are not allowed. If items appear multiple times, only\n",
        "         one will be recognized in the set. The items in a set are unordered.\n",
        "         If you try to add a duplicate, it is automatically ignored — no error, just silently dropped.\n",
        "\n",
        "14.  How does the “in” keyword work differently for lists and dictionaries?\n",
        "\n",
        "     - The in keyword is used for membership testing — but it behaves a bit\n",
        "       differently for lists vs dictionaries.\n",
        "\n",
        "       check value in list:-  fruits = [\"apple\", \"banana\", \"cherry\"]\n",
        "\n",
        "                             print(\"banana\" in fruits)   #  True\n",
        "\n",
        "                             print(\"grape\" in fruits)    #  False\n",
        "     \n",
        "        checks for keys only (by default) in dictionries:-\n",
        "\n",
        "                             person = {\"name\": \"Ajay\", \"age\": 25}\n",
        "\n",
        "                             print(\"name\" in person)     #  True (key exists)\n",
        "\n",
        "                             print(\"Ajay\" in person)    # False (value, not a key)\n",
        "\n",
        "15.  Can you modify the elements of a tuple? Explain why or why not.\n",
        "\n",
        "     -  you can’t modify the elements of a tuple in Python.\n",
        "\n",
        "     - Tuples are immutable Once a tuple is created, its contents cannot be\n",
        "       changed, which means No adding ,No removing,No changing existing elements because-\n",
        "\n",
        "       a. Safety:- Great for storing fixed data (like coordinates, dates).\n",
        "\n",
        "       b. Hashable:- Since they don’t change, they can be used as keys in\n",
        "          dictionaries or elements in sets.\n",
        "\n",
        "       c. Performance:- Slightly faster and more memory-efficient than lists.\n",
        "\n",
        "\n",
        "          If the tuple contains mutable elements (like a list inside a tuple), the inner list can be changed, but the tuple’s structure still can't.\n",
        "\n",
        "          e.g:- my_tuple = (1, [2, 3], 4)\n",
        "\n",
        "                my_tuple[1].append(99)  #  This is allowed\n",
        "\n",
        "                print(my_tuple)   # (1, [2, 3, 99], 4)\n",
        "\n",
        "16.  What is a nested dictionary, and give an example of its use case?\n",
        "\n",
        "     - A nested dictionary in Python is a dictionary that contains one or more\n",
        "       dictionaries as its values. This allows for a structured way to represent hierarchical or grouped data.\n",
        "\n",
        "       Nested dictionaries are useful when-\n",
        "\n",
        "        -  You need to organize complex data\n",
        "\n",
        "        -  You're working with JSON-like structures\n",
        "\n",
        "        -  You want to group multiple pieces of related information under a\n",
        "           single key\n",
        "\n",
        "       e.g:- employees = {\n",
        "             \"emp1\": {\"name\": \"Alice\", \"role\": \"Manager\", \"age\": 35},\n",
        "             \"emp2\": {\"name\": \"Bob\", \"role\": \"Engineer\", \"age\": 28},\n",
        "             \"emp3\": {\"name\": \"Charlie\", \"role\": \"Designer\", \"age\": 25}\n",
        "          }\n",
        "             \n",
        "             print(employees[\"E002\"][\"role\"])  # Output: Engineer\n",
        "\n",
        "             print(employees[\"E003\"][\"name\"])  # Output: Charlie\n",
        "\n",
        "\n",
        "      Use Case:-  \n",
        "               - An HR management system\n",
        "\n",
        "               -  A payroll application\n",
        "\n",
        "               -  An internal company database\n",
        "\n",
        "17.  Describe the time complexity of accessing elements in a dictionary.\n",
        "     \n",
        "     -  Time Complexity of Dictionary Access:-\n",
        "        Average Case: O(1) → Constant time\n",
        "\n",
        "          - Accessing a value by key is very fast due to hashing.\n",
        "\n",
        "       Worst Case: O(n) → Linear time\n",
        "\n",
        "         - Rarely happens, usually due to hash collisions (when multiple keys\n",
        "           have the same hash value).\n",
        "\n",
        "\n",
        "          Operation   \t   Time Complexity\n",
        "          Access by key    \tO(1) (average), O(n) (worst)\n",
        "          Insert or update  \tO(1) (average)\n",
        "          Delete by key     \tO(1) (average)\n",
        "\n",
        "18.  In what situations are lists preferred over dictionaries.\n",
        "\n",
        "     - lists are more suitable over dictionaries for ordered collections and\n",
        "       sequence operations, such as maintaining a stack or queue.\n",
        "\n",
        "19.  Why are dictionaries considered unordered, and how does that affect data\n",
        "     retrieval?\n",
        "     - Dictionaries are considered unordered because they store data as     \n",
        "       key-value pairs, and the order in which these pairs are inserted is not preserved.\n",
        "     - Dictionaries were optimized purely for speed, not for order.\n",
        "\n",
        "     - They used hash tables, and the position of keys was determined by their\n",
        "       hash values, not by insertion sequence.\n",
        "         \n",
        "       So, even if you added keys in a specific order, Python wouldn’t guarantee they’d stay in that order when retrieved.\n",
        "\n",
        "     => This Affect Data Retrieval:-\n",
        "\n",
        "      - You retrieve values by key, not by index — this is very fast: O(1) time.\n",
        "\n",
        "      - You cannot access elements by position like my_dict[0].\n",
        "\n",
        "20. Explain the difference between a list and a dictionary in terms of data\n",
        "     retrieval.\n",
        "\n",
        "      The difference between a list and a dictionary:-\n",
        "\n",
        "        Feature                 \tList                    \tDictionary\n",
        "        Access Method:- \tBy index (numeric position) \tBy key (unique identifier)\n",
        "        Retrieval Logic:-    Based on position/order\t    Based on key-value mapping\n",
        "        Time Complexity:-    O(1) – Fast\t                O(1) – Fast (uses hashing internally)\n",
        "        Key Requirement:-\tNot needed\t                 Each item must have a unique key\n",
        "        Example:-        \tmy_list[0]\t                 my_dict[\"name\"]\n",
        "        Data storage      ordered collection of         unordered collection of\n",
        "        style             elements                      key-value pairs(ordered\n",
        "                                                        from python 3.7+)\n",
        "                                                       \n",
        "\n",
        "\n",
        "\n",
        "\n",
        "\n",
        "\n",
        "\n"
      ],
      "metadata": {
        "id": "bWYkGthzueB5"
      }
    },
    {
      "cell_type": "code",
      "execution_count": null,
      "metadata": {
        "colab": {
          "base_uri": "https://localhost:8080/"
        },
        "id": "2iKP3sXGy0zd",
        "outputId": "aa7b22d8-f924-4c6e-d7ae-013d21e26313"
      },
      "outputs": [
        {
          "output_type": "stream",
          "name": "stdout",
          "text": [
            "Shashi\n"
          ]
        }
      ],
      "source": [
        "#1. Write a code to create a string with your name and print it.\n",
        "my_name = \"Shashi\"\n",
        "print(my_name)"
      ]
    },
    {
      "cell_type": "code",
      "source": [
        "#2. Write a code to find the length of the string \"Hello World\".\n",
        "string = \"Hello World\"\n",
        "print(len(string))\n"
      ],
      "metadata": {
        "colab": {
          "base_uri": "https://localhost:8080/"
        },
        "id": "JSQukmEWz9bv",
        "outputId": "710bd96c-69d3-404d-ffde-dc5be57cd082"
      },
      "execution_count": null,
      "outputs": [
        {
          "output_type": "stream",
          "name": "stdout",
          "text": [
            "11\n"
          ]
        }
      ]
    },
    {
      "cell_type": "code",
      "source": [
        "#3. Write a code to slice the first 3 characters from the string \"Python Programming\".\n",
        "my_string = \"Python Programming\"\n",
        "print(my_string[3:])\n"
      ],
      "metadata": {
        "colab": {
          "base_uri": "https://localhost:8080/"
        },
        "id": "FiOKonR30qLv",
        "outputId": "e7797805-4bed-42f9-96c3-8c7eb3802fac"
      },
      "execution_count": null,
      "outputs": [
        {
          "output_type": "stream",
          "name": "stdout",
          "text": [
            "hon Programming\n"
          ]
        }
      ]
    },
    {
      "cell_type": "code",
      "source": [
        "#4. Write a code to convert the string \"hello\" to uppercase.\n",
        "my_string = \"hello\"\n",
        "print(my_string.upper())\n"
      ],
      "metadata": {
        "colab": {
          "base_uri": "https://localhost:8080/"
        },
        "id": "njx13e4o0p3P",
        "outputId": "67423909-a8ff-4f10-a73e-85223af2361f"
      },
      "execution_count": null,
      "outputs": [
        {
          "output_type": "stream",
          "name": "stdout",
          "text": [
            "HELLO\n"
          ]
        }
      ]
    },
    {
      "cell_type": "code",
      "source": [
        "#5. Write a code to replace the word \"apple\" with \"orange\" in the string \"I like apple\".\n",
        "string = \"I like apple\"\n",
        "string = string.replace('apple','orange')\n",
        "print(string)"
      ],
      "metadata": {
        "colab": {
          "base_uri": "https://localhost:8080/"
        },
        "id": "xRieB_vE2R5U",
        "outputId": "ff23dbcb-c6a1-4bf6-b4bf-70d43ba249f6"
      },
      "execution_count": null,
      "outputs": [
        {
          "output_type": "stream",
          "name": "stdout",
          "text": [
            "I like orange\n"
          ]
        }
      ]
    },
    {
      "cell_type": "code",
      "source": [
        "#6.Write a code to create a list with numbers 1 to 5 and print it.\n",
        "my_list = [1,2,3,4,5]\n",
        "print(my_list)\n"
      ],
      "metadata": {
        "colab": {
          "base_uri": "https://localhost:8080/"
        },
        "id": "nubJnA-K4NiE",
        "outputId": "aa945814-05fb-4e35-fdf6-c34464b1820a"
      },
      "execution_count": null,
      "outputs": [
        {
          "output_type": "stream",
          "name": "stdout",
          "text": [
            "[1, 2, 3, 4, 5]\n"
          ]
        }
      ]
    },
    {
      "cell_type": "code",
      "source": [
        "#7. Write a code to append the number 10 to the list [1, 2, 3, 4].\n",
        "my_list = [1, 2, 3, 4]\n",
        "my_list.append(10)\n",
        "print(my_list)\n"
      ],
      "metadata": {
        "colab": {
          "base_uri": "https://localhost:8080/"
        },
        "id": "YE1zlQub43qz",
        "outputId": "9c297aca-5337-4deb-a4f1-e50393f59179"
      },
      "execution_count": null,
      "outputs": [
        {
          "output_type": "stream",
          "name": "stdout",
          "text": [
            "[1, 2, 3, 4, 10]\n"
          ]
        }
      ]
    },
    {
      "cell_type": "code",
      "source": [
        "#8. Write a code to remove the number 3 from the list [1, 2, 3, 4, 5].\n",
        "my_list = [1, 2, 3, 4, 5]\n",
        "my_list.remove(3)\n",
        "print(my_list)\n"
      ],
      "metadata": {
        "colab": {
          "base_uri": "https://localhost:8080/"
        },
        "id": "_7suZb1T5aqm",
        "outputId": "fdbbfd5f-381a-4a6e-9f1d-dd14db04e930"
      },
      "execution_count": null,
      "outputs": [
        {
          "output_type": "stream",
          "name": "stdout",
          "text": [
            "[1, 2, 4, 5]\n"
          ]
        }
      ]
    },
    {
      "cell_type": "code",
      "source": [
        "#9. Write a code to access the second element in the list ['a', 'b', 'c', 'd'].\n",
        "my_list  = ['a', 'b', 'c', 'd']\n",
        "print(my_list[1])\n"
      ],
      "metadata": {
        "colab": {
          "base_uri": "https://localhost:8080/"
        },
        "id": "pHJbHiH16CI6",
        "outputId": "b9dcdca4-9234-4d27-e406-265c87a225be"
      },
      "execution_count": null,
      "outputs": [
        {
          "output_type": "stream",
          "name": "stdout",
          "text": [
            "b\n"
          ]
        }
      ]
    },
    {
      "cell_type": "code",
      "source": [
        "#10. Write a code to reverse the list [10, 20, 30, 40, 50].\n",
        "my_list = [10, 20, 30, 40, 50]\n",
        "my_list.reverse()\n",
        "print(my_list)\n"
      ],
      "metadata": {
        "colab": {
          "base_uri": "https://localhost:8080/"
        },
        "id": "XCkW4cBu8JLQ",
        "outputId": "a95cced7-bb0f-4991-8619-1454fcda6094"
      },
      "execution_count": null,
      "outputs": [
        {
          "output_type": "stream",
          "name": "stdout",
          "text": [
            "[50, 40, 30, 20, 10]\n"
          ]
        }
      ]
    },
    {
      "cell_type": "code",
      "source": [
        "#11. Write a code to create a tuple with the elements 100, 200, 300 and print it.\n",
        "my_tuple = (100, 200, 300)\n",
        "print(my_tuple)"
      ],
      "metadata": {
        "colab": {
          "base_uri": "https://localhost:8080/"
        },
        "id": "qpYyk65U9qTv",
        "outputId": "dd70c95e-7fa1-47b3-ff47-d99462faa50d"
      },
      "execution_count": null,
      "outputs": [
        {
          "output_type": "stream",
          "name": "stdout",
          "text": [
            "(100, 200, 300)\n"
          ]
        }
      ]
    },
    {
      "cell_type": "code",
      "source": [
        "# 12. Write a code to access the second-to-last element of the tuple ('red', 'green', 'blue', 'yellow').\n",
        "my_tuple = ('red', 'green', 'blue', 'yellow')\n",
        "print(my_tuple[1:5])\n"
      ],
      "metadata": {
        "colab": {
          "base_uri": "https://localhost:8080/"
        },
        "id": "i5rXchuk-HTv",
        "outputId": "89ef7824-bb3e-47af-d93f-52cce8e1219c"
      },
      "execution_count": null,
      "outputs": [
        {
          "output_type": "stream",
          "name": "stdout",
          "text": [
            "('green', 'blue', 'yellow')\n"
          ]
        }
      ]
    },
    {
      "cell_type": "code",
      "source": [
        "#13. Write a code to find the minimum number in the tuple (10, 20, 5, 15).\n",
        "my_tuple = (10, 20, 5, 15)\n",
        "print(min(my_tuple))\n"
      ],
      "metadata": {
        "colab": {
          "base_uri": "https://localhost:8080/"
        },
        "id": "X_I763Ou_Lvv",
        "outputId": "2bdd1faa-8cb3-4b7e-a216-293fef914ffc"
      },
      "execution_count": null,
      "outputs": [
        {
          "output_type": "stream",
          "name": "stdout",
          "text": [
            "5\n"
          ]
        }
      ]
    },
    {
      "cell_type": "code",
      "source": [
        "# 14. Write a code to find the index of the element \"cat\" in the tuple ('dog', 'cat', 'rabbit').\n",
        "my_tuple = ('dog', 'cat', 'rabbit')\n",
        "my_tuple.index('cat')\n"
      ],
      "metadata": {
        "colab": {
          "base_uri": "https://localhost:8080/"
        },
        "id": "6Hns4VAyAp0P",
        "outputId": "7b0f9593-4d38-4971-b372-bd971c649766"
      },
      "execution_count": null,
      "outputs": [
        {
          "output_type": "execute_result",
          "data": {
            "text/plain": [
              "1"
            ]
          },
          "metadata": {},
          "execution_count": 20
        }
      ]
    },
    {
      "cell_type": "code",
      "source": [
        "#15. Write a code to create a tuple containing three different fruits and check if \"kiwi\" is in it.\n",
        "my_tuple = ('apple', 'banana', 'orange')\n",
        "if 'kiwi'in my_tuple:\n",
        "  print('yes', 'kiwi is in it')\n",
        "else:\n",
        "  print('no','kiwi is not here' )\n"
      ],
      "metadata": {
        "colab": {
          "base_uri": "https://localhost:8080/"
        },
        "id": "ZAB24RqSBqqy",
        "outputId": "61c1733b-3d35-4928-b233-c8cdd85c3c64"
      },
      "execution_count": null,
      "outputs": [
        {
          "output_type": "stream",
          "name": "stdout",
          "text": [
            "no kiwi is not here\n"
          ]
        }
      ]
    },
    {
      "cell_type": "code",
      "source": [
        "#16. Write a code to create a set with the elements 'a', 'b', 'c' and print it.\n",
        "my_set = {'a', 'b','c' }\n",
        "print(my_set)\n"
      ],
      "metadata": {
        "id": "rowIv0N2HBUx",
        "colab": {
          "base_uri": "https://localhost:8080/"
        },
        "outputId": "eebabbbf-0134-4245-8d50-3f4d80e0d8cf"
      },
      "execution_count": null,
      "outputs": [
        {
          "output_type": "stream",
          "name": "stdout",
          "text": [
            "{'a', 'c', 'b'}\n"
          ]
        }
      ]
    },
    {
      "cell_type": "code",
      "source": [
        " #17. Write a code to clear all elements from the set {1, 2, 3, 4, 5}.\n",
        "my_set = {1, 2, 3, 4, 5}\n",
        "my_set.clear()\n",
        "print(my_set)\n"
      ],
      "metadata": {
        "colab": {
          "base_uri": "https://localhost:8080/"
        },
        "id": "5Fmai3bYFEgr",
        "outputId": "7113abdc-7362-449e-9226-2bce7a3b2ec6"
      },
      "execution_count": null,
      "outputs": [
        {
          "output_type": "stream",
          "name": "stdout",
          "text": [
            "set()\n"
          ]
        }
      ]
    },
    {
      "cell_type": "code",
      "source": [
        "# 18. Write a code to remove the element 4 from the set {1, 2, 3, 4}.\n",
        "my_set = {1, 2, 3, 4}\n",
        "my_set.remove(4)\n",
        "print(my_set)\n"
      ],
      "metadata": {
        "colab": {
          "base_uri": "https://localhost:8080/"
        },
        "id": "nOsOsBXeFyHo",
        "outputId": "ae89815c-f851-4ca5-9309-8335bf0283dd"
      },
      "execution_count": null,
      "outputs": [
        {
          "output_type": "stream",
          "name": "stdout",
          "text": [
            "{1, 2, 3}\n"
          ]
        }
      ]
    },
    {
      "cell_type": "code",
      "source": [
        " #19. Write a code to find the union of two sets {1, 2, 3} and {3, 4, 5}.\n",
        "a = {1, 2, 3}\n",
        "b = {3, 4, 5}\n",
        "print(a.union(b))\n"
      ],
      "metadata": {
        "colab": {
          "base_uri": "https://localhost:8080/"
        },
        "id": "3DbKLE7oF98P",
        "outputId": "3d5cebdf-c7a5-45e8-ce8c-9d23761dd3fc"
      },
      "execution_count": null,
      "outputs": [
        {
          "output_type": "stream",
          "name": "stdout",
          "text": [
            "{1, 2, 3, 4, 5}\n"
          ]
        }
      ]
    },
    {
      "cell_type": "code",
      "source": [
        " #20. Write a code to find the intersection of two sets {1, 2, 3} and {2, 3, 4}.\n",
        "a = {1, 2, 3}\n",
        "b = {2, 3, 4}\n",
        "print(a.intersection(b))\n"
      ],
      "metadata": {
        "colab": {
          "base_uri": "https://localhost:8080/"
        },
        "id": "ehcoIT2jG3JU",
        "outputId": "3ba29de0-0cfd-42ab-e029-c6e7374d0b5f"
      },
      "execution_count": null,
      "outputs": [
        {
          "output_type": "stream",
          "name": "stdout",
          "text": [
            "{2, 3}\n"
          ]
        }
      ]
    },
    {
      "cell_type": "code",
      "source": [
        " #21. Write a code to create a dictionary with the keys \"name\", \"age\", and \"city\", and print it.\n",
        "my_dictionary = {\"name\":\"shashi\", \"age\": 29, \"city\":\"mumbai\"}\n",
        "print(my_dictionary)"
      ],
      "metadata": {
        "colab": {
          "base_uri": "https://localhost:8080/"
        },
        "id": "SvBA4amcH-fF",
        "outputId": "4592031d-6b7f-44f9-e993-3ce031e12d8a"
      },
      "execution_count": null,
      "outputs": [
        {
          "output_type": "stream",
          "name": "stdout",
          "text": [
            "{'name': 'shashi', 'age': 29, 'city': 'mumbai'}\n"
          ]
        }
      ]
    },
    {
      "cell_type": "code",
      "source": [
        " #22. Write a code to add a new key-value pair \"country\": \"USA\" to the dictionary {'name': 'John', 'age': 25}.\n",
        "my_dictionary = {'name': 'John', 'age': 25}\n",
        "my_dictionary['country'] = \"USA\"\n",
        "print(my_dictionary)"
      ],
      "metadata": {
        "colab": {
          "base_uri": "https://localhost:8080/"
        },
        "id": "Dc-RVTyQLBof",
        "outputId": "ee858880-5353-4e5a-d0a3-5f33f4f9ec95"
      },
      "execution_count": null,
      "outputs": [
        {
          "output_type": "stream",
          "name": "stdout",
          "text": [
            "{'name': 'John', 'age': 25, 'country': 'USA'}\n"
          ]
        }
      ]
    },
    {
      "cell_type": "code",
      "source": [
        " #23. Write a code to access the value associated with the key \"name\" in the dictionary {'name': 'Alice', 'age': 30}.\n",
        "my_dictionary = {'name': 'Alice', 'age': 30}\n",
        "name_of_person = my_dictionary['name']\n",
        "print(name_of_person)"
      ],
      "metadata": {
        "colab": {
          "base_uri": "https://localhost:8080/"
        },
        "id": "A6SJilD6MquO",
        "outputId": "dcb5c31a-3342-454c-95c0-c636b271a0e7"
      },
      "execution_count": null,
      "outputs": [
        {
          "output_type": "stream",
          "name": "stdout",
          "text": [
            "Alice\n"
          ]
        }
      ]
    },
    {
      "cell_type": "code",
      "source": [
        " #24. Write a code to remove the key \"age\" from the dictionary {'name': 'Bob', 'age': 22, 'city': 'New York'}.\n",
        "my_dictionary = {'name': 'Bob', 'age': 22, 'city': 'New York'}\n",
        "my_age = my_dictionary.pop('age')\n",
        "print(my_dictionary)"
      ],
      "metadata": {
        "colab": {
          "base_uri": "https://localhost:8080/"
        },
        "id": "ctHL2ACoOTVt",
        "outputId": "8440a3b3-3b72-4f7c-882b-df6d1977b78f"
      },
      "execution_count": null,
      "outputs": [
        {
          "output_type": "stream",
          "name": "stdout",
          "text": [
            "{'name': 'Bob', 'city': 'New York'}\n"
          ]
        }
      ]
    },
    {
      "cell_type": "code",
      "source": [
        "# 25. Write a code to check if the key \"city\" exists in the dictionary {'name': 'Alice', 'city': 'Paris'}.\n",
        "my_dict = {'name': 'Alice', 'city': 'Paris'}\n",
        "if \"city\" in my_dict:\n",
        "  print(\"city exists in the dictionary\")\n",
        "else:\n",
        "  print(\"city not exists in the dictionary\")"
      ],
      "metadata": {
        "id": "mW06j6bwQtlw",
        "colab": {
          "base_uri": "https://localhost:8080/"
        },
        "outputId": "43cbbabd-5f77-4acd-ccb5-66cb7fd14f5d"
      },
      "execution_count": null,
      "outputs": [
        {
          "output_type": "stream",
          "name": "stdout",
          "text": [
            "city exists in the dictionary\n"
          ]
        }
      ]
    },
    {
      "cell_type": "code",
      "source": [
        "# 26. Write a code to create a list, a tuple, and a dictionary, and print them all.\n",
        "my_list = [10, 20, 30, 40, 50]\n",
        "my_tuple = ('mango', 'banana', 'orange', 'kiwi' )\n",
        "my_dict = {'name': 'shashi', 'age': 29, 'city': 'mumbai'}\n",
        "\n",
        "print(\"list\", my_list)\n",
        "print(\"tuple\", my_tuple)\n",
        "print(\"dictionary\", my_dict)\n"
      ],
      "metadata": {
        "colab": {
          "base_uri": "https://localhost:8080/"
        },
        "id": "hkgdJblYmOy_",
        "outputId": "3211d7fb-6023-40b0-efe7-759e9c8da596"
      },
      "execution_count": null,
      "outputs": [
        {
          "output_type": "stream",
          "name": "stdout",
          "text": [
            "list [10, 20, 30, 40, 50]\n",
            "tuple ('mango', 'banana', 'orange', 'kiwi')\n",
            "dictionary {'name': 'shashi', 'age': 29, 'city': 'mumbai'}\n"
          ]
        }
      ]
    },
    {
      "cell_type": "code",
      "source": [
        " #27. Write a code to create a list of 5 random numbers between 1 and 100, sort it in ascending order, and print the\n",
        " # result.(replaced).\n",
        "import random\n",
        "# Generate a list of 5 random numbers between 1 and 100\n",
        "random_numbers = [ random.randint(1, 100) for _ in range(5)]\n",
        "#sort the list in ascending order\n",
        "\n",
        "random_numbers.sort()\n",
        "\n",
        "print('sorted random numbers:', random_numbers)\n"
      ],
      "metadata": {
        "id": "l5fnTViprIod",
        "colab": {
          "base_uri": "https://localhost:8080/"
        },
        "outputId": "03b808ed-62dc-479b-ba6c-d71890f47509"
      },
      "execution_count": null,
      "outputs": [
        {
          "output_type": "stream",
          "name": "stdout",
          "text": [
            "sorted random numbers: [15, 22, 44, 47, 53]\n"
          ]
        }
      ]
    },
    {
      "cell_type": "code",
      "source": [
        "#28. Write a code to create a list with strings and print the element at the third index.\n",
        "string_list = ['apple', 'cherry', 'orange', 'kiwi', 'banana']\n",
        "third_index = string_list[3]\n",
        "print(\"the element at the third index\", third_index)\n"
      ],
      "metadata": {
        "colab": {
          "base_uri": "https://localhost:8080/"
        },
        "id": "DojWHv0tUNzn",
        "outputId": "3dad0d3d-5a8f-4ffa-b543-589464e5f040"
      },
      "execution_count": null,
      "outputs": [
        {
          "output_type": "stream",
          "name": "stdout",
          "text": [
            "the element at the third index kiwi\n"
          ]
        }
      ]
    },
    {
      "cell_type": "code",
      "source": [
        "# 29. Write a code to combine two dictionaries into one and print the result.\n",
        "dict1 = {'name': 'Divya', 'age': 24, }\n",
        "dict2 = {'city': 'kanpur', 'state': 'uttarprades'}\n",
        "#Combine two dictionaries using the update() method\n",
        "combined_dict = dict1.copy()\n",
        "combined_dict.update(dict2)\n",
        "print(\"combined dictionary:\", combined_dict)\n"
      ],
      "metadata": {
        "colab": {
          "base_uri": "https://localhost:8080/"
        },
        "id": "sgHYNs-iW7RU",
        "outputId": "96d913c2-9344-4658-fa94-4e25aa417006"
      },
      "execution_count": null,
      "outputs": [
        {
          "output_type": "stream",
          "name": "stdout",
          "text": [
            "combined dictionary: {'name': 'Divya', 'age': 24, 'city': 'kanpur', 'state': 'uttarprades'}\n"
          ]
        }
      ]
    },
    {
      "cell_type": "code",
      "source": [
        "# 30. Write a code to convert a list of strings into a set.\n",
        "string_list = ['mango', 'banana', 'cherry', 'apple', 'banana', 'mango']\n",
        "#converting list of string into a set\n",
        "string_set = set(string_list)\n",
        "print('set:', string_set)#set donot allow dublicate value"
      ],
      "metadata": {
        "colab": {
          "base_uri": "https://localhost:8080/"
        },
        "id": "TNfaqOasLTJY",
        "outputId": "c886d8f2-3b39-4bdc-e42a-4c480fe8d19f"
      },
      "execution_count": null,
      "outputs": [
        {
          "output_type": "stream",
          "name": "stdout",
          "text": [
            "set: {'mango', 'banana', 'cherry', 'apple'}\n"
          ]
        }
      ]
    }
  ]
}